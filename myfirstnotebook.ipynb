{
  "cells": [
    {
      "cell_type": "markdown",
      "metadata": {
        "id": "view-in-github",
        "colab_type": "text"
      },
      "source": [
        "<a href=\"https://colab.research.google.com/github/MJanbandhu/PySpark-MLlib/blob/main/myfirstnotebook.ipynb\" target=\"_parent\"><img src=\"https://colab.research.google.com/assets/colab-badge.svg\" alt=\"Open In Colab\"/></a>"
      ]
    },
    {
      "cell_type": "code",
      "execution_count": null,
      "id": "33cc7bf5",
      "metadata": {
        "id": "33cc7bf5",
        "outputId": "9fa36a37-e803-4084-aee1-c219a94316a2"
      },
      "outputs": [
        {
          "name": "stdout",
          "output_type": "stream",
          "text": [
            "apple\n",
            "mango\n"
          ]
        }
      ],
      "source": [
        "print('apple')\n",
        "print('mango')"
      ]
    },
    {
      "cell_type": "markdown",
      "id": "50368652",
      "metadata": {
        "id": "50368652"
      },
      "source": [
        "# Heading\n",
        "## Heading\n",
        "### Heading\n",
        "\n"
      ]
    },
    {
      "cell_type": "markdown",
      "id": "8a1e7f71",
      "metadata": {
        "id": "8a1e7f71"
      },
      "source": [
        "## How to open jupyter notebook\n",
        "\n",
        "first open your anaconda prompt, then ..........."
      ]
    },
    {
      "cell_type": "markdown",
      "id": "46499b6e",
      "metadata": {
        "id": "46499b6e"
      },
      "source": [
        "## my heading\n",
        "\n",
        "I am writing normal text\n",
        "\n",
        "*I am writing normal text*\n",
        "\n",
        "* point 1\n",
        "* point 2\n",
        "* point 3"
      ]
    },
    {
      "cell_type": "markdown",
      "id": "48650e1a",
      "metadata": {
        "id": "48650e1a"
      },
      "source": [
        "## my heading\n",
        "\n",
        "I am writing normal text\n",
        "\n",
        "*I am writing normal text*\n",
        "\n",
        "* point 1\n",
        "* point 2\n",
        "* point 3"
      ]
    },
    {
      "cell_type": "code",
      "execution_count": null,
      "id": "ad0a3a2c",
      "metadata": {
        "id": "ad0a3a2c"
      },
      "outputs": [],
      "source": []
    },
    {
      "cell_type": "markdown",
      "id": "c1b873ca",
      "metadata": {
        "id": "c1b873ca"
      },
      "source": [
        "* to run a cell --> shift + enter\n",
        "* create a cell below --> b\n",
        "* create a cell above --> a\n",
        "* delete a cell       --> dd\n",
        "* undo a deleted cell --> z\n",
        "* convert into a markdown cell --> m\n",
        "* convert into code cell --> y\n",
        "* copy a cell --> c\n",
        "* paste a cell --> v\n"
      ]
    },
    {
      "cell_type": "code",
      "execution_count": null,
      "id": "3cd05e5b",
      "metadata": {
        "id": "3cd05e5b"
      },
      "outputs": [],
      "source": [
        "print(\"banana\")\n",
        "print(\"orange\")"
      ]
    },
    {
      "cell_type": "markdown",
      "id": "bc60e339",
      "metadata": {
        "id": "bc60e339"
      },
      "source": [
        "## Identifiers"
      ]
    },
    {
      "cell_type": "code",
      "execution_count": null,
      "id": "59c2603b",
      "metadata": {
        "id": "59c2603b",
        "outputId": "240a6524-0e72-4aca-c1d1-6221dc08ba28"
      },
      "outputs": [
        {
          "name": "stdout",
          "output_type": "stream",
          "text": [
            "7\n"
          ]
        }
      ],
      "source": [
        "a = 7\n",
        "print(a)"
      ]
    },
    {
      "cell_type": "code",
      "execution_count": null,
      "id": "d5cbbcfd",
      "metadata": {
        "id": "d5cbbcfd"
      },
      "outputs": [],
      "source": [
        "a23 = 7"
      ]
    },
    {
      "cell_type": "code",
      "execution_count": null,
      "id": "fa133020",
      "metadata": {
        "id": "fa133020",
        "outputId": "fb9ffe81-e2e9-446c-935b-694d56e69a0a"
      },
      "outputs": [
        {
          "name": "stdout",
          "output_type": "stream",
          "text": [
            "7\n"
          ]
        }
      ],
      "source": [
        "print(a23)"
      ]
    },
    {
      "cell_type": "code",
      "execution_count": null,
      "id": "7bdaabe3",
      "metadata": {
        "id": "7bdaabe3",
        "outputId": "26971b7d-f015-4ae2-c3b1-4bce198bf356"
      },
      "outputs": [
        {
          "ename": "SyntaxError",
          "evalue": "invalid decimal literal (1256000078.py, line 1)",
          "output_type": "error",
          "traceback": [
            "\u001b[1;36m  Cell \u001b[1;32mIn[8], line 1\u001b[1;36m\u001b[0m\n\u001b[1;33m    23a = 7\u001b[0m\n\u001b[1;37m     ^\u001b[0m\n\u001b[1;31mSyntaxError\u001b[0m\u001b[1;31m:\u001b[0m invalid decimal literal\n"
          ]
        }
      ],
      "source": [
        "23a = 7"
      ]
    },
    {
      "cell_type": "code",
      "execution_count": null,
      "id": "88cb7654",
      "metadata": {
        "id": "88cb7654"
      },
      "outputs": [],
      "source": [
        "abc123 = 7"
      ]
    },
    {
      "cell_type": "code",
      "execution_count": null,
      "id": "d0d645fd",
      "metadata": {
        "id": "d0d645fd",
        "outputId": "76066a4d-328e-4642-b4b1-45f6d6ca2821"
      },
      "outputs": [
        {
          "name": "stdout",
          "output_type": "stream",
          "text": [
            "7\n"
          ]
        }
      ],
      "source": [
        "print(abc123)"
      ]
    },
    {
      "cell_type": "code",
      "execution_count": null,
      "id": "ca649a94",
      "metadata": {
        "id": "ca649a94",
        "outputId": "4377a08d-bb94-42f3-d895-c50341e8fddc"
      },
      "outputs": [
        {
          "ename": "SyntaxError",
          "evalue": "cannot assign to expression here. Maybe you meant '==' instead of '='? (3377406289.py, line 1)",
          "output_type": "error",
          "traceback": [
            "\u001b[1;36m  Cell \u001b[1;32mIn[11], line 1\u001b[1;36m\u001b[0m\n\u001b[1;33m    a@2 = 7\u001b[0m\n\u001b[1;37m    ^\u001b[0m\n\u001b[1;31mSyntaxError\u001b[0m\u001b[1;31m:\u001b[0m cannot assign to expression here. Maybe you meant '==' instead of '='?\n"
          ]
        }
      ],
      "source": [
        "a@2 = 7"
      ]
    },
    {
      "cell_type": "code",
      "execution_count": null,
      "id": "820423db",
      "metadata": {
        "id": "820423db"
      },
      "outputs": [],
      "source": [
        "a_2 = 7"
      ]
    },
    {
      "cell_type": "code",
      "execution_count": null,
      "id": "142ae01d",
      "metadata": {
        "id": "142ae01d",
        "outputId": "5a52afc9-e947-4827-fef3-f9c4f1bf5716"
      },
      "outputs": [
        {
          "name": "stdout",
          "output_type": "stream",
          "text": [
            "7\n"
          ]
        }
      ],
      "source": [
        "print(a_2)"
      ]
    },
    {
      "cell_type": "markdown",
      "id": "01eadd5f",
      "metadata": {
        "id": "01eadd5f"
      },
      "source": [
        "## Keywords\n",
        "\n",
        "Special/reserved words in python which have special functionality"
      ]
    },
    {
      "cell_type": "code",
      "execution_count": null,
      "id": "4f66a0d3",
      "metadata": {
        "id": "4f66a0d3",
        "outputId": "44a7142b-ed83-4177-abe1-7a7240df8b10"
      },
      "outputs": [
        {
          "name": "stdout",
          "output_type": "stream",
          "text": [
            "['False', 'None', 'True', 'and', 'as', 'assert', 'async', 'await', 'break', 'class', 'continue', 'def', 'del', 'elif', 'else', 'except', 'finally', 'for', 'from', 'global', 'if', 'import', 'in', 'is', 'lambda', 'nonlocal', 'not', 'or', 'pass', 'raise', 'return', 'try', 'while', 'with', 'yield']\n"
          ]
        }
      ],
      "source": [
        "import keyword\n",
        "print(keyword.kwlist)"
      ]
    },
    {
      "cell_type": "code",
      "execution_count": null,
      "id": "e8a19f78",
      "metadata": {
        "id": "e8a19f78",
        "outputId": "53ef2f6f-e507-4980-841d-5d967500cd2b"
      },
      "outputs": [
        {
          "ename": "SyntaxError",
          "evalue": "cannot assign to False (2861791734.py, line 1)",
          "output_type": "error",
          "traceback": [
            "\u001b[1;36m  Cell \u001b[1;32mIn[17], line 1\u001b[1;36m\u001b[0m\n\u001b[1;33m    False = 2\u001b[0m\n\u001b[1;37m    ^\u001b[0m\n\u001b[1;31mSyntaxError\u001b[0m\u001b[1;31m:\u001b[0m cannot assign to False\n"
          ]
        }
      ],
      "source": [
        "False = 2"
      ]
    },
    {
      "cell_type": "code",
      "execution_count": null,
      "id": "c3472ab6",
      "metadata": {
        "id": "c3472ab6"
      },
      "outputs": [],
      "source": [
        "kwlist = 5"
      ]
    },
    {
      "cell_type": "code",
      "execution_count": null,
      "id": "d88eedf8",
      "metadata": {
        "id": "d88eedf8",
        "outputId": "6fb4bfad-0b4e-4929-dba2-9139602f1909"
      },
      "outputs": [
        {
          "name": "stdout",
          "output_type": "stream",
          "text": [
            "5\n"
          ]
        }
      ],
      "source": [
        "print(kwlist)"
      ]
    },
    {
      "cell_type": "markdown",
      "id": "0bc7b7d4",
      "metadata": {
        "id": "0bc7b7d4"
      },
      "source": [
        "## COMMENT"
      ]
    },
    {
      "cell_type": "markdown",
      "id": "6dc41882",
      "metadata": {
        "id": "6dc41882"
      },
      "source": [
        "### SIngle line comment"
      ]
    },
    {
      "cell_type": "code",
      "execution_count": null,
      "id": "7d7f79e6",
      "metadata": {
        "id": "7d7f79e6",
        "outputId": "2515c9cb-691e-4ec0-977a-183abf3dfeec"
      },
      "outputs": [
        {
          "name": "stdout",
          "output_type": "stream",
          "text": [
            "mango\n"
          ]
        }
      ],
      "source": [
        "#print('apple')\n",
        "#print('orange')\n",
        "print(\"mango\")"
      ]
    },
    {
      "cell_type": "code",
      "execution_count": null,
      "id": "6271328a",
      "metadata": {
        "id": "6271328a",
        "outputId": "b08362c2-f32e-48a1-c2d7-31664693befe"
      },
      "outputs": [
        {
          "name": "stdout",
          "output_type": "stream",
          "text": [
            "Hello world\n"
          ]
        }
      ],
      "source": [
        "# The below code will print Hello world\n",
        "print(\"Hello world\")"
      ]
    },
    {
      "cell_type": "markdown",
      "id": "93150266",
      "metadata": {
        "id": "93150266"
      },
      "source": [
        "### Multi line commenting"
      ]
    },
    {
      "cell_type": "markdown",
      "id": "9f4b813a",
      "metadata": {
        "id": "9f4b813a"
      },
      "source": [
        "For commenting over multiple lines --> Select the portion --> ctrl + /"
      ]
    },
    {
      "cell_type": "code",
      "execution_count": null,
      "id": "1e03c3dd",
      "metadata": {
        "id": "1e03c3dd",
        "outputId": "d288a71f-b462-4ce3-e8f9-3c3e77eac01c"
      },
      "outputs": [
        {
          "name": "stdout",
          "output_type": "stream",
          "text": [
            "apple\n"
          ]
        }
      ],
      "source": [
        "# asdsadasdasdasd\n",
        "# asdasdasdasdjkjbadkbabjd\n",
        "# ashbdhasbdhbaskdbakdfbjabdfba\n",
        "# adj vfjavdjasjdvjadsa\n",
        "\n",
        "print('apple')"
      ]
    },
    {
      "cell_type": "code",
      "execution_count": null,
      "id": "5e65c350",
      "metadata": {
        "id": "5e65c350",
        "outputId": "99acf435-d079-49b1-b0d0-d7be79a824a1"
      },
      "outputs": [
        {
          "name": "stdout",
          "output_type": "stream",
          "text": [
            "apple\n"
          ]
        }
      ],
      "source": [
        "\"\"\"sdasdasdasdasd\n",
        "ahsdbvabdjhbashdbhkasdbhk\n",
        "ajsdvjasdbhasbdhkasbkdbkasdbkasbdk\n",
        "ajd hkasbdkasbdjknasjdnjasdnjasjndnas\"\"\"\n",
        "\n",
        "print('apple')"
      ]
    },
    {
      "cell_type": "markdown",
      "id": "4518fb18",
      "metadata": {
        "id": "4518fb18"
      },
      "source": [
        "## Statement"
      ]
    },
    {
      "cell_type": "code",
      "execution_count": null,
      "id": "03748a9d",
      "metadata": {
        "id": "03748a9d",
        "outputId": "8dacd4fe-88cf-458d-cb35-41094e7f981e"
      },
      "outputs": [
        {
          "name": "stdout",
          "output_type": "stream",
          "text": [
            "5 8\n",
            "8 13\n"
          ]
        }
      ],
      "source": [
        "# single line statement\n",
        "a = 5\n",
        "b = 8\n",
        "print(a,b)\n",
        "\n",
        "c = 2 + 4 + 2\n",
        "d = 3 + 5 + 5\n",
        "print(c,d)"
      ]
    },
    {
      "cell_type": "code",
      "execution_count": null,
      "id": "4f177925",
      "metadata": {
        "id": "4f177925",
        "outputId": "16f3e0cd-2a80-4f3e-91cf-1cb7c48907e7"
      },
      "outputs": [
        {
          "data": {
            "text/plain": [
              "150"
            ]
          },
          "execution_count": 3,
          "metadata": {},
          "output_type": "execute_result"
        }
      ],
      "source": [
        "e = 20 + 30\n",
        "+ 40 + 50\n",
        "+ 70 + 80"
      ]
    },
    {
      "cell_type": "code",
      "execution_count": null,
      "id": "faba4b93",
      "metadata": {
        "id": "faba4b93",
        "outputId": "d60727ea-3cc0-4c76-97c7-7d3f84695c7d"
      },
      "outputs": [
        {
          "name": "stdout",
          "output_type": "stream",
          "text": [
            "50\n"
          ]
        }
      ],
      "source": [
        "print(e)"
      ]
    },
    {
      "cell_type": "code",
      "execution_count": null,
      "id": "c471d11d",
      "metadata": {
        "id": "c471d11d"
      },
      "outputs": [],
      "source": [
        "# multi line statement\n",
        "\n",
        "e = 20 + 30 \\\n",
        "+ 40 + 50 \\\n",
        "+ 70 + 80"
      ]
    },
    {
      "cell_type": "code",
      "execution_count": null,
      "id": "19b6b95c",
      "metadata": {
        "id": "19b6b95c",
        "outputId": "6f08b672-0af4-4650-fea3-376d9314926a"
      },
      "outputs": [
        {
          "name": "stdout",
          "output_type": "stream",
          "text": [
            "290\n"
          ]
        }
      ],
      "source": [
        "print(e)"
      ]
    },
    {
      "cell_type": "markdown",
      "id": "6eca7cc6",
      "metadata": {
        "id": "6eca7cc6"
      },
      "source": [
        "### Variable assignment"
      ]
    },
    {
      "cell_type": "code",
      "execution_count": null,
      "id": "bfac9958",
      "metadata": {
        "id": "bfac9958"
      },
      "outputs": [],
      "source": [
        "# single line assignment\n",
        "a = 8 #integer\n",
        "b = 5.4 #float\n",
        "c = \"apple\" # string\n",
        "d = True # boolean\n",
        "e = False # boolean\n",
        "\n",
        "# multiple assignment\n",
        "\n",
        "x,y,z = 10,20,30"
      ]
    },
    {
      "cell_type": "code",
      "execution_count": null,
      "id": "84133e05",
      "metadata": {
        "id": "84133e05",
        "outputId": "e991a761-3e36-40ce-f941-604c1ef23dfd"
      },
      "outputs": [
        {
          "name": "stdout",
          "output_type": "stream",
          "text": [
            "5.4\n",
            "20\n"
          ]
        }
      ],
      "source": [
        "print(b)\n",
        "print(y)"
      ]
    },
    {
      "cell_type": "code",
      "execution_count": null,
      "id": "abea6e1d",
      "metadata": {
        "id": "abea6e1d",
        "outputId": "a8b10569-7080-4236-abcf-3ff8e9a79d8c"
      },
      "outputs": [
        {
          "name": "stdout",
          "output_type": "stream",
          "text": [
            "<class 'int'>\n",
            "<class 'float'>\n",
            "<class 'str'>\n",
            "<class 'bool'>\n"
          ]
        }
      ],
      "source": [
        "print(type(a))\n",
        "print(type(b))\n",
        "print(type(c))\n",
        "print(type(d))"
      ]
    },
    {
      "cell_type": "markdown",
      "id": "1818eea5",
      "metadata": {
        "id": "1818eea5"
      },
      "source": [
        "## Numeric\n",
        "\n",
        "* Integer\n",
        "* Float"
      ]
    },
    {
      "cell_type": "code",
      "execution_count": null,
      "id": "1f56b054",
      "metadata": {
        "id": "1f56b054"
      },
      "outputs": [],
      "source": [
        "import sys"
      ]
    },
    {
      "cell_type": "code",
      "execution_count": null,
      "id": "27977439",
      "metadata": {
        "id": "27977439",
        "outputId": "67d23173-b08f-42c9-efd8-d44149c7d822"
      },
      "outputs": [
        {
          "name": "stdout",
          "output_type": "stream",
          "text": [
            "1000\n",
            "<class 'int'>\n",
            "28\n",
            "True\n",
            "False\n"
          ]
        }
      ],
      "source": [
        "# integer\n",
        "intvar = 1000\n",
        "print(intvar)\n",
        "print(type(intvar))\n",
        "print(sys.getsizeof(intvar))\n",
        "print(isinstance(intvar,int))\n",
        "print(isinstance(intvar,float))"
      ]
    },
    {
      "cell_type": "code",
      "execution_count": null,
      "id": "e5389c27",
      "metadata": {
        "id": "e5389c27",
        "outputId": "edb15b58-747e-455c-ec4f-5556764d9743"
      },
      "outputs": [
        {
          "name": "stdout",
          "output_type": "stream",
          "text": [
            "10.23234242423423\n",
            "<class 'float'>\n",
            "24\n",
            "True\n"
          ]
        }
      ],
      "source": [
        "# Float\n",
        "floatvar = 10.23234242423423\n",
        "print(floatvar)\n",
        "print(type(floatvar))\n",
        "print(sys.getsizeof(floatvar))\n",
        "print(isinstance(floatvar,float))"
      ]
    },
    {
      "cell_type": "code",
      "execution_count": null,
      "id": "99eff674",
      "metadata": {
        "id": "99eff674",
        "outputId": "f2238ca2-d462-4a01-803f-627b251e7201"
      },
      "outputs": [
        {
          "name": "stdout",
          "output_type": "stream",
          "text": [
            "<class 'bool'>\n",
            "True\n",
            "True\n",
            "True\n",
            "True\n"
          ]
        }
      ],
      "source": [
        "# Boolean\n",
        "\n",
        "bool1 = True\n",
        "bool2 = False\n",
        "print(type(bool1))\n",
        "print(isinstance(bool1,bool))\n",
        "print(isinstance(bool1,int))\n",
        "print(isinstance(bool2,bool))\n",
        "print(isinstance(bool2,int))"
      ]
    },
    {
      "cell_type": "code",
      "execution_count": null,
      "id": "0be228db",
      "metadata": {
        "id": "0be228db",
        "outputId": "364eb323-3ef6-46dc-ada2-786498031950"
      },
      "outputs": [
        {
          "name": "stdout",
          "output_type": "stream",
          "text": [
            "True\n",
            "True\n",
            "True\n",
            "True\n",
            "False\n",
            "False\n",
            "True\n"
          ]
        }
      ],
      "source": [
        "print(bool(\"apple\"))\n",
        "print(bool(\"banana\"))\n",
        "print(bool(34))\n",
        "print(bool(45.35))\n",
        "print(bool(0))\n",
        "print(bool(\"\"))\n",
        "print(bool('adasadsafwsdfabjhsdbjasfb'))\n"
      ]
    },
    {
      "cell_type": "code",
      "execution_count": null,
      "id": "8cd94fa2",
      "metadata": {
        "id": "8cd94fa2",
        "outputId": "78281de4-1d88-4f11-c0ca-e375e69bbfd8"
      },
      "outputs": [
        {
          "name": "stdout",
          "output_type": "stream",
          "text": [
            "apple\n",
            "<class 'str'>\n",
            "54\n",
            "True\n"
          ]
        }
      ],
      "source": [
        "## string\n",
        "\n",
        "strvar = \"apple\"\n",
        "print(strvar)\n",
        "print(type(strvar))\n",
        "print(sys.getsizeof(strvar))\n",
        "print(isinstance(strvar,str))"
      ]
    },
    {
      "cell_type": "code",
      "execution_count": null,
      "id": "e522ab9c",
      "metadata": {
        "id": "e522ab9c",
        "outputId": "7e71da99-6d35-48f2-9e1d-53525e2a5d28"
      },
      "outputs": [
        {
          "name": "stdout",
          "output_type": "stream",
          "text": [
            "W\n",
            "W\n",
            "r\n",
            "r\n",
            "d\n"
          ]
        }
      ],
      "source": [
        "## String indexing\n",
        "myvar = \"Hello World\"\n",
        "# fetch 'W' from myvar\n",
        "print(myvar[6])\n",
        "print(myvar[-5])\n",
        "# fetch 'r' from myvar\n",
        "print(myvar[8])\n",
        "print(myvar[-3])\n",
        "# fetch the last character of myvar\n",
        "print(myvar[-1])"
      ]
    },
    {
      "cell_type": "code",
      "execution_count": null,
      "id": "a1dc40cf",
      "metadata": {
        "id": "a1dc40cf",
        "outputId": "20527bc8-431d-473a-bc5a-954bfe6d6880"
      },
      "outputs": [
        {
          "name": "stdout",
          "output_type": "stream",
          "text": [
            "Hello World\n",
            "11\n",
            "3\n",
            "True\n",
            "True\n",
            "False\n",
            "True\n",
            "1\n",
            "2\n"
          ]
        }
      ],
      "source": [
        "print(myvar)\n",
        "print(len(myvar))\n",
        "print(myvar.count('l'))\n",
        "print(myvar.startswith(\"He\"))\n",
        "print(myvar.startswith(\"Hell\"))\n",
        "print(myvar.startswith(\"err\"))\n",
        "print(myvar.endswith(\"ld\"))\n",
        "print(myvar.index(\"e\"))\n",
        "print(myvar.index('l'))"
      ]
    },
    {
      "cell_type": "code",
      "execution_count": null,
      "id": "ac067913",
      "metadata": {
        "id": "ac067913",
        "outputId": "a78ded0e-97a6-4b8d-9079-fd6f0d0c16bc"
      },
      "outputs": [
        {
          "name": "stdout",
          "output_type": "stream",
          "text": [
            "10.23\n",
            "<class 'float'>\n",
            "24\n",
            "True\n"
          ]
        }
      ],
      "source": [
        "import sys\n",
        "floatvar=10.23\n",
        "print(floatvar)\n",
        "print(type(floatvar))\n",
        "print(sys.getsizeof(floatvar))\n",
        "print(isinstance(floatvar,float))\n"
      ]
    },
    {
      "cell_type": "code",
      "execution_count": null,
      "id": "069fb96f",
      "metadata": {
        "id": "069fb96f",
        "outputId": "672b3006-d812-4a3e-e10a-39cd8778fd43"
      },
      "outputs": [
        {
          "name": "stdout",
          "output_type": "stream",
          "text": [
            "Love\n",
            "Love\n",
            "travel\n",
            "travel\n",
            "travel\n",
            "I Love\n",
            "I Love\n",
            "I Love\n",
            "I Love\n"
          ]
        }
      ],
      "source": [
        "mysen = \"I Love to travel\"\n",
        "# fetch 'love' from mysen(forward indexing)\n",
        "print(mysen[2:6:1])\n",
        "# using reverse indexing\n",
        "print(mysen[-14:-10:1])\n",
        "# fetch 'travel' from mysen\n",
        "print(mysen[10:16:1])\n",
        "print(mysen[10::1])\n",
        "# using reverse indexing\n",
        "print(mysen[-6::1])\n",
        "# fetch 'I Love' from mysen\n",
        "print(mysen[0:6:1])\n",
        "print(mysen[:6:1])\n",
        "## reverse indexing\n",
        "print(mysen[-16:-10:1])\n",
        "print(mysen[:-10:1])"
      ]
    },
    {
      "cell_type": "code",
      "execution_count": null,
      "id": "ce45e519",
      "metadata": {
        "id": "ce45e519",
        "outputId": "af1d2794-98c9-4d7b-aa78-0fe60e4c1fb9"
      },
      "outputs": [
        {
          "name": "stdout",
          "output_type": "stream",
          "text": [
            "A\n",
            "eroplan\n",
            "eoln\n",
            "epn\n",
            "alpor\n"
          ]
        }
      ],
      "source": [
        "myword = \"Aeroplane\"\n",
        "# fetch \"A\" from myword\n",
        "print(myword[0])\n",
        "# fetch \"eroplan\" from myword\n",
        "print(myword[1:8:1])\n",
        "# fetch \"eoln\" from myword\n",
        "print(myword[1:8:2])\n",
        "# fetch \"epn\" from myword\n",
        "print(myword[1:8:3])\n",
        "# fetch \"alpor\" from myword\n",
        "print(myword[-3:-8:-1])"
      ]
    },
    {
      "cell_type": "code",
      "execution_count": null,
      "id": "177f5d54",
      "metadata": {
        "id": "177f5d54",
        "outputId": "432dd386-f5b5-4926-e9f9-604886c901df"
      },
      "outputs": [
        {
          "ename": "TypeError",
          "evalue": "'str' object does not support item assignment",
          "output_type": "error",
          "traceback": [
            "\u001b[1;31m---------------------------------------------------------------------------\u001b[0m",
            "\u001b[1;31mTypeError\u001b[0m                                 Traceback (most recent call last)",
            "Cell \u001b[1;32mIn[18], line 2\u001b[0m\n\u001b[0;32m      1\u001b[0m \u001b[38;5;66;03m## Immutability\u001b[39;00m\n\u001b[1;32m----> 2\u001b[0m myword[\u001b[38;5;241m0\u001b[39m] \u001b[38;5;241m=\u001b[39m \u001b[38;5;124m'\u001b[39m\u001b[38;5;124ma\u001b[39m\u001b[38;5;124m'\u001b[39m\n",
            "\u001b[1;31mTypeError\u001b[0m: 'str' object does not support item assignment"
          ]
        }
      ],
      "source": [
        "## Immutability\n",
        "myword[0] = 'a'"
      ]
    },
    {
      "cell_type": "code",
      "execution_count": null,
      "id": "ebfe07d1",
      "metadata": {
        "id": "ebfe07d1",
        "outputId": "37180062-6372-4d24-a512-185236cb2a1c"
      },
      "outputs": [
        {
          "data": {
            "text/plain": [
              "'aeroplane'"
            ]
          },
          "execution_count": 19,
          "metadata": {},
          "output_type": "execute_result"
        }
      ],
      "source": [
        "myword.replace('A','a')"
      ]
    },
    {
      "cell_type": "code",
      "execution_count": null,
      "id": "aed28d63",
      "metadata": {
        "id": "aed28d63",
        "outputId": "203e5d8f-b65f-4503-c3e0-f401daf1b9a8"
      },
      "outputs": [
        {
          "data": {
            "text/plain": [
              "'Aeroplane'"
            ]
          },
          "execution_count": 20,
          "metadata": {},
          "output_type": "execute_result"
        }
      ],
      "source": [
        "myword"
      ]
    },
    {
      "cell_type": "code",
      "execution_count": null,
      "id": "ce862fa3",
      "metadata": {
        "id": "ce862fa3"
      },
      "outputs": [],
      "source": [
        "a = 'Data'\n",
        "b = \"science\""
      ]
    },
    {
      "cell_type": "code",
      "execution_count": null,
      "id": "86206c4d",
      "metadata": {
        "id": "86206c4d",
        "outputId": "f72c9dd6-7cc8-40f4-aadc-cf54b118cd47"
      },
      "outputs": [
        {
          "name": "stdout",
          "output_type": "stream",
          "text": [
            "Datascience\n",
            "Data science\n"
          ]
        }
      ],
      "source": [
        "print(a+b)\n",
        "print(a+ \" \" + b)"
      ]
    },
    {
      "cell_type": "code",
      "execution_count": null,
      "id": "b51b39fe",
      "metadata": {
        "id": "b51b39fe",
        "outputId": "0024e262-8c2c-4350-b1ac-ff6285653505"
      },
      "outputs": [
        {
          "name": "stdout",
          "output_type": "stream",
          "text": [
            "('Natural ', 'language', ' processing with Python')\n"
          ]
        }
      ],
      "source": [
        "mysen = \"Natural language processing with Python\"\n",
        "print(mysen.partition(\"language\"))"
      ]
    },
    {
      "cell_type": "code",
      "execution_count": null,
      "id": "3cdae216",
      "metadata": {
        "id": "3cdae216"
      },
      "outputs": [],
      "source": [
        "a = \" apple \""
      ]
    },
    {
      "cell_type": "code",
      "execution_count": null,
      "id": "187b2fb2",
      "metadata": {
        "id": "187b2fb2"
      },
      "outputs": [],
      "source": [
        "a = 'ball'"
      ]
    },
    {
      "cell_type": "code",
      "execution_count": null,
      "id": "b0bb0cf4",
      "metadata": {
        "id": "b0bb0cf4",
        "outputId": "47c8795b-23dc-49f8-a266-d1232be840bb"
      },
      "outputs": [
        {
          "name": "stdout",
          "output_type": "stream",
          "text": [
            " apple \n"
          ]
        }
      ],
      "source": [
        "print(a)"
      ]
    },
    {
      "cell_type": "code",
      "execution_count": null,
      "id": "90f41e95",
      "metadata": {
        "id": "90f41e95",
        "outputId": "40a9255a-b779-4981-9857-1aaa65ec2dc4"
      },
      "outputs": [
        {
          "data": {
            "text/plain": [
              "' '"
            ]
          },
          "execution_count": 30,
          "metadata": {},
          "output_type": "execute_result"
        }
      ],
      "source": [
        "a[0]"
      ]
    },
    {
      "cell_type": "code",
      "execution_count": null,
      "id": "626ae1c6",
      "metadata": {
        "id": "626ae1c6"
      },
      "outputs": [],
      "source": [
        "a = a.strip()"
      ]
    },
    {
      "cell_type": "code",
      "execution_count": null,
      "id": "289c0673",
      "metadata": {
        "id": "289c0673",
        "outputId": "1268b73f-164c-4bdd-f68f-8f61dff2651d"
      },
      "outputs": [
        {
          "name": "stdout",
          "output_type": "stream",
          "text": [
            "apple\n"
          ]
        }
      ],
      "source": [
        "print(a)"
      ]
    },
    {
      "cell_type": "code",
      "execution_count": null,
      "id": "d2c45b51",
      "metadata": {
        "id": "d2c45b51",
        "outputId": "91290314-168d-451c-a0b8-43097c068ee6"
      },
      "outputs": [
        {
          "name": "stdout",
          "output_type": "stream",
          "text": [
            "a\n"
          ]
        }
      ],
      "source": [
        "print(a[0])"
      ]
    },
    {
      "cell_type": "code",
      "execution_count": null,
      "id": "75ffd152",
      "metadata": {
        "id": "75ffd152",
        "outputId": "caf4e243-94b4-43ef-9a41-63fe30838cac"
      },
      "outputs": [
        {
          "name": "stdout",
          "output_type": "stream",
          "text": [
            "**************Hello world*****************\n",
            "Hello world\n"
          ]
        }
      ],
      "source": [
        "myword = \"**************Hello world*****************\"\n",
        "myword1 = myword.strip(\"*\")\n",
        "print(myword)\n",
        "print(myword1)"
      ]
    },
    {
      "cell_type": "code",
      "execution_count": null,
      "id": "0e04e582",
      "metadata": {
        "id": "0e04e582"
      },
      "outputs": [],
      "source": [
        "newword = \"         Samreen             \""
      ]
    },
    {
      "cell_type": "code",
      "execution_count": null,
      "id": "27741bcc",
      "metadata": {
        "id": "27741bcc",
        "outputId": "e86ad627-33a7-49da-e724-91f70491539d"
      },
      "outputs": [
        {
          "data": {
            "text/plain": [
              "29"
            ]
          },
          "execution_count": 43,
          "metadata": {},
          "output_type": "execute_result"
        }
      ],
      "source": [
        "len(newword)"
      ]
    },
    {
      "cell_type": "code",
      "execution_count": null,
      "id": "b09aa7d5",
      "metadata": {
        "id": "b09aa7d5"
      },
      "outputs": [],
      "source": [
        "newword = newword.strip()"
      ]
    },
    {
      "cell_type": "code",
      "execution_count": null,
      "id": "69c27652",
      "metadata": {
        "id": "69c27652",
        "outputId": "587c1137-c7a6-46d2-a599-cfdc8a57e2b1"
      },
      "outputs": [
        {
          "data": {
            "text/plain": [
              "7"
            ]
          },
          "execution_count": 45,
          "metadata": {},
          "output_type": "execute_result"
        }
      ],
      "source": [
        "len(newword)"
      ]
    },
    {
      "cell_type": "code",
      "execution_count": null,
      "id": "e831e1d6",
      "metadata": {
        "id": "e831e1d6",
        "outputId": "e02ee6ae-be7d-4cf9-9bf8-0ba55ddfc575"
      },
      "outputs": [
        {
          "data": {
            "text/plain": [
              "['I', 'love', 'to', 'play', 'video', 'games']"
            ]
          },
          "execution_count": 36,
          "metadata": {},
          "output_type": "execute_result"
        }
      ],
      "source": [
        "sen = \"I love to play video games\"\n",
        "sen.split()"
      ]
    },
    {
      "cell_type": "code",
      "execution_count": null,
      "id": "efa7351e",
      "metadata": {
        "id": "efa7351e",
        "outputId": "7a9b709d-dea7-46af-8260-758392e36912"
      },
      "outputs": [
        {
          "name": "stdout",
          "output_type": "stream",
          "text": [
            "['you', 'are', 'beatiful']\n"
          ]
        }
      ],
      "source": [
        "mynew = \"you are beatiful\"\n",
        "print(mynew.split())"
      ]
    },
    {
      "cell_type": "code",
      "execution_count": null,
      "id": "57600a19",
      "metadata": {
        "id": "57600a19"
      },
      "outputs": [],
      "source": []
    },
    {
      "cell_type": "code",
      "execution_count": null,
      "id": "3a501394",
      "metadata": {
        "id": "3a501394"
      },
      "outputs": [],
      "source": [
        "a = 'apple'\n",
        "b = 'ball'"
      ]
    },
    {
      "cell_type": "code",
      "execution_count": null,
      "id": "ce4059d7",
      "metadata": {
        "id": "ce4059d7",
        "outputId": "c01f3582-6208-4bdb-c585-e0d9e78f2a8f"
      },
      "outputs": [
        {
          "data": {
            "text/plain": [
              "'ball'"
            ]
          },
          "execution_count": 39,
          "metadata": {},
          "output_type": "execute_result"
        }
      ],
      "source": [
        "a\n",
        "b"
      ]
    },
    {
      "cell_type": "code",
      "execution_count": null,
      "id": "5da9d83b",
      "metadata": {
        "id": "5da9d83b",
        "outputId": "30597088-2dae-49ae-dd0c-b9681e49a084"
      },
      "outputs": [
        {
          "name": "stdout",
          "output_type": "stream",
          "text": [
            "apple\n",
            "ball\n"
          ]
        }
      ],
      "source": [
        "print(a)\n",
        "print(b)"
      ]
    },
    {
      "cell_type": "code",
      "execution_count": null,
      "id": "203840bf",
      "metadata": {
        "id": "203840bf"
      },
      "outputs": [],
      "source": [
        "mystr = \"Hello world\"\n",
        "mystr1 = mystr.replace(\"l\",'y')"
      ]
    },
    {
      "cell_type": "code",
      "execution_count": null,
      "id": "109e9bf3",
      "metadata": {
        "id": "109e9bf3",
        "outputId": "06c01cbf-5f2b-477b-d846-f17e5b564b82"
      },
      "outputs": [
        {
          "name": "stdout",
          "output_type": "stream",
          "text": [
            "Heyyo woryd\n",
            "Hello world\n"
          ]
        }
      ],
      "source": [
        "print(mystr1)\n",
        "print(mystr)"
      ]
    },
    {
      "cell_type": "code",
      "execution_count": null,
      "id": "4b94f878",
      "metadata": {
        "id": "4b94f878",
        "outputId": "52e47d46-e097-4944-ddb7-5e432e59958b"
      },
      "outputs": [
        {
          "name": "stdout",
          "output_type": "stream",
          "text": [
            "Hi My name is Nisarg and I am a Data Scientist\n"
          ]
        }
      ],
      "source": [
        "print('Hi My name is Nisarg and I am a Data Scientist')"
      ]
    },
    {
      "cell_type": "code",
      "execution_count": null,
      "id": "31f7d7fb",
      "metadata": {
        "id": "31f7d7fb"
      },
      "outputs": [],
      "source": [
        "name = \"Nisarg\"\n",
        "job = \"Data Scientist\""
      ]
    },
    {
      "cell_type": "code",
      "execution_count": null,
      "id": "b2f51d7e",
      "metadata": {
        "id": "b2f51d7e",
        "outputId": "90d05b3a-18d4-47f0-8acf-00f739a7dfa3"
      },
      "outputs": [
        {
          "name": "stdout",
          "output_type": "stream",
          "text": [
            "Hi My name is Nisarg and I am a Data Scientist\n"
          ]
        }
      ],
      "source": [
        "# .format method\n",
        "print(\"Hi My name is {} and I am a {}\".format(name,job))"
      ]
    },
    {
      "cell_type": "code",
      "execution_count": null,
      "id": "a8b6e03e",
      "metadata": {
        "id": "a8b6e03e",
        "outputId": "24637fb8-0969-42ad-dca4-bac2313f805e"
      },
      "outputs": [
        {
          "name": "stdout",
          "output_type": "stream",
          "text": [
            "The price of apple is 250 and price of banana is 100\n",
            "The price of apple is 250 and price of banana is 100\n",
            "The price of apple is 250 and price of banana is 100\n"
          ]
        }
      ],
      "source": [
        "price_banana = 100\n",
        "price_apple = 250\n",
        "\n",
        "# .format method\n",
        "print(\"The price of apple is {} and price of banana is {}\".format(price_apple,price_banana))\n",
        "\n",
        "# f string literals\n",
        "\n",
        "print(f\"The price of apple is {price_apple} and price of banana is {price_banana}\")\n",
        "\n",
        "print(\"The price of apple is\",price_apple,\"and price of banana is\",price_banana)"
      ]
    },
    {
      "cell_type": "markdown",
      "id": "822ef795",
      "metadata": {
        "id": "822ef795"
      },
      "source": [
        "## Typecasting"
      ]
    },
    {
      "cell_type": "code",
      "execution_count": null,
      "id": "971937e4",
      "metadata": {
        "id": "971937e4",
        "outputId": "4870fbef-6c08-4830-8c25-94615f1dd395"
      },
      "outputs": [
        {
          "data": {
            "text/plain": [
              "7"
            ]
          },
          "execution_count": 16,
          "metadata": {},
          "output_type": "execute_result"
        }
      ],
      "source": [
        "2 + 5"
      ]
    },
    {
      "cell_type": "code",
      "execution_count": null,
      "id": "70904701",
      "metadata": {
        "id": "70904701",
        "outputId": "f5e83949-9717-4b48-aa92-521282e504fd"
      },
      "outputs": [
        {
          "ename": "TypeError",
          "evalue": "unsupported operand type(s) for +: 'int' and 'str'",
          "output_type": "error",
          "traceback": [
            "\u001b[1;31m---------------------------------------------------------------------------\u001b[0m",
            "\u001b[1;31mTypeError\u001b[0m                                 Traceback (most recent call last)",
            "Cell \u001b[1;32mIn[17], line 1\u001b[0m\n\u001b[1;32m----> 1\u001b[0m \u001b[38;5;241m5\u001b[39m \u001b[38;5;241m+\u001b[39m \u001b[38;5;124m\"\u001b[39m\u001b[38;5;124mapple\u001b[39m\u001b[38;5;124m\"\u001b[39m\n",
            "\u001b[1;31mTypeError\u001b[0m: unsupported operand type(s) for +: 'int' and 'str'"
          ]
        }
      ],
      "source": [
        "5 + \"apple\""
      ]
    },
    {
      "cell_type": "code",
      "execution_count": null,
      "id": "7283b056",
      "metadata": {
        "id": "7283b056",
        "outputId": "1dca7f78-3c3d-49de-c53e-5759b3f90e27"
      },
      "outputs": [
        {
          "name": "stdout",
          "output_type": "stream",
          "text": [
            "7.0\n",
            "3\n"
          ]
        },
        {
          "ename": "TypeError",
          "evalue": "can only concatenate str (not \"int\") to str",
          "output_type": "error",
          "traceback": [
            "\u001b[1;31m---------------------------------------------------------------------------\u001b[0m",
            "\u001b[1;31mTypeError\u001b[0m                                 Traceback (most recent call last)",
            "Cell \u001b[1;32mIn[23], line 15\u001b[0m\n\u001b[0;32m     10\u001b[0m \u001b[38;5;28mprint\u001b[39m(\u001b[38;5;241m2\u001b[39m \u001b[38;5;241m+\u001b[39m \u001b[38;5;28;01mTrue\u001b[39;00m)\n\u001b[0;32m     11\u001b[0m \u001b[38;5;66;03m# 2 --> integer -->2\u001b[39;00m\n\u001b[0;32m     12\u001b[0m \u001b[38;5;66;03m# True --> bool --> int --> 1\u001b[39;00m\n\u001b[0;32m     13\u001b[0m \u001b[38;5;66;03m# 2 + 1 = 3\u001b[39;00m\n\u001b[1;32m---> 15\u001b[0m \u001b[38;5;28mprint\u001b[39m(\u001b[38;5;124m\"\u001b[39m\u001b[38;5;124m3\u001b[39m\u001b[38;5;124m\"\u001b[39m \u001b[38;5;241m+\u001b[39m \u001b[38;5;241m3\u001b[39m)\n",
            "\u001b[1;31mTypeError\u001b[0m: can only concatenate str (not \"int\") to str"
          ]
        }
      ],
      "source": [
        "## Typecasting --> It is a process of converting dissimilar datatypes to a similar datatype\n",
        "##                 so that the operation can happen.\n",
        "# Auto typecasting --> Automatically changing datatypes\n",
        "print(5.0 + 2)\n",
        "\n",
        "# 5.0 --> float --> 5.0\n",
        "# 2 ---> integer --> float --> 2.0\n",
        "# 5.0 + 2.0 = 7.0\n",
        "\n",
        "print(2 + True)\n",
        "# 2 --> integer -->2\n",
        "# True --> bool --> int --> 1\n",
        "# 2 + 1 = 3\n",
        "\n",
        "print(\"3\" + 3)"
      ]
    },
    {
      "cell_type": "code",
      "execution_count": null,
      "id": "ad9177df",
      "metadata": {
        "id": "ad9177df",
        "outputId": "dccbf82f-65ef-4a13-9d48-df6997f64759"
      },
      "outputs": [
        {
          "name": "stdout",
          "output_type": "stream",
          "text": [
            "<class 'int'>\n",
            "<class 'float'>\n",
            "5\n",
            "5.0\n",
            "=================\n",
            "<class 'int'>\n",
            "<class 'str'>\n",
            "78\n",
            "78\n"
          ]
        }
      ],
      "source": [
        "## Forced Typecasting --> Manual changing the datatype\n",
        "## int --> integer\n",
        "## float\n",
        "## str --> string\n",
        "## bool -- Boolean\n",
        "\n",
        "a = 5\n",
        "print(type(a))\n",
        "b = float(a)\n",
        "print(type(b))\n",
        "print(a)\n",
        "print(b)\n",
        "print(\"=================\")\n",
        "c = 78\n",
        "print(type(c))\n",
        "d = str(c)\n",
        "print(type(d))\n",
        "print(c)\n",
        "print(d)"
      ]
    },
    {
      "cell_type": "code",
      "execution_count": null,
      "id": "27d55ed3",
      "metadata": {
        "id": "27d55ed3",
        "outputId": "56605725-86fd-4794-bc8b-33bddcba3042"
      },
      "outputs": [
        {
          "name": "stdout",
          "output_type": "stream",
          "text": [
            "<class 'int'>\n",
            "True\n",
            "False\n",
            "False\n",
            "True\n"
          ]
        }
      ],
      "source": [
        "print(type(int(6.76)))\n",
        "print(bool(89))\n",
        "print(bool(0))\n",
        "print(bool(\"\"))\n",
        "print(bool(\"sdhgxhfcjgc\"))"
      ]
    },
    {
      "cell_type": "code",
      "execution_count": null,
      "id": "bdb14a09",
      "metadata": {
        "id": "bdb14a09",
        "outputId": "bc6e72f8-47c9-4b99-c442-f1fdb6ef3193"
      },
      "outputs": [
        {
          "ename": "ValueError",
          "evalue": "invalid literal for int() with base 10: 'apple'",
          "output_type": "error",
          "traceback": [
            "\u001b[1;31m---------------------------------------------------------------------------\u001b[0m",
            "\u001b[1;31mValueError\u001b[0m                                Traceback (most recent call last)",
            "Cell \u001b[1;32mIn[36], line 1\u001b[0m\n\u001b[1;32m----> 1\u001b[0m \u001b[38;5;28mint\u001b[39m(\u001b[38;5;124m'\u001b[39m\u001b[38;5;124mapple\u001b[39m\u001b[38;5;124m'\u001b[39m)\n",
            "\u001b[1;31mValueError\u001b[0m: invalid literal for int() with base 10: 'apple'"
          ]
        }
      ],
      "source": [
        "## conversion of string to integer is not possible except for the fact that the string\n",
        "## is a number --> \"65\", \"9\",\"546\"\n",
        "int('apple')"
      ]
    },
    {
      "cell_type": "code",
      "execution_count": null,
      "id": "c80fd494",
      "metadata": {
        "id": "c80fd494",
        "outputId": "671c2ae9-263c-4b64-9aef-3e2b9ced83ee"
      },
      "outputs": [
        {
          "data": {
            "text/plain": [
              "45"
            ]
          },
          "execution_count": 37,
          "metadata": {},
          "output_type": "execute_result"
        }
      ],
      "source": [
        "int(\"45\")"
      ]
    },
    {
      "cell_type": "code",
      "execution_count": null,
      "id": "d2bea177",
      "metadata": {
        "id": "d2bea177",
        "outputId": "80e44717-f6f3-4955-9a84-83fff5b35f08"
      },
      "outputs": [
        {
          "name": "stdout",
          "output_type": "stream",
          "text": [
            "6\n",
            "33\n"
          ]
        }
      ],
      "source": [
        "print(int(\"3\") + 3)\n",
        "print(\"3\" + str(3))"
      ]
    },
    {
      "cell_type": "code",
      "execution_count": null,
      "id": "84386cd3",
      "metadata": {
        "id": "84386cd3",
        "outputId": "54801ab2-7526-434e-c4a1-b4f03ccb8db4"
      },
      "outputs": [
        {
          "data": {
            "text/plain": [
              "14.9"
            ]
          },
          "execution_count": 42,
          "metadata": {},
          "output_type": "execute_result"
        }
      ],
      "source": [
        "int(\"5\") + 7.9 + bool(\"apple\") + True\n",
        "\n",
        "# int(\"5\") --> 5 --> 5.0\n",
        "# 7.9\n",
        "# bool('apple') --> True --> 1 --> 1.0\n",
        "# True --> 1 --> 1.0\n",
        "# 5.0 + 7.9 + 1.0 + 1.0"
      ]
    },
    {
      "cell_type": "code",
      "execution_count": null,
      "id": "986627a9",
      "metadata": {
        "id": "986627a9",
        "outputId": "00761a47-785d-4db7-b785-c7bc34e1131f"
      },
      "outputs": [
        {
          "name": "stdout",
          "output_type": "stream",
          "text": [
            "7\n",
            "3\n",
            "10\n",
            "2.5\n",
            "floor division of a by b = 2\n",
            "a modulus b = 1\n",
            "5 raise to power 2 is 25\n",
            "5 raise to power 3 is 125\n"
          ]
        }
      ],
      "source": [
        "## Arithmatic operators\n",
        "a = 5\n",
        "b = 2\n",
        "\n",
        "print(a+b)\n",
        "print(a-b)\n",
        "print(a*b)\n",
        "print(a/b)\n",
        "print(\"floor division of a by b = {}\".format(a//b))\n",
        "print(\"a modulus b = {}\".format(a%b))\n",
        "print(\"5 raise to power 2 is {}\".format(5**2))\n",
        "print(\"5 raise to power 3 is {}\".format(5**3))"
      ]
    },
    {
      "cell_type": "code",
      "execution_count": null,
      "id": "785fcf6b",
      "metadata": {
        "id": "785fcf6b",
        "outputId": "f20bf87f-6588-40a0-afff-b9e637b976e2"
      },
      "outputs": [
        {
          "name": "stdout",
          "output_type": "stream",
          "text": [
            "True\n",
            "False\n",
            "False\n",
            "True\n",
            "False\n",
            "True\n"
          ]
        }
      ],
      "source": [
        "a = 5\n",
        "b = 2\n",
        "\n",
        "print(a>b)\n",
        "print(a<b)\n",
        "print(a == b)\n",
        "print(a>=b)\n",
        "print(a<=b)\n",
        "print(a != b)"
      ]
    },
    {
      "cell_type": "code",
      "execution_count": null,
      "id": "897afc9b",
      "metadata": {
        "id": "897afc9b",
        "outputId": "e6878ba0-7c2e-488d-82d0-2e881cad74d7"
      },
      "outputs": [
        {
          "data": {
            "text/plain": [
              "False"
            ]
          },
          "execution_count": 64,
          "metadata": {},
          "output_type": "execute_result"
        }
      ],
      "source": [
        "'apple' > 'ball'"
      ]
    },
    {
      "cell_type": "code",
      "execution_count": null,
      "id": "df0e49eb",
      "metadata": {
        "id": "df0e49eb",
        "outputId": "816c1a34-97a5-46ec-e5dd-16e21278f3ac"
      },
      "outputs": [
        {
          "data": {
            "text/plain": [
              "False"
            ]
          },
          "execution_count": 65,
          "metadata": {},
          "output_type": "execute_result"
        }
      ],
      "source": [
        "-5.0 > -2.5\n"
      ]
    },
    {
      "cell_type": "markdown",
      "id": "b31a30b2",
      "metadata": {
        "id": "b31a30b2"
      },
      "source": [
        "### Logical operators"
      ]
    },
    {
      "cell_type": "code",
      "execution_count": null,
      "id": "b5154f16",
      "metadata": {
        "id": "b5154f16",
        "outputId": "8fd5821f-b320-410f-bb18-7dad71ecc5bc"
      },
      "outputs": [
        {
          "name": "stdout",
          "output_type": "stream",
          "text": [
            "True\n",
            "False\n",
            "False\n",
            "False\n",
            "==============\n",
            "True\n",
            "True\n",
            "True\n",
            "False\n"
          ]
        }
      ],
      "source": [
        "print(True and True)\n",
        "print(True and False)\n",
        "print(False and True)\n",
        "print(False and False)\n",
        "print(\"==============\")\n",
        "print(True or True)\n",
        "print(True or False)\n",
        "print(False or True)\n",
        "print(False or False)"
      ]
    },
    {
      "cell_type": "code",
      "execution_count": null,
      "id": "34701317",
      "metadata": {
        "id": "34701317",
        "outputId": "6c727a44-f517-4b53-9595-8f41c9e192f6"
      },
      "outputs": [
        {
          "name": "stdout",
          "output_type": "stream",
          "text": [
            "Hello\n",
            "world\n",
            "hiiii\n",
            "there\n",
            "Mango\n",
            "Nisarg\n"
          ]
        }
      ],
      "source": [
        "a = 5\n",
        "\n",
        "if a == 5:\n",
        "    print(\"Hello\")\n",
        "    print(\"world\")\n",
        "    print(\"hiiii\")\n",
        "    print(\"there\")\n",
        "    print(\"Mango\")\n",
        "\n",
        "\n",
        "print(\"Nisarg\") #independent line of code which has no effect of if statement\n",
        ""
      ]
    },
    {
      "cell_type": "code",
      "execution_count": null,
      "id": "3dc43793",
      "metadata": {
        "id": "3dc43793",
        "outputId": "605f3b46-614e-4013-8d6a-c476f03f30c8"
      },
      "outputs": [
        {
          "name": "stdout",
          "output_type": "stream",
          "text": [
            "Nisarg\n"
          ]
        }
      ],
      "source": [
        "a = 6\n",
        "\n",
        "if a == 5:\n",
        "    print(\"Hello\")\n",
        "    print(\"world\")\n",
        "    print(\"hiiii\")\n",
        "    print(\"there\")\n",
        "    print(\"Mango\")\n",
        "\n",
        "print(\"Nisarg\")"
      ]
    },
    {
      "cell_type": "code",
      "execution_count": null,
      "id": "135155ca",
      "metadata": {
        "id": "135155ca",
        "outputId": "2a0e82cb-f951-4e2f-fa2a-daa2b067af68"
      },
      "outputs": [
        {
          "name": "stdout",
          "output_type": "stream",
          "text": [
            "else block\n",
            "Nisarg\n"
          ]
        }
      ],
      "source": [
        "# often 'if' is followed by 'else'\n",
        "\n",
        "a = 2\n",
        "if a ==3:\n",
        "    print(\"if block\")\n",
        "else:\n",
        "    print(\"else block\")\n",
        "print(\"Nisarg\")"
      ]
    },
    {
      "cell_type": "code",
      "execution_count": null,
      "id": "0b76a5e8",
      "metadata": {
        "id": "0b76a5e8",
        "outputId": "187e2554-ca1f-43e7-8d6c-970c068037ae"
      },
      "outputs": [
        {
          "name": "stdout",
          "output_type": "stream",
          "text": [
            "You are in if block\n",
            "I am independent line of code\n"
          ]
        }
      ],
      "source": [
        "myvar = 'apple'\n",
        "\n",
        "if myvar.startswith('a'):\n",
        "    print(\"You are in if block\")\n",
        "else:\n",
        "    print(\"you are in else block\")\n",
        "print(\"I am independent line of code\")"
      ]
    },
    {
      "cell_type": "code",
      "execution_count": null,
      "id": "66aebf62",
      "metadata": {
        "id": "66aebf62",
        "outputId": "88552a0b-968c-4ba7-db6d-88b3c5f57712"
      },
      "outputs": [
        {
          "data": {
            "text/plain": [
              "True"
            ]
          },
          "execution_count": 4,
          "metadata": {},
          "output_type": "execute_result"
        }
      ],
      "source": [
        "myvar.startswith('a')"
      ]
    },
    {
      "cell_type": "code",
      "execution_count": null,
      "id": "719d9162",
      "metadata": {
        "id": "719d9162"
      },
      "outputs": [],
      "source": []
    },
    {
      "cell_type": "code",
      "execution_count": null,
      "id": "c0018a0f",
      "metadata": {
        "id": "c0018a0f",
        "outputId": "6b910aae-52c2-46cb-e33e-ec651b903be0"
      },
      "outputs": [
        {
          "name": "stdout",
          "output_type": "stream",
          "text": [
            "none of the condition satisfied hence you are here in the else block\n",
            "As usual, I am an independent line of code\n"
          ]
        }
      ],
      "source": [
        "a = 5\n",
        "if a == 3:\n",
        "    print(\"since a is 3, you are here in if block\")\n",
        "elif a == 6:\n",
        "    print(\"since a is 6, you are here in elif block\")\n",
        "elif a == 7:\n",
        "    print(\"since a is 7, you are here in elif block\")\n",
        "else:\n",
        "    print(\"none of the condition satisfied hence you are here in the else block\")\n",
        "\n",
        "print(\"As usual, I am an independent line of code\")"
      ]
    },
    {
      "cell_type": "code",
      "execution_count": null,
      "id": "1540bae1",
      "metadata": {
        "id": "1540bae1",
        "outputId": "9cab6678-5d2a-4c44-e828-730170e68cef"
      },
      "outputs": [
        {
          "name": "stdout",
          "output_type": "stream",
          "text": [
            "since a is 6, you are here in elif block\n",
            "As usual, I am an independent line of code\n"
          ]
        }
      ],
      "source": [
        "a = 6\n",
        "if a == 3:\n",
        "    print(\"since a is 3, you are here in if block\")\n",
        "elif a == 6:\n",
        "    print(\"since a is 6, you are here in elif block\")\n",
        "elif a == 7:\n",
        "    print(\"since a is 7, you are here in elif block\")\n",
        "else:\n",
        "    print(\"none of the condition satisfied hence you are here in the else block\")\n",
        "\n",
        "print(\"As usual, I am an independent line of code\")"
      ]
    },
    {
      "cell_type": "code",
      "execution_count": null,
      "id": "a95ace5d",
      "metadata": {
        "id": "a95ace5d",
        "outputId": "619870d0-0368-4408-a80b-d906eb385a2d"
      },
      "outputs": [
        {
          "name": "stdout",
          "output_type": "stream",
          "text": [
            "none is satisfied\n"
          ]
        }
      ],
      "source": [
        "a = 5\n",
        "if a==3:\n",
        "    print(\"since a is 3, you're here in if block\")\n",
        "elif a==6:\n",
        "    print(\"since a is 6,you are here in elif block\")\n",
        "elif a==7:\n",
        "    print(\"since a is 6,you are here in elif block\")\n",
        "else:\n",
        "    print(\"none is satisfied\")\n"
      ]
    },
    {
      "cell_type": "code",
      "execution_count": null,
      "id": "55eb0951",
      "metadata": {
        "id": "55eb0951",
        "outputId": "1eb109ed-7d3c-4eb8-c051-dd6e29a16012"
      },
      "outputs": [
        {
          "name": "stdout",
          "output_type": "stream",
          "text": [
            "hiiiiii\n",
            "hello\n",
            "world\n"
          ]
        }
      ],
      "source": [
        "a = 5\n",
        "\n",
        "if a == 5:\n",
        "    print('hiiiiii')\n",
        "if a<=5:\n",
        "    print('hello')\n",
        "if a>=5:\n",
        "    print(\"world\")\n"
      ]
    },
    {
      "cell_type": "code",
      "execution_count": null,
      "id": "115e7437",
      "metadata": {
        "id": "115e7437",
        "outputId": "02bb0677-04c1-43d3-fe8c-308a2686e3d3"
      },
      "outputs": [
        {
          "name": "stdout",
          "output_type": "stream",
          "text": [
            "please enter your namenisarg\n"
          ]
        }
      ],
      "source": [
        "a = input(\"please enter your name\")"
      ]
    },
    {
      "cell_type": "code",
      "execution_count": null,
      "id": "946cca9f",
      "metadata": {
        "id": "946cca9f",
        "outputId": "5ab4d836-186c-4c94-9e2b-42dd854b4285"
      },
      "outputs": [
        {
          "name": "stdout",
          "output_type": "stream",
          "text": [
            "nisarg\n"
          ]
        }
      ],
      "source": [
        "print(a)"
      ]
    },
    {
      "cell_type": "code",
      "execution_count": null,
      "id": "fe78d855",
      "metadata": {
        "id": "fe78d855",
        "outputId": "b0b9e144-ac04-4b5e-f6fd-be3b03569e47"
      },
      "outputs": [
        {
          "name": "stdout",
          "output_type": "stream",
          "text": [
            "Please enter a number45\n"
          ]
        }
      ],
      "source": [
        "b = input(\"Please enter a number\")"
      ]
    },
    {
      "cell_type": "code",
      "execution_count": null,
      "id": "32e46699",
      "metadata": {
        "id": "32e46699",
        "outputId": "7d3687e6-6563-4884-9fcd-144d62f822d4"
      },
      "outputs": [
        {
          "name": "stdout",
          "output_type": "stream",
          "text": [
            "45\n"
          ]
        }
      ],
      "source": [
        "print(b)"
      ]
    },
    {
      "cell_type": "code",
      "execution_count": null,
      "id": "d85aed40",
      "metadata": {
        "id": "d85aed40",
        "outputId": "a2cfeca1-0e63-471b-d781-9f20c6951d32"
      },
      "outputs": [
        {
          "name": "stdout",
          "output_type": "stream",
          "text": [
            "<class 'str'>\n"
          ]
        }
      ],
      "source": [
        "print(type(b))"
      ]
    },
    {
      "cell_type": "code",
      "execution_count": null,
      "id": "17f1b116",
      "metadata": {
        "id": "17f1b116"
      },
      "outputs": [],
      "source": [
        "\"45\""
      ]
    },
    {
      "cell_type": "code",
      "execution_count": null,
      "id": "fe1e450a",
      "metadata": {
        "id": "fe1e450a",
        "outputId": "9790d93a-5aca-411c-cbee-32b23901d50a"
      },
      "outputs": [
        {
          "name": "stdout",
          "output_type": "stream",
          "text": [
            "please enter a number56\n"
          ]
        }
      ],
      "source": [
        "c = int(input(\"please enter a number\"))"
      ]
    },
    {
      "cell_type": "code",
      "execution_count": null,
      "id": "cb50d74d",
      "metadata": {
        "id": "cb50d74d",
        "outputId": "e22d0704-9ff2-41e3-ddb9-d9c2f702e1bf"
      },
      "outputs": [
        {
          "name": "stdout",
          "output_type": "stream",
          "text": [
            "56\n",
            "<class 'int'>\n"
          ]
        }
      ],
      "source": [
        "print(c)\n",
        "print(type(c))"
      ]
    },
    {
      "cell_type": "code",
      "execution_count": null,
      "id": "192d0a6f",
      "metadata": {
        "id": "192d0a6f",
        "outputId": "9a1dce5e-3233-4a8a-c05a-7e9ac19172ee"
      },
      "outputs": [
        {
          "name": "stdout",
          "output_type": "stream",
          "text": [
            "Enter the First Name Nisarg\n",
            "Enter the last name Nikhil\n",
            "Enter the age 28\n",
            "my name is Nisarg Nikhil and my age is 28\n"
          ]
        }
      ],
      "source": [
        "a = input(\"Enter the First Name \")\n",
        "b = input(\"Enter the last name \")\n",
        "\n",
        "age = int(input(\"Enter the age \"))\n",
        "\n",
        "print(\"my name is {} and my age is {}\".format(a+\" \"+b,age))\n"
      ]
    },
    {
      "cell_type": "code",
      "execution_count": null,
      "id": "7b8fba0e",
      "metadata": {
        "id": "7b8fba0e",
        "outputId": "ea4e9dfb-3098-4c73-a156-f8d80850c3b6"
      },
      "outputs": [
        {
          "name": "stdout",
          "output_type": "stream",
          "text": [
            "please enter a mobile phone brandgxgxfgxfgxfc\n",
            "I donot have information\n"
          ]
        }
      ],
      "source": [
        "user_inp = input(\"please enter a mobile phone brand\")\n",
        "\n",
        "if user_inp.lower() == 'apple':\n",
        "    print(\"Invented by steve jobs\")\n",
        "elif user_inp.lower() == \"samsung\":\n",
        "    print(\"s24 ultra with 100 mp camera\")\n",
        "elif user_inp.lower() == 'nokia':\n",
        "    print(\"extincted\")\n",
        "elif user_inp.lower() == \"oppo\":\n",
        "    print(\"chinese brand\")\n",
        "else:\n",
        "    print(\"I donot have information\")\n",
        ""
      ]
    },
    {
      "cell_type": "code",
      "execution_count": null,
      "id": "47e8a30b",
      "metadata": {
        "id": "47e8a30b",
        "outputId": "fea24116-b4b4-40d2-cd57-6f39a1605fce"
      },
      "outputs": [
        {
          "name": "stdout",
          "output_type": "stream",
          "text": [
            "Please enter your nameashok\n",
            "your name starts with A and ends with k\n"
          ]
        }
      ],
      "source": [
        "## nested\n",
        "\n",
        "a = input(\"Please enter your name\").lower()\n",
        "\n",
        "if a.startswith(\"a\"):\n",
        "    if a.endswith('k'):\n",
        "        print(\"your name starts with A and ends with k\")\n",
        "    else:\n",
        "        print(\"your name starts with A and donot ends with k\")\n",
        "else:\n",
        "    print(\"You name doesn't starts with A\")"
      ]
    },
    {
      "cell_type": "code",
      "execution_count": null,
      "id": "daefaa5d",
      "metadata": {
        "id": "daefaa5d"
      },
      "outputs": [],
      "source": [
        "a = \"NISARG\""
      ]
    },
    {
      "cell_type": "code",
      "execution_count": null,
      "id": "231b048a",
      "metadata": {
        "id": "231b048a",
        "outputId": "ed84e798-f005-4c48-e3e1-e4b09110f346"
      },
      "outputs": [
        {
          "name": "stdout",
          "output_type": "stream",
          "text": [
            "nisarg\n"
          ]
        }
      ],
      "source": [
        "print(a.lower())"
      ]
    },
    {
      "cell_type": "code",
      "execution_count": null,
      "id": "2bccc905",
      "metadata": {
        "id": "2bccc905",
        "outputId": "f5bf443a-ddbd-4000-d69b-9c5128d96bf4"
      },
      "outputs": [
        {
          "data": {
            "text/plain": [
              "'nisarg'"
            ]
          },
          "execution_count": 39,
          "metadata": {},
          "output_type": "execute_result"
        }
      ],
      "source": [
        "'NISARG'.lower()"
      ]
    },
    {
      "cell_type": "code",
      "execution_count": null,
      "id": "0dcf8174",
      "metadata": {
        "id": "0dcf8174",
        "outputId": "540879cb-b392-4eb4-b993-dfd8c8e5ce9f"
      },
      "outputs": [
        {
          "name": "stdout",
          "output_type": "stream",
          "text": [
            "Package                       Version         Location                                       Installer\n",
            "----------------------------- --------------- ---------------------------------------------- ---------\n",
            "absl-py                       1.4.0           C:\\Users\\AKCLAP-05\\anaconda3\\Lib\\site-packages pip\n",
            "aiobotocore                   2.4.2           C:\\Users\\AKCLAP-05\\anaconda3\\Lib\\site-packages conda\n",
            "aiofiles                      22.1.0          C:\\Users\\AKCLAP-05\\anaconda3\\Lib\\site-packages conda\n",
            "aiohttp                       3.8.3           C:\\Users\\AKCLAP-05\\anaconda3\\Lib\\site-packages conda\n",
            "aioitertools                  0.7.1           C:\\Users\\AKCLAP-05\\anaconda3\\Lib\\site-packages conda\n",
            "aiosignal                     1.2.0           C:\\Users\\AKCLAP-05\\anaconda3\\Lib\\site-packages conda\n",
            "aiosqlite                     0.18.0          C:\\Users\\AKCLAP-05\\anaconda3\\Lib\\site-packages conda\n",
            "alabaster                     0.7.12          C:\\Users\\AKCLAP-05\\anaconda3\\Lib\\site-packages conda\n",
            "altair                        5.1.1           C:\\Users\\AKCLAP-05\\anaconda3\\Lib\\site-packages pip\n",
            "anaconda-catalogs             0.2.0           C:\\Users\\AKCLAP-05\\anaconda3\\Lib\\site-packages conda\n",
            "anaconda-client               1.11.3          C:\\Users\\AKCLAP-05\\anaconda3\\Lib\\site-packages\n",
            "anaconda-navigator            2.4.2           C:\\Users\\AKCLAP-05\\anaconda3\\Lib\\site-packages\n",
            "anaconda-project              0.11.1          C:\\Users\\AKCLAP-05\\anaconda3\\Lib\\site-packages conda\n",
            "anyio                         3.5.0           C:\\Users\\AKCLAP-05\\anaconda3\\Lib\\site-packages conda\n",
            "appdirs                       1.4.4           C:\\Users\\AKCLAP-05\\anaconda3\\Lib\\site-packages\n",
            "argon2-cffi                   21.3.0          C:\\Users\\AKCLAP-05\\anaconda3\\Lib\\site-packages conda\n",
            "argon2-cffi-bindings          21.2.0          C:\\Users\\AKCLAP-05\\anaconda3\\Lib\\site-packages conda\n",
            "arrow                         1.2.3           C:\\Users\\AKCLAP-05\\anaconda3\\Lib\\site-packages conda\n",
            "astroid                       2.14.2          C:\\Users\\AKCLAP-05\\anaconda3\\Lib\\site-packages conda\n",
            "astropy                       5.1             C:\\Users\\AKCLAP-05\\anaconda3\\Lib\\site-packages conda\n",
            "asttokens                     2.0.5           C:\\Users\\AKCLAP-05\\anaconda3\\Lib\\site-packages conda\n",
            "astunparse                    1.6.3           C:\\Users\\AKCLAP-05\\anaconda3\\Lib\\site-packages pip\n",
            "async-timeout                 4.0.2           C:\\Users\\AKCLAP-05\\anaconda3\\Lib\\site-packages conda\n",
            "atomicwrites                  1.4.0           C:\\Users\\AKCLAP-05\\anaconda3\\Lib\\site-packages conda\n",
            "attrs                         22.1.0          C:\\Users\\AKCLAP-05\\anaconda3\\Lib\\site-packages conda\n",
            "Automat                       20.2.0          C:\\Users\\AKCLAP-05\\anaconda3\\Lib\\site-packages conda\n",
            "autopep8                      1.6.0           C:\\Users\\AKCLAP-05\\anaconda3\\Lib\\site-packages conda\n",
            "autoviz                       0.1.732         C:\\Users\\AKCLAP-05\\anaconda3\\Lib\\site-packages pip\n",
            "Babel                         2.11.0          C:\\Users\\AKCLAP-05\\anaconda3\\Lib\\site-packages conda\n",
            "backcall                      0.2.0           C:\\Users\\AKCLAP-05\\anaconda3\\Lib\\site-packages conda\n",
            "backports.functools-lru-cache 1.6.4           C:\\Users\\AKCLAP-05\\anaconda3\\Lib\\site-packages conda\n",
            "backports.tempfile            1.0             C:\\Users\\AKCLAP-05\\anaconda3\\Lib\\site-packages conda\n",
            "backports.weakref             1.0.post1       C:\\Users\\AKCLAP-05\\anaconda3\\Lib\\site-packages\n",
            "bcrypt                        3.2.0           C:\\Users\\AKCLAP-05\\anaconda3\\Lib\\site-packages conda\n",
            "beautifulsoup4                4.12.2          C:\\Users\\AKCLAP-05\\anaconda3\\Lib\\site-packages conda\n",
            "binaryornot                   0.4.4           C:\\Users\\AKCLAP-05\\anaconda3\\Lib\\site-packages conda\n",
            "black                         0.0             C:\\Users\\AKCLAP-05\\anaconda3\\Lib\\site-packages conda\n",
            "bleach                        4.1.0           C:\\Users\\AKCLAP-05\\anaconda3\\Lib\\site-packages conda\n",
            "blinker                       1.6.2           C:\\Users\\AKCLAP-05\\anaconda3\\Lib\\site-packages pip\n",
            "bokeh                         2.4.3           C:\\Users\\AKCLAP-05\\anaconda3\\Lib\\site-packages pip\n",
            "boltons                       23.0.0          C:\\Users\\AKCLAP-05\\anaconda3\\Lib\\site-packages conda\n",
            "boto3                         1.24.28         C:\\Users\\AKCLAP-05\\anaconda3\\Lib\\site-packages conda\n",
            "botocore                      1.27.59         C:\\Users\\AKCLAP-05\\anaconda3\\Lib\\site-packages conda\n",
            "Bottleneck                    1.3.5           C:\\Users\\AKCLAP-05\\anaconda3\\Lib\\site-packages conda\n",
            "brotlipy                      0.7.0           C:\\Users\\AKCLAP-05\\anaconda3\\Lib\\site-packages\n",
            "cachetools                    5.3.1           C:\\Users\\AKCLAP-05\\anaconda3\\Lib\\site-packages pip\n",
            "certifi                       2020.6.20       C:\\Users\\AKCLAP-05\\anaconda3\\Lib\\site-packages\n",
            "cffi                          1.15.1          C:\\Users\\AKCLAP-05\\anaconda3\\Lib\\site-packages conda\n",
            "chardet                       4.0.0           C:\\Users\\AKCLAP-05\\anaconda3\\Lib\\site-packages conda\n",
            "charset-normalizer            2.0.4           C:\\Users\\AKCLAP-05\\anaconda3\\Lib\\site-packages conda\n",
            "click                         8.0.4           C:\\Users\\AKCLAP-05\\anaconda3\\Lib\\site-packages conda\n",
            "cloudpickle                   2.2.1           C:\\Users\\AKCLAP-05\\anaconda3\\Lib\\site-packages conda\n",
            "clyent                        1.2.2           C:\\Users\\AKCLAP-05\\anaconda3\\Lib\\site-packages\n",
            "colorama                      0.4.6           C:\\Users\\AKCLAP-05\\anaconda3\\Lib\\site-packages conda\n",
            "colorcet                      3.0.1           C:\\Users\\AKCLAP-05\\anaconda3\\Lib\\site-packages conda\n",
            "comm                          0.1.2           C:\\Users\\AKCLAP-05\\anaconda3\\Lib\\site-packages conda\n",
            "conda                         23.7.2          C:\\Users\\AKCLAP-05\\anaconda3\\Lib\\site-packages conda\n",
            "conda-build                   3.25.0          C:\\Users\\AKCLAP-05\\anaconda3\\Lib\\site-packages conda\n",
            "conda-content-trust           0.1.3           C:\\Users\\AKCLAP-05\\anaconda3\\Lib\\site-packages conda\n",
            "conda_index                   0.2.3           C:\\Users\\AKCLAP-05\\anaconda3\\Lib\\site-packages conda\n",
            "conda-libmamba-solver         23.5.0          C:\\Users\\AKCLAP-05\\anaconda3\\Lib\\site-packages conda\n",
            "conda-pack                    0.6.0           C:\\Users\\AKCLAP-05\\anaconda3\\Lib\\site-packages conda\n",
            "conda-package-handling        2.1.0           C:\\Users\\AKCLAP-05\\anaconda3\\Lib\\site-packages conda\n",
            "conda_package_streaming       0.8.0           C:\\Users\\AKCLAP-05\\anaconda3\\Lib\\site-packages conda\n",
            "conda-repo-cli                1.0.41          C:\\Users\\AKCLAP-05\\anaconda3\\Lib\\site-packages\n",
            "conda-token                   0.4.0           C:\\Users\\AKCLAP-05\\anaconda3\\Lib\\site-packages conda\n",
            "conda-verify                  3.4.2           C:\\Users\\AKCLAP-05\\anaconda3\\Lib\\site-packages conda\n",
            "constantly                    15.1.0          C:\\Users\\AKCLAP-05\\anaconda3\\Lib\\site-packages\n",
            "contourpy                     1.0.5           C:\\Users\\AKCLAP-05\\anaconda3\\Lib\\site-packages conda\n",
            "cookiecutter                  1.7.3           C:\\Users\\AKCLAP-05\\anaconda3\\Lib\\site-packages conda\n",
            "cryptography                  39.0.1          C:\\Users\\AKCLAP-05\\anaconda3\\Lib\\site-packages conda\n",
            "cssselect                     1.1.0           C:\\Users\\AKCLAP-05\\anaconda3\\Lib\\site-packages\n",
            "cycler                        0.11.0          C:\\Users\\AKCLAP-05\\anaconda3\\Lib\\site-packages conda\n",
            "cytoolz                       0.12.0          C:\\Users\\AKCLAP-05\\anaconda3\\Lib\\site-packages conda\n",
            "daal4py                       2023.1.1        C:\\Users\\AKCLAP-05\\anaconda3\\Lib\\site-packages\n",
            "dask                          2023.6.0        C:\\Users\\AKCLAP-05\\anaconda3\\Lib\\site-packages conda\n",
            "datashader                    0.15.0          C:\\Users\\AKCLAP-05\\anaconda3\\Lib\\site-packages conda\n",
            "datashape                     0.5.4           C:\\Users\\AKCLAP-05\\anaconda3\\Lib\\site-packages\n",
            "debugpy                       1.5.1           C:\\Users\\AKCLAP-05\\anaconda3\\Lib\\site-packages conda\n",
            "decorator                     5.1.1           C:\\Users\\AKCLAP-05\\anaconda3\\Lib\\site-packages conda\n",
            "defusedxml                    0.7.1           C:\\Users\\AKCLAP-05\\anaconda3\\Lib\\site-packages conda\n",
            "diff-match-patch              20200713        C:\\Users\\AKCLAP-05\\anaconda3\\Lib\\site-packages conda\n",
            "dill                          0.3.6           C:\\Users\\AKCLAP-05\\anaconda3\\Lib\\site-packages conda\n",
            "distributed                   2023.6.0        C:\\Users\\AKCLAP-05\\anaconda3\\Lib\\site-packages conda\n",
            "docstring-to-markdown         0.11            C:\\Users\\AKCLAP-05\\anaconda3\\Lib\\site-packages conda\n",
            "docutils                      0.18.1          C:\\Users\\AKCLAP-05\\anaconda3\\Lib\\site-packages conda\n",
            "emoji                         2.8.0           C:\\Users\\AKCLAP-05\\anaconda3\\Lib\\site-packages pip\n",
            "entrypoints                   0.4             C:\\Users\\AKCLAP-05\\anaconda3\\Lib\\site-packages conda\n",
            "et-xmlfile                    1.1.0           C:\\Users\\AKCLAP-05\\anaconda3\\Lib\\site-packages\n",
            "executing                     0.8.3           C:\\Users\\AKCLAP-05\\anaconda3\\Lib\\site-packages conda\n",
            "extra-streamlit-components    0.1.60          C:\\Users\\AKCLAP-05\\anaconda3\\Lib\\site-packages pip\n",
            "fastjsonschema                2.16.2          C:\\Users\\AKCLAP-05\\anaconda3\\Lib\\site-packages conda\n",
            "filelock                      3.9.0           C:\\Users\\AKCLAP-05\\anaconda3\\Lib\\site-packages conda\n",
            "flake8                        6.0.0           C:\\Users\\AKCLAP-05\\anaconda3\\Lib\\site-packages conda\n",
            "Flask                         2.2.2           C:\\Users\\AKCLAP-05\\anaconda3\\Lib\\site-packages conda\n",
            "flatbuffers                   23.5.26         C:\\Users\\AKCLAP-05\\anaconda3\\Lib\\site-packages pip\n",
            "fonttools                     4.25.0          C:\\Users\\AKCLAP-05\\anaconda3\\Lib\\site-packages\n",
            "frozenlist                    1.3.3           C:\\Users\\AKCLAP-05\\anaconda3\\Lib\\site-packages conda\n",
            "fsspec                        2023.3.0        C:\\Users\\AKCLAP-05\\anaconda3\\Lib\\site-packages conda\n",
            "future                        0.18.3          C:\\Users\\AKCLAP-05\\anaconda3\\Lib\\site-packages conda\n",
            "gast                          0.4.0           C:\\Users\\AKCLAP-05\\anaconda3\\Lib\\site-packages pip\n",
            "gensim                        4.3.0           C:\\Users\\AKCLAP-05\\anaconda3\\Lib\\site-packages conda\n",
            "gitdb                         4.0.10          C:\\Users\\AKCLAP-05\\anaconda3\\Lib\\site-packages pip\n",
            "GitPython                     3.1.35          C:\\Users\\AKCLAP-05\\anaconda3\\Lib\\site-packages pip\n",
            "glob2                         0.7             C:\\Users\\AKCLAP-05\\anaconda3\\Lib\\site-packages conda\n",
            "google-auth                   2.22.0          C:\\Users\\AKCLAP-05\\anaconda3\\Lib\\site-packages pip\n",
            "google-auth-oauthlib          1.0.0           C:\\Users\\AKCLAP-05\\anaconda3\\Lib\\site-packages pip\n",
            "google-pasta                  0.2.0           C:\\Users\\AKCLAP-05\\anaconda3\\Lib\\site-packages pip\n",
            "greenlet                      2.0.1           C:\\Users\\AKCLAP-05\\anaconda3\\Lib\\site-packages conda\n",
            "grpcio                        1.57.0          C:\\Users\\AKCLAP-05\\anaconda3\\Lib\\site-packages pip\n",
            "h5py                          3.7.0           C:\\Users\\AKCLAP-05\\anaconda3\\Lib\\site-packages conda\n",
            "HeapDict                      1.0.1           C:\\Users\\AKCLAP-05\\anaconda3\\Lib\\site-packages conda\n",
            "holoviews                     1.14.9          C:\\Users\\AKCLAP-05\\anaconda3\\Lib\\site-packages pip\n",
            "hvplot                        0.7.3           C:\\Users\\AKCLAP-05\\anaconda3\\Lib\\site-packages pip\n",
            "hyperlink                     21.0.0          C:\\Users\\AKCLAP-05\\anaconda3\\Lib\\site-packages conda\n",
            "idna                          3.4             C:\\Users\\AKCLAP-05\\anaconda3\\Lib\\site-packages conda\n",
            "imagecodecs                   2021.8.26       C:\\Users\\AKCLAP-05\\anaconda3\\Lib\\site-packages conda\n",
            "imageio                       2.26.0          C:\\Users\\AKCLAP-05\\anaconda3\\Lib\\site-packages conda\n",
            "imagesize                     1.4.1           C:\\Users\\AKCLAP-05\\anaconda3\\Lib\\site-packages conda\n",
            "imbalanced-learn              0.10.1          C:\\Users\\AKCLAP-05\\anaconda3\\Lib\\site-packages conda\n",
            "importlib-metadata            6.0.0           C:\\Users\\AKCLAP-05\\anaconda3\\Lib\\site-packages conda\n",
            "importlib-resources           6.0.1           C:\\Users\\AKCLAP-05\\anaconda3\\Lib\\site-packages pip\n",
            "incremental                   21.3.0          C:\\Users\\AKCLAP-05\\anaconda3\\Lib\\site-packages conda\n",
            "inflection                    0.5.1           C:\\Users\\AKCLAP-05\\anaconda3\\Lib\\site-packages\n",
            "iniconfig                     1.1.1           C:\\Users\\AKCLAP-05\\anaconda3\\Lib\\site-packages conda\n",
            "intake                        0.6.8           C:\\Users\\AKCLAP-05\\anaconda3\\Lib\\site-packages conda\n",
            "intervaltree                  3.1.0           C:\\Users\\AKCLAP-05\\anaconda3\\Lib\\site-packages conda\n",
            "ipykernel                     6.19.2          C:\\Users\\AKCLAP-05\\anaconda3\\Lib\\site-packages conda\n",
            "ipython                       8.12.0          C:\\Users\\AKCLAP-05\\anaconda3\\Lib\\site-packages conda\n",
            "ipython-genutils              0.2.0           C:\\Users\\AKCLAP-05\\anaconda3\\Lib\\site-packages conda\n",
            "ipywidgets                    8.0.4           C:\\Users\\AKCLAP-05\\anaconda3\\Lib\\site-packages conda\n",
            "isort                         5.9.3           C:\\Users\\AKCLAP-05\\anaconda3\\Lib\\site-packages conda\n",
            "itemadapter                   0.3.0           C:\\Users\\AKCLAP-05\\anaconda3\\Lib\\site-packages conda\n",
            "itemloaders                   1.0.4           C:\\Users\\AKCLAP-05\\anaconda3\\Lib\\site-packages conda\n",
            "itsdangerous                  2.0.1           C:\\Users\\AKCLAP-05\\anaconda3\\Lib\\site-packages conda\n",
            "jaraco.classes                3.2.1           C:\\Users\\AKCLAP-05\\anaconda3\\Lib\\site-packages conda\n",
            "jedi                          0.18.1          C:\\Users\\AKCLAP-05\\anaconda3\\Lib\\site-packages conda\n",
            "jellyfish                     0.9.0           C:\\Users\\AKCLAP-05\\anaconda3\\Lib\\site-packages conda\n",
            "Jinja2                        3.1.2           C:\\Users\\AKCLAP-05\\anaconda3\\Lib\\site-packages conda\n",
            "jinja2-time                   0.2.0           C:\\Users\\AKCLAP-05\\anaconda3\\Lib\\site-packages conda\n",
            "jmespath                      0.10.0          C:\\Users\\AKCLAP-05\\anaconda3\\Lib\\site-packages conda\n",
            "joblib                        1.2.0           C:\\Users\\AKCLAP-05\\anaconda3\\Lib\\site-packages conda\n",
            "json5                         0.9.6           C:\\Users\\AKCLAP-05\\anaconda3\\Lib\\site-packages conda\n",
            "jsonpatch                     1.32            C:\\Users\\AKCLAP-05\\anaconda3\\Lib\\site-packages conda\n",
            "jsonpointer                   2.1             C:\\Users\\AKCLAP-05\\anaconda3\\Lib\\site-packages\n",
            "jsonschema                    4.17.3          C:\\Users\\AKCLAP-05\\anaconda3\\Lib\\site-packages conda\n",
            "jupyter                       1.0.0           C:\\Users\\AKCLAP-05\\anaconda3\\Lib\\site-packages conda\n",
            "jupyter_client                7.4.9           C:\\Users\\AKCLAP-05\\anaconda3\\Lib\\site-packages conda\n",
            "jupyter-console               6.6.3           C:\\Users\\AKCLAP-05\\anaconda3\\Lib\\site-packages conda\n",
            "jupyter_core                  5.3.0           C:\\Users\\AKCLAP-05\\anaconda3\\Lib\\site-packages conda\n",
            "jupyter-events                0.6.3           C:\\Users\\AKCLAP-05\\anaconda3\\Lib\\site-packages conda\n",
            "jupyter-server                1.23.4          C:\\Users\\AKCLAP-05\\anaconda3\\Lib\\site-packages conda\n",
            "jupyter_server_fileid         0.9.0           C:\\Users\\AKCLAP-05\\anaconda3\\Lib\\site-packages conda\n",
            "jupyter_server_terminals      0.4.4           C:\\Users\\AKCLAP-05\\anaconda3\\Lib\\site-packages conda\n",
            "jupyter_server_ydoc           0.8.0           C:\\Users\\AKCLAP-05\\anaconda3\\Lib\\site-packages conda\n",
            "jupyter-ydoc                  0.2.4           C:\\Users\\AKCLAP-05\\anaconda3\\Lib\\site-packages conda\n",
            "jupyterlab                    3.6.3           C:\\Users\\AKCLAP-05\\anaconda3\\Lib\\site-packages conda\n",
            "jupyterlab-pygments           0.1.2           C:\\Users\\AKCLAP-05\\anaconda3\\Lib\\site-packages conda\n",
            "jupyterlab_server             2.22.0          C:\\Users\\AKCLAP-05\\anaconda3\\Lib\\site-packages conda\n",
            "jupyterlab-widgets            3.0.5           C:\\Users\\AKCLAP-05\\anaconda3\\Lib\\site-packages conda\n",
            "keras                         2.13.1          C:\\Users\\AKCLAP-05\\anaconda3\\Lib\\site-packages pip\n",
            "keyring                       23.13.1         C:\\Users\\AKCLAP-05\\anaconda3\\Lib\\site-packages conda\n",
            "kiwisolver                    1.4.4           C:\\Users\\AKCLAP-05\\anaconda3\\Lib\\site-packages conda\n",
            "labelImg                      1.8.6           C:\\Users\\AKCLAP-05\\anaconda3\\Lib\\site-packages pip\n",
            "lazy_loader                   0.2             C:\\Users\\AKCLAP-05\\anaconda3\\Lib\\site-packages conda\n",
            "lazy-object-proxy             1.6.0           C:\\Users\\AKCLAP-05\\anaconda3\\Lib\\site-packages conda\n",
            "libarchive-c                  2.9             C:\\Users\\AKCLAP-05\\anaconda3\\Lib\\site-packages conda\n",
            "libclang                      16.0.6          C:\\Users\\AKCLAP-05\\anaconda3\\Lib\\site-packages pip\n",
            "libmambapy                    1.4.1           C:\\Users\\AKCLAP-05\\anaconda3\\Lib\\site-packages conda\n",
            "linkify-it-py                 2.0.0           C:\\Users\\AKCLAP-05\\anaconda3\\Lib\\site-packages conda\n",
            "llvmlite                      0.40.0          C:\\Users\\AKCLAP-05\\anaconda3\\Lib\\site-packages conda\n",
            "lmdb                          1.4.1           C:\\Users\\AKCLAP-05\\anaconda3\\Lib\\site-packages conda\n",
            "locket                        1.0.0           C:\\Users\\AKCLAP-05\\anaconda3\\Lib\\site-packages conda\n",
            "lxml                          4.9.2           C:\\Users\\AKCLAP-05\\anaconda3\\Lib\\site-packages conda\n",
            "lz4                           4.3.2           C:\\Users\\AKCLAP-05\\anaconda3\\Lib\\site-packages conda\n",
            "Markdown                      3.4.1           C:\\Users\\AKCLAP-05\\anaconda3\\Lib\\site-packages conda\n",
            "markdown-it-py                2.2.0           C:\\Users\\AKCLAP-05\\anaconda3\\Lib\\site-packages conda\n",
            "MarkupSafe                    2.1.1           C:\\Users\\AKCLAP-05\\anaconda3\\Lib\\site-packages conda\n",
            "matplotlib                    3.7.1           C:\\Users\\AKCLAP-05\\anaconda3\\Lib\\site-packages conda\n",
            "matplotlib-inline             0.1.6           C:\\Users\\AKCLAP-05\\anaconda3\\Lib\\site-packages conda\n",
            "mccabe                        0.7.0           C:\\Users\\AKCLAP-05\\anaconda3\\Lib\\site-packages conda\n",
            "mdit-py-plugins               0.3.0           C:\\Users\\AKCLAP-05\\anaconda3\\Lib\\site-packages conda\n",
            "mdurl                         0.1.0           C:\\Users\\AKCLAP-05\\anaconda3\\Lib\\site-packages conda\n",
            "menuinst                      1.4.19          C:\\Users\\AKCLAP-05\\anaconda3\\Lib\\site-packages conda\n",
            "mistune                       0.8.4           C:\\Users\\AKCLAP-05\\anaconda3\\Lib\\site-packages conda\n",
            "mkl-fft                       1.3.6           C:\\Users\\AKCLAP-05\\anaconda3\\Lib\\site-packages\n",
            "mkl-random                    1.2.2           C:\\Users\\AKCLAP-05\\anaconda3\\Lib\\site-packages conda\n",
            "mkl-service                   2.4.0           C:\\Users\\AKCLAP-05\\anaconda3\\Lib\\site-packages\n",
            "more-itertools                8.12.0          C:\\Users\\AKCLAP-05\\anaconda3\\Lib\\site-packages conda\n",
            "mpmath                        1.2.1           C:\\Users\\AKCLAP-05\\anaconda3\\Lib\\site-packages\n",
            "msgpack                       1.0.3           C:\\Users\\AKCLAP-05\\anaconda3\\Lib\\site-packages conda\n",
            "multidict                     6.0.2           C:\\Users\\AKCLAP-05\\anaconda3\\Lib\\site-packages conda\n",
            "multipledispatch              0.6.0           C:\\Users\\AKCLAP-05\\anaconda3\\Lib\\site-packages conda\n",
            "munkres                       1.1.4           C:\\Users\\AKCLAP-05\\anaconda3\\Lib\\site-packages\n",
            "mypy-extensions               0.4.3           C:\\Users\\AKCLAP-05\\anaconda3\\Lib\\site-packages\n",
            "mysql-connector               2.2.9           C:\\Users\\AKCLAP-05\\anaconda3\\Lib\\site-packages pip\n",
            "navigator-updater             0.4.0           C:\\Users\\AKCLAP-05\\anaconda3\\Lib\\site-packages\n",
            "nbclassic                     0.5.5           C:\\Users\\AKCLAP-05\\anaconda3\\Lib\\site-packages conda\n",
            "nbclient                      0.5.13          C:\\Users\\AKCLAP-05\\anaconda3\\Lib\\site-packages conda\n",
            "nbconvert                     6.5.4           C:\\Users\\AKCLAP-05\\anaconda3\\Lib\\site-packages conda\n",
            "nbformat                      5.7.0           C:\\Users\\AKCLAP-05\\anaconda3\\Lib\\site-packages conda\n",
            "nest-asyncio                  1.5.6           C:\\Users\\AKCLAP-05\\anaconda3\\Lib\\site-packages conda\n",
            "networkx                      2.8.4           C:\\Users\\AKCLAP-05\\anaconda3\\Lib\\site-packages conda\n",
            "nltk                          3.7             C:\\Users\\AKCLAP-05\\anaconda3\\Lib\\site-packages conda\n",
            "notebook                      6.5.4           C:\\Users\\AKCLAP-05\\anaconda3\\Lib\\site-packages conda\n",
            "notebook_shim                 0.2.2           C:\\Users\\AKCLAP-05\\anaconda3\\Lib\\site-packages conda\n",
            "numba                         0.57.0          C:\\Users\\AKCLAP-05\\anaconda3\\Lib\\site-packages conda\n",
            "numexpr                       2.8.4           C:\\Users\\AKCLAP-05\\anaconda3\\Lib\\site-packages conda\n",
            "numpy                         1.24.3          C:\\Users\\AKCLAP-05\\anaconda3\\Lib\\site-packages conda\n",
            "numpydoc                      1.5.0           C:\\Users\\AKCLAP-05\\anaconda3\\Lib\\site-packages conda\n",
            "oauthlib                      3.2.2           C:\\Users\\AKCLAP-05\\anaconda3\\Lib\\site-packages pip\n",
            "opencv-contrib-python         4.8.0.74        C:\\Users\\AKCLAP-05\\anaconda3\\Lib\\site-packages pip\n",
            "openpyxl                      3.0.10          C:\\Users\\AKCLAP-05\\anaconda3\\Lib\\site-packages\n",
            "opt-einsum                    3.3.0           C:\\Users\\AKCLAP-05\\anaconda3\\Lib\\site-packages pip\n",
            "packaging                     23.0            C:\\Users\\AKCLAP-05\\anaconda3\\Lib\\site-packages conda\n",
            "pandas                        1.5.3           C:\\Users\\AKCLAP-05\\anaconda3\\Lib\\site-packages conda\n",
            "pandas-dq                     1.28            C:\\Users\\AKCLAP-05\\anaconda3\\Lib\\site-packages pip\n",
            "pandocfilters                 1.5.0           C:\\Users\\AKCLAP-05\\anaconda3\\Lib\\site-packages conda\n",
            "panel                         0.14.4          C:\\Users\\AKCLAP-05\\anaconda3\\Lib\\site-packages pip\n",
            "param                         1.13.0          C:\\Users\\AKCLAP-05\\anaconda3\\Lib\\site-packages conda\n",
            "paramiko                      2.8.1           C:\\Users\\AKCLAP-05\\anaconda3\\Lib\\site-packages conda\n",
            "parsel                        1.6.0           C:\\Users\\AKCLAP-05\\anaconda3\\Lib\\site-packages conda\n",
            "parso                         0.8.3           C:\\Users\\AKCLAP-05\\anaconda3\\Lib\\site-packages conda\n",
            "partd                         1.2.0           C:\\Users\\AKCLAP-05\\anaconda3\\Lib\\site-packages conda\n",
            "pathlib                       1.0.1           C:\\Users\\AKCLAP-05\\anaconda3\\Lib\\site-packages conda\n",
            "pathspec                      0.10.3          C:\\Users\\AKCLAP-05\\anaconda3\\Lib\\site-packages conda\n",
            "patsy                         0.5.3           C:\\Users\\AKCLAP-05\\anaconda3\\Lib\\site-packages\n",
            "pep8                          1.7.1           C:\\Users\\AKCLAP-05\\anaconda3\\Lib\\site-packages\n",
            "pexpect                       4.8.0           C:\\Users\\AKCLAP-05\\anaconda3\\Lib\\site-packages conda\n",
            "pickleshare                   0.7.5           C:\\Users\\AKCLAP-05\\anaconda3\\Lib\\site-packages conda\n",
            "Pillow                        9.4.0           C:\\Users\\AKCLAP-05\\anaconda3\\Lib\\site-packages\n",
            "pip                           23.1.2          C:\\Users\\AKCLAP-05\\anaconda3\\Lib\\site-packages\n",
            "pkginfo                       1.9.6           C:\\Users\\AKCLAP-05\\anaconda3\\Lib\\site-packages conda\n",
            "platformdirs                  2.5.2           C:\\Users\\AKCLAP-05\\anaconda3\\Lib\\site-packages conda\n",
            "plotly                        5.9.0           C:\\Users\\AKCLAP-05\\anaconda3\\Lib\\site-packages conda\n",
            "pluggy                        1.0.0           C:\\Users\\AKCLAP-05\\anaconda3\\Lib\\site-packages conda\n",
            "ply                           3.11            C:\\Users\\AKCLAP-05\\anaconda3\\Lib\\site-packages\n",
            "pooch                         1.4.0           C:\\Users\\AKCLAP-05\\anaconda3\\Lib\\site-packages conda\n",
            "poyo                          0.5.0           C:\\Users\\AKCLAP-05\\anaconda3\\Lib\\site-packages conda\n",
            "prometheus-client             0.14.1          C:\\Users\\AKCLAP-05\\anaconda3\\Lib\\site-packages conda\n",
            "prompt-toolkit                3.0.36          C:\\Users\\AKCLAP-05\\anaconda3\\Lib\\site-packages conda\n",
            "Protego                       0.1.16          C:\\Users\\AKCLAP-05\\anaconda3\\Lib\\site-packages conda\n",
            "protobuf                      4.24.2          C:\\Users\\AKCLAP-05\\anaconda3\\Lib\\site-packages pip\n",
            "psutil                        5.9.0           C:\\Users\\AKCLAP-05\\anaconda3\\Lib\\site-packages conda\n",
            "ptyprocess                    0.7.0           C:\\Users\\AKCLAP-05\\anaconda3\\Lib\\site-packages conda\n",
            "pure-eval                     0.2.2           C:\\Users\\AKCLAP-05\\anaconda3\\Lib\\site-packages conda\n",
            "py-cpuinfo                    8.0.0           C:\\Users\\AKCLAP-05\\anaconda3\\Lib\\site-packages conda\n",
            "py4j                          0.10.9.7        C:\\Users\\AKCLAP-05\\anaconda3\\Lib\\site-packages pip\n",
            "pyamg                         5.0.1           C:\\Users\\AKCLAP-05\\anaconda3\\Lib\\site-packages pip\n",
            "pyarrow                       11.0.0          C:\\Users\\AKCLAP-05\\anaconda3\\Lib\\site-packages\n",
            "pyasn1                        0.4.8           C:\\Users\\AKCLAP-05\\anaconda3\\Lib\\site-packages conda\n",
            "pyasn1-modules                0.2.8           C:\\Users\\AKCLAP-05\\anaconda3\\Lib\\site-packages\n",
            "pycodestyle                   2.10.0          C:\\Users\\AKCLAP-05\\anaconda3\\Lib\\site-packages conda\n",
            "pycosat                       0.6.4           C:\\Users\\AKCLAP-05\\anaconda3\\Lib\\site-packages conda\n",
            "pycparser                     2.21            C:\\Users\\AKCLAP-05\\anaconda3\\Lib\\site-packages conda\n",
            "pyct                          0.5.0           C:\\Users\\AKCLAP-05\\anaconda3\\Lib\\site-packages conda\n",
            "pycurl                        7.45.2          C:\\Users\\AKCLAP-05\\anaconda3\\Lib\\site-packages\n",
            "pydeck                        0.8.0           C:\\Users\\AKCLAP-05\\anaconda3\\Lib\\site-packages pip\n",
            "PyDispatcher                  2.0.5           C:\\Users\\AKCLAP-05\\anaconda3\\Lib\\site-packages\n",
            "pydocstyle                    6.3.0           C:\\Users\\AKCLAP-05\\anaconda3\\Lib\\site-packages conda\n",
            "pyerfa                        2.0.0           C:\\Users\\AKCLAP-05\\anaconda3\\Lib\\site-packages conda\n",
            "pyflakes                      3.0.1           C:\\Users\\AKCLAP-05\\anaconda3\\Lib\\site-packages conda\n",
            "Pygments                      2.15.1          C:\\Users\\AKCLAP-05\\anaconda3\\Lib\\site-packages conda\n",
            "PyJWT                         2.4.0           C:\\Users\\AKCLAP-05\\anaconda3\\Lib\\site-packages conda\n",
            "pylint                        2.16.2          C:\\Users\\AKCLAP-05\\anaconda3\\Lib\\site-packages conda\n",
            "pylint-venv                   2.3.0           C:\\Users\\AKCLAP-05\\anaconda3\\Lib\\site-packages conda\n",
            "pyls-spyder                   0.4.0           C:\\Users\\AKCLAP-05\\anaconda3\\Lib\\site-packages\n",
            "Pympler                       1.0.1           C:\\Users\\AKCLAP-05\\anaconda3\\Lib\\site-packages pip\n",
            "PyMySQL                       1.1.0           C:\\Users\\AKCLAP-05\\anaconda3\\Lib\\site-packages pip\n",
            "PyNaCl                        1.5.0           C:\\Users\\AKCLAP-05\\anaconda3\\Lib\\site-packages conda\n",
            "pyodbc                        4.0.34          C:\\Users\\AKCLAP-05\\anaconda3\\Lib\\site-packages conda\n",
            "pyOpenSSL                     23.0.0          C:\\Users\\AKCLAP-05\\anaconda3\\Lib\\site-packages conda\n",
            "pyparsing                     3.0.9           C:\\Users\\AKCLAP-05\\anaconda3\\Lib\\site-packages conda\n",
            "PyQt5                         5.15.9          C:\\Users\\AKCLAP-05\\anaconda3\\Lib\\site-packages pip\n",
            "PyQt5-Qt5                     5.15.2          C:\\Users\\AKCLAP-05\\anaconda3\\Lib\\site-packages pip\n",
            "PyQt5-sip                     12.11.0         C:\\Users\\AKCLAP-05\\anaconda3\\Lib\\site-packages conda\n",
            "PyQtWebEngine                 5.15.4          C:\\Users\\AKCLAP-05\\anaconda3\\Lib\\site-packages conda\n",
            "pyrsistent                    0.18.0          C:\\Users\\AKCLAP-05\\anaconda3\\Lib\\site-packages conda\n",
            "PySocks                       1.7.1           C:\\Users\\AKCLAP-05\\anaconda3\\Lib\\site-packages conda\n",
            "pyspark                       3.5.0           C:\\Users\\AKCLAP-05\\anaconda3\\Lib\\site-packages pip\n",
            "pytest                        7.3.1           C:\\Users\\AKCLAP-05\\anaconda3\\Lib\\site-packages conda\n",
            "python-dateutil               2.8.2           C:\\Users\\AKCLAP-05\\anaconda3\\Lib\\site-packages conda\n",
            "python-json-logger            2.0.7           C:\\Users\\AKCLAP-05\\anaconda3\\Lib\\site-packages conda\n",
            "python-lsp-black              1.2.1           C:\\Users\\AKCLAP-05\\anaconda3\\Lib\\site-packages conda\n",
            "python-lsp-jsonrpc            1.0.0           C:\\Users\\AKCLAP-05\\anaconda3\\Lib\\site-packages\n",
            "python-lsp-server             1.7.2           C:\\Users\\AKCLAP-05\\anaconda3\\Lib\\site-packages conda\n",
            "python-slugify                5.0.2           C:\\Users\\AKCLAP-05\\anaconda3\\Lib\\site-packages conda\n",
            "python-snappy                 0.6.1           C:\\Users\\AKCLAP-05\\anaconda3\\Lib\\site-packages conda\n",
            "pytoolconfig                  1.2.5           C:\\Users\\AKCLAP-05\\anaconda3\\Lib\\site-packages conda\n",
            "pytz                          2022.7          C:\\Users\\AKCLAP-05\\anaconda3\\Lib\\site-packages conda\n",
            "pytz-deprecation-shim         0.1.0.post0     C:\\Users\\AKCLAP-05\\anaconda3\\Lib\\site-packages pip\n",
            "pyviz-comms                   2.3.0           C:\\Users\\AKCLAP-05\\anaconda3\\Lib\\site-packages conda\n",
            "PyWavelets                    1.4.1           C:\\Users\\AKCLAP-05\\anaconda3\\Lib\\site-packages conda\n",
            "pywin32                       305.1           C:\\Users\\AKCLAP-05\\anaconda3\\Lib\\site-packages\n",
            "pywin32-ctypes                0.2.0           C:\\Users\\AKCLAP-05\\anaconda3\\Lib\\site-packages conda\n",
            "pywinpty                      2.0.10          C:\\Users\\AKCLAP-05\\anaconda3\\Lib\\site-packages conda\n",
            "PyYAML                        6.0             C:\\Users\\AKCLAP-05\\anaconda3\\Lib\\site-packages conda\n",
            "pyzmq                         23.2.0          C:\\Users\\AKCLAP-05\\anaconda3\\Lib\\site-packages conda\n",
            "QDarkStyle                    3.0.2           C:\\Users\\AKCLAP-05\\anaconda3\\Lib\\site-packages conda\n",
            "qstylizer                     0.2.2           C:\\Users\\AKCLAP-05\\anaconda3\\Lib\\site-packages conda\n",
            "QtAwesome                     1.2.2           C:\\Users\\AKCLAP-05\\anaconda3\\Lib\\site-packages conda\n",
            "qtconsole                     5.4.2           C:\\Users\\AKCLAP-05\\anaconda3\\Lib\\site-packages conda\n",
            "QtPy                          2.2.0           C:\\Users\\AKCLAP-05\\anaconda3\\Lib\\site-packages conda\n",
            "queuelib                      1.5.0           C:\\Users\\AKCLAP-05\\anaconda3\\Lib\\site-packages\n",
            "regex                         2022.7.9        C:\\Users\\AKCLAP-05\\anaconda3\\Lib\\site-packages conda\n",
            "requests                      2.29.0          C:\\Users\\AKCLAP-05\\anaconda3\\Lib\\site-packages conda\n",
            "requests-file                 1.5.1           C:\\Users\\AKCLAP-05\\anaconda3\\Lib\\site-packages conda\n",
            "requests-oauthlib             1.3.1           C:\\Users\\AKCLAP-05\\anaconda3\\Lib\\site-packages pip\n",
            "requests-toolbelt             0.9.1           C:\\Users\\AKCLAP-05\\anaconda3\\Lib\\site-packages conda\n",
            "rfc3339-validator             0.1.4           C:\\Users\\AKCLAP-05\\anaconda3\\Lib\\site-packages conda\n",
            "rfc3986-validator             0.1.1           C:\\Users\\AKCLAP-05\\anaconda3\\Lib\\site-packages conda\n",
            "rich                          13.5.2          C:\\Users\\AKCLAP-05\\anaconda3\\Lib\\site-packages pip\n",
            "rope                          1.7.0           C:\\Users\\AKCLAP-05\\anaconda3\\Lib\\site-packages conda\n",
            "rsa                           4.9             C:\\Users\\AKCLAP-05\\anaconda3\\Lib\\site-packages pip\n",
            "Rtree                         1.0.1           C:\\Users\\AKCLAP-05\\anaconda3\\Lib\\site-packages conda\n",
            "ruamel.yaml                   0.17.21         C:\\Users\\AKCLAP-05\\anaconda3\\Lib\\site-packages conda\n",
            "ruamel-yaml-conda             0.17.21         C:\\Users\\AKCLAP-05\\anaconda3\\Lib\\site-packages conda\n",
            "s3fs                          2023.3.0        C:\\Users\\AKCLAP-05\\anaconda3\\Lib\\site-packages conda\n",
            "s3transfer                    0.6.0           C:\\Users\\AKCLAP-05\\anaconda3\\Lib\\site-packages conda\n",
            "sacremoses                    0.0.43          C:\\Users\\AKCLAP-05\\anaconda3\\Lib\\site-packages conda\n",
            "scikit-image                  0.20.0          C:\\Users\\AKCLAP-05\\anaconda3\\Lib\\site-packages conda\n",
            "scikit-learn                  1.2.2           C:\\Users\\AKCLAP-05\\anaconda3\\Lib\\site-packages conda\n",
            "scikit-learn-intelex          20230426.121932 C:\\Users\\AKCLAP-05\\anaconda3\\Lib\\site-packages\n",
            "scipy                         1.10.1          C:\\Users\\AKCLAP-05\\anaconda3\\Lib\\site-packages\n",
            "Scrapy                        2.8.0           C:\\Users\\AKCLAP-05\\anaconda3\\Lib\\site-packages conda\n",
            "seaborn                       0.12.2          C:\\Users\\AKCLAP-05\\anaconda3\\Lib\\site-packages conda\n",
            "Send2Trash                    1.8.0           C:\\Users\\AKCLAP-05\\anaconda3\\Lib\\site-packages conda\n",
            "service-identity              18.1.0          C:\\Users\\AKCLAP-05\\anaconda3\\Lib\\site-packages conda\n",
            "setuptools                    67.8.0          C:\\Users\\AKCLAP-05\\anaconda3\\Lib\\site-packages\n",
            "sip                           6.6.2           C:\\Users\\AKCLAP-05\\anaconda3\\Lib\\site-packages conda\n",
            "six                           1.16.0          C:\\Users\\AKCLAP-05\\anaconda3\\Lib\\site-packages conda\n",
            "smart-open                    5.2.1           C:\\Users\\AKCLAP-05\\anaconda3\\Lib\\site-packages conda\n",
            "smmap                         5.0.0           C:\\Users\\AKCLAP-05\\anaconda3\\Lib\\site-packages pip\n",
            "sniffio                       1.2.0           C:\\Users\\AKCLAP-05\\anaconda3\\Lib\\site-packages conda\n",
            "snowballstemmer               2.2.0           C:\\Users\\AKCLAP-05\\anaconda3\\Lib\\site-packages conda\n",
            "sortedcontainers              2.4.0           C:\\Users\\AKCLAP-05\\anaconda3\\Lib\\site-packages conda\n",
            "soupsieve                     2.4             C:\\Users\\AKCLAP-05\\anaconda3\\Lib\\site-packages conda\n",
            "Sphinx                        5.0.2           C:\\Users\\AKCLAP-05\\anaconda3\\Lib\\site-packages conda\n",
            "sphinxcontrib-applehelp       1.0.2           C:\\Users\\AKCLAP-05\\anaconda3\\Lib\\site-packages conda\n",
            "sphinxcontrib-devhelp         1.0.2           C:\\Users\\AKCLAP-05\\anaconda3\\Lib\\site-packages conda\n",
            "sphinxcontrib-htmlhelp        2.0.0           C:\\Users\\AKCLAP-05\\anaconda3\\Lib\\site-packages conda\n",
            "sphinxcontrib-jsmath          1.0.1           C:\\Users\\AKCLAP-05\\anaconda3\\Lib\\site-packages conda\n",
            "sphinxcontrib-qthelp          1.0.3           C:\\Users\\AKCLAP-05\\anaconda3\\Lib\\site-packages conda\n",
            "sphinxcontrib-serializinghtml 1.1.5           C:\\Users\\AKCLAP-05\\anaconda3\\Lib\\site-packages conda\n",
            "spyder                        5.4.3           C:\\Users\\AKCLAP-05\\anaconda3\\Lib\\site-packages conda\n",
            "spyder-kernels                2.4.3           C:\\Users\\AKCLAP-05\\anaconda3\\Lib\\site-packages conda\n",
            "SQLAlchemy                    1.4.39          C:\\Users\\AKCLAP-05\\anaconda3\\Lib\\site-packages conda\n",
            "stack-data                    0.2.0           C:\\Users\\AKCLAP-05\\anaconda3\\Lib\\site-packages conda\n",
            "statsmodels                   0.13.5          C:\\Users\\AKCLAP-05\\anaconda3\\Lib\\site-packages conda\n",
            "streamlit                     1.26.0          C:\\Users\\AKCLAP-05\\anaconda3\\Lib\\site-packages pip\n",
            "streamlit-authenticator       0.2.3           C:\\Users\\AKCLAP-05\\anaconda3\\Lib\\site-packages pip\n",
            "sweetviz                      2.1.4           C:\\Users\\AKCLAP-05\\anaconda3\\Lib\\site-packages pip\n",
            "sympy                         1.11.1          C:\\Users\\AKCLAP-05\\anaconda3\\Lib\\site-packages conda\n",
            "tables                        3.8.0           C:\\Users\\AKCLAP-05\\anaconda3\\Lib\\site-packages conda\n",
            "tabulate                      0.8.10          C:\\Users\\AKCLAP-05\\anaconda3\\Lib\\site-packages conda\n",
            "TBB                           0.2             C:\\Users\\AKCLAP-05\\anaconda3\\Lib\\site-packages\n",
            "tblib                         1.7.0           C:\\Users\\AKCLAP-05\\anaconda3\\Lib\\site-packages conda\n",
            "tenacity                      8.2.2           C:\\Users\\AKCLAP-05\\anaconda3\\Lib\\site-packages conda\n",
            "tensorboard                   2.13.0          C:\\Users\\AKCLAP-05\\anaconda3\\Lib\\site-packages pip\n",
            "tensorboard-data-server       0.7.1           C:\\Users\\AKCLAP-05\\anaconda3\\Lib\\site-packages pip\n",
            "tensorflow                    2.13.0          C:\\Users\\AKCLAP-05\\anaconda3\\Lib\\site-packages pip\n",
            "tensorflow-estimator          2.13.0          C:\\Users\\AKCLAP-05\\anaconda3\\Lib\\site-packages pip\n",
            "tensorflow-hub                0.14.0          C:\\Users\\AKCLAP-05\\anaconda3\\Lib\\site-packages pip\n",
            "tensorflow-intel              2.13.0          C:\\Users\\AKCLAP-05\\anaconda3\\Lib\\site-packages pip\n",
            "tensorflow-io-gcs-filesystem  0.31.0          C:\\Users\\AKCLAP-05\\anaconda3\\Lib\\site-packages pip\n",
            "termcolor                     2.3.0           C:\\Users\\AKCLAP-05\\anaconda3\\Lib\\site-packages pip\n",
            "terminado                     0.17.1          C:\\Users\\AKCLAP-05\\anaconda3\\Lib\\site-packages conda\n",
            "text-unidecode                1.3             C:\\Users\\AKCLAP-05\\anaconda3\\Lib\\site-packages conda\n",
            "textblob                      0.17.1          C:\\Users\\AKCLAP-05\\anaconda3\\Lib\\site-packages pip\n",
            "textdistance                  4.2.1           C:\\Users\\AKCLAP-05\\anaconda3\\Lib\\site-packages conda\n",
            "threadpoolctl                 2.2.0           C:\\Users\\AKCLAP-05\\anaconda3\\Lib\\site-packages conda\n",
            "three-merge                   0.1.1           C:\\Users\\AKCLAP-05\\anaconda3\\Lib\\site-packages conda\n",
            "tifffile                      2021.7.2        C:\\Users\\AKCLAP-05\\anaconda3\\Lib\\site-packages conda\n",
            "tinycss2                      1.2.1           C:\\Users\\AKCLAP-05\\anaconda3\\Lib\\site-packages conda\n",
            "tldextract                    3.2.0           C:\\Users\\AKCLAP-05\\anaconda3\\Lib\\site-packages conda\n",
            "toml                          0.10.2          C:\\Users\\AKCLAP-05\\anaconda3\\Lib\\site-packages conda\n",
            "tomli                         2.0.1           C:\\Users\\AKCLAP-05\\anaconda3\\Lib\\site-packages conda\n",
            "tomlkit                       0.11.1          C:\\Users\\AKCLAP-05\\anaconda3\\Lib\\site-packages conda\n",
            "toolz                         0.12.0          C:\\Users\\AKCLAP-05\\anaconda3\\Lib\\site-packages conda\n",
            "tornado                       6.2             C:\\Users\\AKCLAP-05\\anaconda3\\Lib\\site-packages conda\n",
            "tqdm                          4.65.0          C:\\Users\\AKCLAP-05\\anaconda3\\Lib\\site-packages conda\n",
            "traitlets                     5.7.1           C:\\Users\\AKCLAP-05\\anaconda3\\Lib\\site-packages conda\n",
            "transformers                  2.1.1           C:\\Users\\AKCLAP-05\\anaconda3\\Lib\\site-packages conda\n",
            "Twisted                       22.10.0         C:\\Users\\AKCLAP-05\\anaconda3\\Lib\\site-packages conda\n",
            "twisted-iocpsupport           1.0.2           C:\\Users\\AKCLAP-05\\anaconda3\\Lib\\site-packages conda\n",
            "typing_extensions             4.5.0           C:\\Users\\AKCLAP-05\\anaconda3\\Lib\\site-packages pip\n",
            "tzdata                        2023.3          C:\\Users\\AKCLAP-05\\anaconda3\\Lib\\site-packages pip\n",
            "tzlocal                       4.3.1           C:\\Users\\AKCLAP-05\\anaconda3\\Lib\\site-packages pip\n",
            "uc-micro-py                   1.0.1           C:\\Users\\AKCLAP-05\\anaconda3\\Lib\\site-packages conda\n",
            "ujson                         5.4.0           C:\\Users\\AKCLAP-05\\anaconda3\\Lib\\site-packages conda\n",
            "Unidecode                     1.2.0           C:\\Users\\AKCLAP-05\\anaconda3\\Lib\\site-packages conda\n",
            "urllib3                       1.26.16         C:\\Users\\AKCLAP-05\\anaconda3\\Lib\\site-packages conda\n",
            "validators                    0.22.0          C:\\Users\\AKCLAP-05\\anaconda3\\Lib\\site-packages pip\n",
            "w3lib                         1.21.0          C:\\Users\\AKCLAP-05\\anaconda3\\Lib\\site-packages conda\n",
            "watchdog                      2.1.6           C:\\Users\\AKCLAP-05\\anaconda3\\Lib\\site-packages conda\n",
            "wcwidth                       0.2.5           C:\\Users\\AKCLAP-05\\anaconda3\\Lib\\site-packages conda\n",
            "webencodings                  0.5.1           C:\\Users\\AKCLAP-05\\anaconda3\\Lib\\site-packages\n",
            "websocket-client              0.58.0          C:\\Users\\AKCLAP-05\\anaconda3\\Lib\\site-packages conda\n",
            "Werkzeug                      2.2.3           C:\\Users\\AKCLAP-05\\anaconda3\\Lib\\site-packages conda\n",
            "whatthepatch                  1.0.2           C:\\Users\\AKCLAP-05\\anaconda3\\Lib\\site-packages conda\n",
            "wheel                         0.38.4          C:\\Users\\AKCLAP-05\\anaconda3\\Lib\\site-packages\n",
            "widgetsnbextension            4.0.5           C:\\Users\\AKCLAP-05\\anaconda3\\Lib\\site-packages conda\n",
            "win-inet-pton                 1.1.0           C:\\Users\\AKCLAP-05\\anaconda3\\Lib\\site-packages conda\n",
            "wordcloud                     1.9.2           C:\\Users\\AKCLAP-05\\anaconda3\\Lib\\site-packages pip\n",
            "wrapt                         1.14.1          C:\\Users\\AKCLAP-05\\anaconda3\\Lib\\site-packages conda\n",
            "xarray                        2022.11.0       C:\\Users\\AKCLAP-05\\anaconda3\\Lib\\site-packages conda\n",
            "xgboost                       1.7.6           C:\\Users\\AKCLAP-05\\anaconda3\\Lib\\site-packages pip\n",
            "xlrd                          2.0.1           C:\\Users\\AKCLAP-05\\anaconda3\\Lib\\site-packages pip\n",
            "xlwings                       0.29.1          C:\\Users\\AKCLAP-05\\anaconda3\\Lib\\site-packages conda\n",
            "xyzservices                   2022.9.0        C:\\Users\\AKCLAP-05\\anaconda3\\Lib\\site-packages conda\n",
            "y-py                          0.5.9           C:\\Users\\AKCLAP-05\\anaconda3\\Lib\\site-packages conda\n",
            "yapf                          0.31.0          C:\\Users\\AKCLAP-05\\anaconda3\\Lib\\site-packages conda\n",
            "yarl                          1.8.1           C:\\Users\\AKCLAP-05\\anaconda3\\Lib\\site-packages conda\n",
            "ypy-websocket                 0.8.2           C:\\Users\\AKCLAP-05\\anaconda3\\Lib\\site-packages conda\n",
            "zict                          2.2.0           C:\\Users\\AKCLAP-05\\anaconda3\\Lib\\site-packages conda\n",
            "zipp                          3.11.0          C:\\Users\\AKCLAP-05\\anaconda3\\Lib\\site-packages conda\n",
            "zope.interface                5.4.0           C:\\Users\\AKCLAP-05\\anaconda3\\Lib\\site-packages conda\n",
            "zstandard                     0.19.0          C:\\Users\\AKCLAP-05\\anaconda3\\Lib\\site-packages\n",
            "Note: you may need to restart the kernel to use updated packages.\n"
          ]
        }
      ],
      "source": [
        "pip list -v"
      ]
    },
    {
      "cell_type": "code",
      "execution_count": null,
      "id": "1d6460e0",
      "metadata": {
        "id": "1d6460e0",
        "outputId": "ea518f6d-6c26-42a3-a7e2-8b15e836f27e"
      },
      "outputs": [
        {
          "name": "stdout",
          "output_type": "stream",
          "text": [
            "<class 'str'>\n"
          ]
        }
      ],
      "source": [
        "a = 'apple'\n",
        "print(type(a))"
      ]
    },
    {
      "cell_type": "code",
      "execution_count": null,
      "id": "68de0a81",
      "metadata": {
        "id": "68de0a81",
        "outputId": "2efe99c0-d436-40fc-84be-d580144147b0"
      },
      "outputs": [
        {
          "data": {
            "text/plain": [
              "'APPLE'"
            ]
          },
          "execution_count": 8,
          "metadata": {},
          "output_type": "execute_result"
        }
      ],
      "source": [
        "a.upper()"
      ]
    },
    {
      "cell_type": "code",
      "execution_count": null,
      "id": "49c645ec",
      "metadata": {
        "id": "49c645ec",
        "outputId": "eb798c07-8763-4752-b9f4-6115dfa64685"
      },
      "outputs": [
        {
          "name": "stdout",
          "output_type": "stream",
          "text": [
            "<class 'int'>\n"
          ]
        }
      ],
      "source": [
        "b = 12\n",
        "print(type(b))"
      ]
    },
    {
      "cell_type": "code",
      "execution_count": null,
      "id": "1630ed45",
      "metadata": {
        "id": "1630ed45",
        "outputId": "a5815e0d-cda4-4b65-e622-58d10693a198"
      },
      "outputs": [
        {
          "ename": "AttributeError",
          "evalue": "'int' object has no attribute 'upper'",
          "output_type": "error",
          "traceback": [
            "\u001b[1;31m---------------------------------------------------------------------------\u001b[0m",
            "\u001b[1;31mAttributeError\u001b[0m                            Traceback (most recent call last)",
            "Cell \u001b[1;32mIn[9], line 1\u001b[0m\n\u001b[1;32m----> 1\u001b[0m b\u001b[38;5;241m.\u001b[39mupper()\n",
            "\u001b[1;31mAttributeError\u001b[0m: 'int' object has no attribute 'upper'"
          ]
        }
      ],
      "source": [
        "b.upper()"
      ]
    },
    {
      "cell_type": "code",
      "execution_count": null,
      "id": "d6ba9ea1",
      "metadata": {
        "id": "d6ba9ea1",
        "outputId": "ecf0354b-cdd2-4a97-8a1f-574804b88603"
      },
      "outputs": [
        {
          "data": {
            "text/plain": [
              "str"
            ]
          },
          "execution_count": 7,
          "metadata": {},
          "output_type": "execute_result"
        }
      ],
      "source": [
        "type(a)"
      ]
    },
    {
      "cell_type": "code",
      "execution_count": null,
      "id": "4c308f68",
      "metadata": {
        "id": "4c308f68"
      },
      "outputs": [],
      "source": [
        "from datetime import date"
      ]
    },
    {
      "cell_type": "code",
      "execution_count": null,
      "id": "5a17660f",
      "metadata": {
        "id": "5a17660f"
      },
      "outputs": [],
      "source": [
        "# str int float bool datetime.date"
      ]
    },
    {
      "cell_type": "code",
      "execution_count": null,
      "id": "1370df2d",
      "metadata": {
        "id": "1370df2d"
      },
      "outputs": [],
      "source": [
        "mydate = date(2024,1,24)"
      ]
    },
    {
      "cell_type": "code",
      "execution_count": null,
      "id": "1c7604f1",
      "metadata": {
        "id": "1c7604f1",
        "outputId": "9bff91ca-73c0-44b5-c248-57bef5d34a71"
      },
      "outputs": [
        {
          "name": "stdout",
          "output_type": "stream",
          "text": [
            "<class 'datetime.date'>\n"
          ]
        }
      ],
      "source": [
        "print(type(mydate))"
      ]
    },
    {
      "cell_type": "code",
      "execution_count": null,
      "id": "e38b7dbe",
      "metadata": {
        "id": "e38b7dbe",
        "outputId": "73a9434c-34b8-4bac-ef8a-50b33ba41709"
      },
      "outputs": [
        {
          "data": {
            "text/plain": [
              "datetime.date(2024, 1, 24)"
            ]
          },
          "execution_count": 10,
          "metadata": {},
          "output_type": "execute_result"
        }
      ],
      "source": [
        "mydate.today()"
      ]
    },
    {
      "cell_type": "code",
      "execution_count": null,
      "id": "2cffc14a",
      "metadata": {
        "id": "2cffc14a",
        "outputId": "6ad99dec-2f95-47a7-9656-50b22a69e22f"
      },
      "outputs": [
        {
          "name": "stdout",
          "output_type": "stream",
          "text": [
            "2024\n",
            "1\n",
            "24\n"
          ]
        }
      ],
      "source": [
        "print(mydate.year)\n",
        "print(mydate.month)\n",
        "print(mydate.day)"
      ]
    },
    {
      "cell_type": "code",
      "execution_count": null,
      "id": "f5c5817f",
      "metadata": {
        "id": "f5c5817f",
        "outputId": "1152c6de-3648-44dd-f428-cb6228ddc27a"
      },
      "outputs": [
        {
          "ename": "AttributeError",
          "evalue": "'datetime.date' object has no attribute 'tomorrow'",
          "output_type": "error",
          "traceback": [
            "\u001b[1;31m---------------------------------------------------------------------------\u001b[0m",
            "\u001b[1;31mAttributeError\u001b[0m                            Traceback (most recent call last)",
            "Cell \u001b[1;32mIn[14], line 1\u001b[0m\n\u001b[1;32m----> 1\u001b[0m mydate\u001b[38;5;241m.\u001b[39mtomorrow\n",
            "\u001b[1;31mAttributeError\u001b[0m: 'datetime.date' object has no attribute 'tomorrow'"
          ]
        }
      ],
      "source": [
        "mydate.tomorrow"
      ]
    },
    {
      "cell_type": "code",
      "execution_count": null,
      "id": "60ce0dae",
      "metadata": {
        "id": "60ce0dae"
      },
      "outputs": [],
      "source": [
        "from datetime import datetime as dt"
      ]
    },
    {
      "cell_type": "code",
      "execution_count": null,
      "id": "5a29babd",
      "metadata": {
        "id": "5a29babd"
      },
      "outputs": [],
      "source": [
        "dt1 = dt.now()"
      ]
    },
    {
      "cell_type": "code",
      "execution_count": null,
      "id": "9a876b77",
      "metadata": {
        "id": "9a876b77",
        "outputId": "2b901df8-31ca-49df-f093-a7a11e0ac0d2"
      },
      "outputs": [
        {
          "name": "stdout",
          "output_type": "stream",
          "text": [
            "<class 'datetime.datetime'>\n"
          ]
        }
      ],
      "source": [
        "print(type(dt1))"
      ]
    },
    {
      "cell_type": "code",
      "execution_count": null,
      "id": "bb8cbd2e",
      "metadata": {
        "id": "bb8cbd2e",
        "outputId": "3589891f-f11d-418f-c400-c2614be749e3"
      },
      "outputs": [
        {
          "name": "stdout",
          "output_type": "stream",
          "text": [
            "24\n",
            "1\n",
            "24\n",
            "21\n",
            "24\n",
            "49\n",
            "634291\n"
          ]
        }
      ],
      "source": [
        "print(dt1.day)\n",
        "print(dt1.month)\n",
        "print(dt1.day)\n",
        "print(dt1.hour)\n",
        "print(dt1.minute)\n",
        "print(dt1.second)\n",
        "print(dt1.microsecond)"
      ]
    },
    {
      "cell_type": "code",
      "execution_count": null,
      "id": "30f2751d",
      "metadata": {
        "id": "30f2751d",
        "outputId": "f23d5069-74f3-4199-c91c-1e8b022dda61"
      },
      "outputs": [
        {
          "name": "stdout",
          "output_type": "stream",
          "text": [
            "<class 'datetime.date'>\n"
          ]
        }
      ],
      "source": [
        "mydate = date(2024,1,24)\n",
        "print(type(mydate))"
      ]
    },
    {
      "cell_type": "code",
      "execution_count": null,
      "id": "5651d7fe",
      "metadata": {
        "id": "5651d7fe"
      },
      "outputs": [],
      "source": [
        "from datetime import time"
      ]
    },
    {
      "cell_type": "code",
      "execution_count": null,
      "id": "24793069",
      "metadata": {
        "id": "24793069"
      },
      "outputs": [],
      "source": [
        "mytime = time(5,10,45,789)"
      ]
    },
    {
      "cell_type": "code",
      "execution_count": null,
      "id": "d0fa25b9",
      "metadata": {
        "id": "d0fa25b9",
        "outputId": "245a132d-0f18-4e17-d102-ea55d8b80195"
      },
      "outputs": [
        {
          "data": {
            "text/plain": [
              "789"
            ]
          },
          "execution_count": 47,
          "metadata": {},
          "output_type": "execute_result"
        }
      ],
      "source": [
        "# After '.' press tab\n",
        "mytime.microsecond"
      ]
    },
    {
      "cell_type": "markdown",
      "id": "29e8bf39",
      "metadata": {
        "id": "29e8bf39"
      },
      "source": [
        "### DataStructures"
      ]
    },
    {
      "cell_type": "code",
      "execution_count": null,
      "id": "62e4fdc6",
      "metadata": {
        "id": "62e4fdc6"
      },
      "outputs": [],
      "source": [
        "# List\n",
        "a = [1,7,8,56,32]\n",
        "b = [2,'apple',6.43,True,34,7.9]\n",
        "c = [45,'apple',[4,5,6],89] #Nested list"
      ]
    },
    {
      "cell_type": "code",
      "execution_count": null,
      "id": "a00561bd",
      "metadata": {
        "id": "a00561bd",
        "outputId": "97b00b9e-bbac-4c75-8548-91aeb11b6d09"
      },
      "outputs": [
        {
          "name": "stdout",
          "output_type": "stream",
          "text": [
            "8\n",
            "8\n",
            "apple\n",
            "[4, 5, 6]\n",
            "6\n",
            "[7, 8, 56]\n"
          ]
        }
      ],
      "source": [
        "print(a[2])\n",
        "print(a[-3])\n",
        "print(b[1])\n",
        "print(c[2])\n",
        "print(c[2][2])\n",
        "print(a[1:4:1])"
      ]
    },
    {
      "cell_type": "code",
      "execution_count": null,
      "id": "51eb668b",
      "metadata": {
        "id": "51eb668b",
        "outputId": "4270bb68-df52-494b-8d22-12a1dc6dbc1b"
      },
      "outputs": [
        {
          "name": "stdout",
          "output_type": "stream",
          "text": [
            "<class 'list'>\n"
          ]
        }
      ],
      "source": [
        "print(type(a))"
      ]
    },
    {
      "cell_type": "code",
      "execution_count": null,
      "id": "900ef1ee",
      "metadata": {
        "id": "900ef1ee",
        "outputId": "34810072-a581-4984-d402-ca3fe91308f2"
      },
      "outputs": [
        {
          "name": "stdout",
          "output_type": "stream",
          "text": [
            "[1, 7, 8, 56, 32]\n"
          ]
        }
      ],
      "source": [
        "print(a)"
      ]
    },
    {
      "cell_type": "markdown",
      "id": "a4d1f731",
      "metadata": {
        "id": "a4d1f731"
      },
      "source": [
        "## Add , Remove & Change Items\n",
        "\n",
        "* Lists are mutuable"
      ]
    },
    {
      "cell_type": "code",
      "execution_count": null,
      "id": "fc4264aa",
      "metadata": {
        "id": "fc4264aa"
      },
      "outputs": [],
      "source": [
        "## add 100 to a\n",
        "a.append(100)"
      ]
    },
    {
      "cell_type": "code",
      "execution_count": null,
      "id": "a2fb48a3",
      "metadata": {
        "id": "a2fb48a3",
        "outputId": "bcee3e22-b915-4e1b-ed5f-7fbdc7d3d8ff"
      },
      "outputs": [
        {
          "name": "stdout",
          "output_type": "stream",
          "text": [
            "[1, 7, 8, 56, 32, 100]\n"
          ]
        }
      ],
      "source": [
        "print(a)"
      ]
    },
    {
      "cell_type": "code",
      "execution_count": null,
      "id": "29d867cb",
      "metadata": {
        "id": "29d867cb"
      },
      "outputs": [],
      "source": [
        "## add 50 between 8 and 56\n",
        "a.insert(3,50)"
      ]
    },
    {
      "cell_type": "code",
      "execution_count": null,
      "id": "23e21233",
      "metadata": {
        "id": "23e21233",
        "outputId": "5d12761a-5769-4bb2-daa1-7bbf4e2500ef"
      },
      "outputs": [
        {
          "name": "stdout",
          "output_type": "stream",
          "text": [
            "[1, 7, 8, 50, 56, 32, 100]\n"
          ]
        }
      ],
      "source": [
        "print(a)"
      ]
    },
    {
      "cell_type": "code",
      "execution_count": null,
      "id": "911de394",
      "metadata": {
        "id": "911de394"
      },
      "outputs": [],
      "source": [
        "list1 = [200,300]\n",
        "a.extend(list1)"
      ]
    },
    {
      "cell_type": "code",
      "execution_count": null,
      "id": "d407e25d",
      "metadata": {
        "id": "d407e25d",
        "outputId": "8ea44435-8296-4daf-e013-f459ff91a20e"
      },
      "outputs": [
        {
          "data": {
            "text/plain": [
              "[1, 7, 8, 50, 56, 32, 100, 200, 300]"
            ]
          },
          "execution_count": 70,
          "metadata": {},
          "output_type": "execute_result"
        }
      ],
      "source": [
        "a"
      ]
    },
    {
      "cell_type": "code",
      "execution_count": null,
      "id": "cbbdd431",
      "metadata": {
        "id": "cbbdd431",
        "outputId": "57972a17-1142-4e5a-a753-b80f9d0db97f"
      },
      "outputs": [
        {
          "data": {
            "text/plain": [
              "300"
            ]
          },
          "execution_count": 71,
          "metadata": {},
          "output_type": "execute_result"
        }
      ],
      "source": [
        "a.pop()"
      ]
    },
    {
      "cell_type": "code",
      "execution_count": null,
      "id": "698251c8",
      "metadata": {
        "id": "698251c8",
        "outputId": "6490a2fc-41dc-4d67-8e59-4a462a370eaf"
      },
      "outputs": [
        {
          "data": {
            "text/plain": [
              "[1, 7, 8, 50, 56, 32, 100, 200]"
            ]
          },
          "execution_count": 72,
          "metadata": {},
          "output_type": "execute_result"
        }
      ],
      "source": [
        "a"
      ]
    },
    {
      "cell_type": "code",
      "execution_count": null,
      "id": "a255554b",
      "metadata": {
        "id": "a255554b",
        "outputId": "17b59018-554e-4d27-900d-ea3ed27dca0a"
      },
      "outputs": [
        {
          "data": {
            "text/plain": [
              "32"
            ]
          },
          "execution_count": 73,
          "metadata": {},
          "output_type": "execute_result"
        }
      ],
      "source": [
        "a.pop(5)"
      ]
    },
    {
      "cell_type": "code",
      "execution_count": null,
      "id": "993792b5",
      "metadata": {
        "id": "993792b5",
        "outputId": "710065de-87e2-471d-d81c-679716178d25"
      },
      "outputs": [
        {
          "data": {
            "text/plain": [
              "[1, 7, 8, 50, 56, 100, 200]"
            ]
          },
          "execution_count": 74,
          "metadata": {},
          "output_type": "execute_result"
        }
      ],
      "source": [
        "a"
      ]
    },
    {
      "cell_type": "code",
      "execution_count": null,
      "id": "b103f27d",
      "metadata": {
        "id": "b103f27d"
      },
      "outputs": [],
      "source": [
        "a.remove(50)"
      ]
    },
    {
      "cell_type": "code",
      "execution_count": null,
      "id": "9ab72b3c",
      "metadata": {
        "id": "9ab72b3c",
        "outputId": "f9df897f-acfc-4cae-9b8a-ef97268662ec"
      },
      "outputs": [
        {
          "data": {
            "text/plain": [
              "[1, 7, 8, 56, 100, 200]"
            ]
          },
          "execution_count": 76,
          "metadata": {},
          "output_type": "execute_result"
        }
      ],
      "source": [
        "a"
      ]
    },
    {
      "cell_type": "code",
      "execution_count": null,
      "id": "2d44160f",
      "metadata": {
        "id": "2d44160f"
      },
      "outputs": [],
      "source": [
        "del a[1]"
      ]
    },
    {
      "cell_type": "code",
      "execution_count": null,
      "id": "9834126e",
      "metadata": {
        "id": "9834126e",
        "outputId": "b1f5f962-0f97-4bd5-f84c-96f8f45034ce"
      },
      "outputs": [
        {
          "data": {
            "text/plain": [
              "[1, 8, 56, 100, 200]"
            ]
          },
          "execution_count": 78,
          "metadata": {},
          "output_type": "execute_result"
        }
      ],
      "source": [
        "a"
      ]
    },
    {
      "cell_type": "code",
      "execution_count": null,
      "id": "a6d97a8a",
      "metadata": {
        "id": "a6d97a8a"
      },
      "outputs": [],
      "source": [
        "a.clear()"
      ]
    },
    {
      "cell_type": "code",
      "execution_count": null,
      "id": "1cdabf35",
      "metadata": {
        "id": "1cdabf35",
        "outputId": "3b070386-24b3-4e20-83f5-70f14e5bc188"
      },
      "outputs": [
        {
          "data": {
            "text/plain": [
              "[]"
            ]
          },
          "execution_count": 80,
          "metadata": {},
          "output_type": "execute_result"
        }
      ],
      "source": [
        "a"
      ]
    },
    {
      "cell_type": "code",
      "execution_count": null,
      "id": "417ba3c5",
      "metadata": {
        "id": "417ba3c5",
        "outputId": "45908abc-2e1c-4f9a-b9da-a6082e6e3bee"
      },
      "outputs": [
        {
          "data": {
            "text/plain": [
              "[2, 'apple', 6.43, True, 34, 7.9]"
            ]
          },
          "execution_count": 81,
          "metadata": {},
          "output_type": "execute_result"
        }
      ],
      "source": [
        "b"
      ]
    },
    {
      "cell_type": "code",
      "execution_count": null,
      "id": "d7fb1999",
      "metadata": {
        "id": "d7fb1999",
        "outputId": "824d360f-1ec6-497e-d74f-31832154caaa"
      },
      "outputs": [
        {
          "name": "stdout",
          "output_type": "stream",
          "text": [
            "True\n",
            "False\n"
          ]
        }
      ],
      "source": [
        "## List membership\n",
        "print('apple' in b)\n",
        "print('ball' in b)"
      ]
    },
    {
      "cell_type": "code",
      "execution_count": null,
      "id": "19b32e4d",
      "metadata": {
        "id": "19b32e4d"
      },
      "outputs": [],
      "source": [
        "mylist = [45,23,67,34,12,90]\n",
        "mylist.reverse()"
      ]
    },
    {
      "cell_type": "code",
      "execution_count": null,
      "id": "f6e9e608",
      "metadata": {
        "id": "f6e9e608",
        "outputId": "c946dbdd-2ac0-43ce-d303-9758ad64c218"
      },
      "outputs": [
        {
          "data": {
            "text/plain": [
              "[90, 12, 34, 67, 23, 45]"
            ]
          },
          "execution_count": 86,
          "metadata": {},
          "output_type": "execute_result"
        }
      ],
      "source": [
        "mylist"
      ]
    },
    {
      "cell_type": "code",
      "execution_count": null,
      "id": "8942a625",
      "metadata": {
        "id": "8942a625"
      },
      "outputs": [],
      "source": [
        "mylist.sort(reverse = False) ## ascending sort"
      ]
    },
    {
      "cell_type": "code",
      "execution_count": null,
      "id": "b2155eb7",
      "metadata": {
        "id": "b2155eb7",
        "outputId": "5ee766e1-9a1d-4a0d-c277-096d5d3ac9e8"
      },
      "outputs": [
        {
          "data": {
            "text/plain": [
              "[12, 23, 34, 45, 67, 90]"
            ]
          },
          "execution_count": 88,
          "metadata": {},
          "output_type": "execute_result"
        }
      ],
      "source": [
        "mylist"
      ]
    },
    {
      "cell_type": "code",
      "execution_count": null,
      "id": "8672a205",
      "metadata": {
        "id": "8672a205"
      },
      "outputs": [],
      "source": [
        "mylist.sort(reverse=True) ## Descending sort"
      ]
    },
    {
      "cell_type": "code",
      "execution_count": null,
      "id": "1f8c4d40",
      "metadata": {
        "id": "1f8c4d40",
        "outputId": "48c9d6fc-a543-457f-cca8-00d7a93d9b81"
      },
      "outputs": [
        {
          "data": {
            "text/plain": [
              "[90, 67, 45, 34, 23, 12]"
            ]
          },
          "execution_count": 91,
          "metadata": {},
          "output_type": "execute_result"
        }
      ],
      "source": [
        "mylist"
      ]
    },
    {
      "cell_type": "markdown",
      "id": "350caea6",
      "metadata": {
        "id": "350caea6"
      },
      "source": [
        "# Tuple\n",
        "\n",
        "* ()\n",
        "* immutable\n",
        "* sequential stroing of data"
      ]
    },
    {
      "cell_type": "code",
      "execution_count": null,
      "id": "4c4f1231",
      "metadata": {
        "id": "4c4f1231"
      },
      "outputs": [],
      "source": [
        "a = (2,3,4,5,6,7,8)\n",
        "b = (34,'apple',True)\n",
        "c = (34,56,(1,2,3),8)"
      ]
    },
    {
      "cell_type": "code",
      "execution_count": null,
      "id": "1cd735c6",
      "metadata": {
        "id": "1cd735c6",
        "outputId": "1305ab69-1659-4f38-dc8c-49813872f6ff"
      },
      "outputs": [
        {
          "name": "stdout",
          "output_type": "stream",
          "text": [
            "4\n",
            "apple\n",
            "(4, 5, 6)\n"
          ]
        }
      ],
      "source": [
        "## indexing and slicing\n",
        "print(a[2])\n",
        "print(b[1])\n",
        "print(a[2:5])"
      ]
    },
    {
      "cell_type": "code",
      "execution_count": null,
      "id": "4ae4d075",
      "metadata": {
        "id": "4ae4d075",
        "outputId": "41e0f53e-4930-4c71-d57f-bfed9af0ea72"
      },
      "outputs": [
        {
          "ename": "TypeError",
          "evalue": "'tuple' object doesn't support item deletion",
          "output_type": "error",
          "traceback": [
            "\u001b[1;31m---------------------------------------------------------------------------\u001b[0m",
            "\u001b[1;31mTypeError\u001b[0m                                 Traceback (most recent call last)",
            "Cell \u001b[1;32mIn[98], line 1\u001b[0m\n\u001b[1;32m----> 1\u001b[0m \u001b[38;5;28;01mdel\u001b[39;00m a[\u001b[38;5;241m1\u001b[39m]\n",
            "\u001b[1;31mTypeError\u001b[0m: 'tuple' object doesn't support item deletion"
          ]
        }
      ],
      "source": [
        "del a[1]"
      ]
    },
    {
      "cell_type": "code",
      "execution_count": null,
      "id": "5cc28959",
      "metadata": {
        "id": "5cc28959",
        "outputId": "e53ee310-6dd9-4665-8ae9-f7a7aafa5c26"
      },
      "outputs": [
        {
          "ename": "AttributeError",
          "evalue": "'tuple' object has no attribute 'pop'",
          "output_type": "error",
          "traceback": [
            "\u001b[1;31m---------------------------------------------------------------------------\u001b[0m",
            "\u001b[1;31mAttributeError\u001b[0m                            Traceback (most recent call last)",
            "Cell \u001b[1;32mIn[97], line 1\u001b[0m\n\u001b[1;32m----> 1\u001b[0m a\u001b[38;5;241m.\u001b[39mpop(\u001b[38;5;241m1\u001b[39m)\n",
            "\u001b[1;31mAttributeError\u001b[0m: 'tuple' object has no attribute 'pop'"
          ]
        }
      ],
      "source": [
        "a.pop(1)"
      ]
    },
    {
      "cell_type": "code",
      "execution_count": null,
      "id": "17378b2b",
      "metadata": {
        "id": "17378b2b"
      },
      "outputs": [],
      "source": [
        "d = (12,20,34,12,20,12)"
      ]
    },
    {
      "cell_type": "code",
      "execution_count": null,
      "id": "3118f092",
      "metadata": {
        "id": "3118f092",
        "outputId": "9c408bb6-c338-4006-c3d6-276efdfd253c"
      },
      "outputs": [
        {
          "data": {
            "text/plain": [
              "3"
            ]
          },
          "execution_count": 103,
          "metadata": {},
          "output_type": "execute_result"
        }
      ],
      "source": [
        "d.count(12)"
      ]
    },
    {
      "cell_type": "code",
      "execution_count": null,
      "id": "ef7e2a1c",
      "metadata": {
        "id": "ef7e2a1c",
        "outputId": "6f4e5dd8-c058-40f9-cd29-afd3cdd63e9a"
      },
      "outputs": [
        {
          "data": {
            "text/plain": [
              "[12, 12, 12, 20, 20, 34]"
            ]
          },
          "execution_count": 105,
          "metadata": {},
          "output_type": "execute_result"
        }
      ],
      "source": [
        "sorted(d)"
      ]
    },
    {
      "cell_type": "code",
      "execution_count": null,
      "id": "ae2358da",
      "metadata": {
        "id": "ae2358da",
        "outputId": "a6aee370-ec8a-45f5-bb82-8c0a42f83df0"
      },
      "outputs": [
        {
          "data": {
            "text/plain": [
              "(12, 20, 34, 12, 20, 12)"
            ]
          },
          "execution_count": 106,
          "metadata": {},
          "output_type": "execute_result"
        }
      ],
      "source": [
        "d"
      ]
    },
    {
      "cell_type": "code",
      "execution_count": null,
      "id": "f4bfd86c",
      "metadata": {
        "id": "f4bfd86c",
        "outputId": "9d749114-5e22-498b-83cd-b5c23cd8412f"
      },
      "outputs": [
        {
          "ename": "AttributeError",
          "evalue": "'tuple' object has no attribute 'sort'",
          "output_type": "error",
          "traceback": [
            "\u001b[1;31m---------------------------------------------------------------------------\u001b[0m",
            "\u001b[1;31mAttributeError\u001b[0m                            Traceback (most recent call last)",
            "Cell \u001b[1;32mIn[104], line 1\u001b[0m\n\u001b[1;32m----> 1\u001b[0m d\u001b[38;5;241m.\u001b[39msort()\n",
            "\u001b[1;31mAttributeError\u001b[0m: 'tuple' object has no attribute 'sort'"
          ]
        }
      ],
      "source": [
        "d.sort()"
      ]
    },
    {
      "cell_type": "code",
      "execution_count": null,
      "id": "627afbde",
      "metadata": {
        "id": "627afbde"
      },
      "outputs": [],
      "source": []
    }
  ],
  "metadata": {
    "kernelspec": {
      "display_name": "Python 3 (ipykernel)",
      "language": "python",
      "name": "python3"
    },
    "language_info": {
      "codemirror_mode": {
        "name": "ipython",
        "version": 3
      },
      "file_extension": ".py",
      "mimetype": "text/x-python",
      "name": "python",
      "nbconvert_exporter": "python",
      "pygments_lexer": "ipython3",
      "version": "3.11.3"
    },
    "colab": {
      "provenance": [],
      "include_colab_link": true
    }
  },
  "nbformat": 4,
  "nbformat_minor": 5
}