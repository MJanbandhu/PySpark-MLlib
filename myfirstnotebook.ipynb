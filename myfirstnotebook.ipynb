{
  "cells": [
    {
      "cell_type": "markdown",
      "metadata": {
        "id": "view-in-github",
        "colab_type": "text"
      },
      "source": [
        "<a href=\"https://colab.research.google.com/github/MJanbandhu/PySpark-MLlib/blob/main/myfirstnotebook.ipynb\" target=\"_parent\"><img src=\"https://colab.research.google.com/assets/colab-badge.svg\" alt=\"Open In Colab\"/></a>"
      ]
    },
    {
      "cell_type": "code",
      "execution_count": null,
      "id": "33cc7bf5",
      "metadata": {
        "id": "33cc7bf5",
        "outputId": "fd682a3c-fe1e-4a16-bafd-b533bd691084"
      },
      "outputs": [
        {
          "name": "stdout",
          "output_type": "stream",
          "text": [
            "apple\n",
            "mango\n"
          ]
        }
      ],
      "source": [
        "print('apple')\n",
        "print('mango')"
      ]
    },
    {
      "cell_type": "markdown",
      "id": "50368652",
      "metadata": {
        "id": "50368652"
      },
      "source": [
        "# Heading\n",
        "## Heading\n",
        "### Heading\n",
        "\n"
      ]
    },
    {
      "cell_type": "markdown",
      "id": "8a1e7f71",
      "metadata": {
        "id": "8a1e7f71"
      },
      "source": [
        "## How to open jupyter notebook\n",
        "\n",
        "first open your anaconda prompt, then ..........."
      ]
    },
    {
      "cell_type": "markdown",
      "id": "46499b6e",
      "metadata": {
        "id": "46499b6e"
      },
      "source": [
        "## my heading\n",
        "\n",
        "I am writing normal text\n",
        "\n",
        "*I am writing normal text*\n",
        "\n",
        "* point 1\n",
        "* point 2\n",
        "* point 3"
      ]
    },
    {
      "cell_type": "markdown",
      "id": "48650e1a",
      "metadata": {
        "id": "48650e1a"
      },
      "source": [
        "## my heading\n",
        "\n",
        "I am writing normal text\n",
        "\n",
        "*I am writing normal text*\n",
        "\n",
        "* point 1\n",
        "* point 2\n",
        "* point 3"
      ]
    },
    {
      "cell_type": "code",
      "execution_count": null,
      "id": "ad0a3a2c",
      "metadata": {
        "id": "ad0a3a2c"
      },
      "outputs": [],
      "source": []
    },
    {
      "cell_type": "markdown",
      "id": "c1b873ca",
      "metadata": {
        "id": "c1b873ca"
      },
      "source": [
        "* to run a cell --> shift + enter\n",
        "* create a cell below --> b\n",
        "* create a cell above --> a\n",
        "* delete a cell       --> dd\n",
        "* undo a deleted cell --> z\n",
        "* convert into a markdown cell --> m\n",
        "* convert into code cell --> y\n",
        "* copy a cell --> c\n",
        "* paste a cell --> v\n"
      ]
    },
    {
      "cell_type": "code",
      "execution_count": null,
      "id": "3cd05e5b",
      "metadata": {
        "id": "3cd05e5b"
      },
      "outputs": [],
      "source": [
        "print(\"banana\")\n",
        "print(\"orange\")"
      ]
    },
    {
      "cell_type": "markdown",
      "id": "bc60e339",
      "metadata": {
        "id": "bc60e339"
      },
      "source": [
        "## Identifiers"
      ]
    },
    {
      "cell_type": "code",
      "execution_count": null,
      "id": "59c2603b",
      "metadata": {
        "id": "59c2603b",
        "outputId": "afd29d14-5305-4dd4-f3a9-894e0b765030"
      },
      "outputs": [
        {
          "name": "stdout",
          "output_type": "stream",
          "text": [
            "7\n"
          ]
        }
      ],
      "source": [
        "a = 7\n",
        "print(a)"
      ]
    },
    {
      "cell_type": "code",
      "execution_count": null,
      "id": "d5cbbcfd",
      "metadata": {
        "id": "d5cbbcfd"
      },
      "outputs": [],
      "source": [
        "a23 = 7"
      ]
    },
    {
      "cell_type": "code",
      "execution_count": null,
      "id": "fa133020",
      "metadata": {
        "id": "fa133020",
        "outputId": "e1b969d8-8794-4700-9b38-c0400153a334"
      },
      "outputs": [
        {
          "name": "stdout",
          "output_type": "stream",
          "text": [
            "7\n"
          ]
        }
      ],
      "source": [
        "print(a23)"
      ]
    },
    {
      "cell_type": "code",
      "execution_count": null,
      "id": "7bdaabe3",
      "metadata": {
        "id": "7bdaabe3",
        "outputId": "a8a13fe7-ed06-47f9-a14f-118414f345b7"
      },
      "outputs": [
        {
          "ename": "SyntaxError",
          "evalue": "invalid decimal literal (1256000078.py, line 1)",
          "output_type": "error",
          "traceback": [
            "\u001b[1;36m  Cell \u001b[1;32mIn[8], line 1\u001b[1;36m\u001b[0m\n\u001b[1;33m    23a = 7\u001b[0m\n\u001b[1;37m     ^\u001b[0m\n\u001b[1;31mSyntaxError\u001b[0m\u001b[1;31m:\u001b[0m invalid decimal literal\n"
          ]
        }
      ],
      "source": [
        "23a = 7"
      ]
    },
    {
      "cell_type": "code",
      "execution_count": null,
      "id": "88cb7654",
      "metadata": {
        "id": "88cb7654"
      },
      "outputs": [],
      "source": [
        "abc123 = 7"
      ]
    },
    {
      "cell_type": "code",
      "execution_count": null,
      "id": "d0d645fd",
      "metadata": {
        "id": "d0d645fd",
        "outputId": "5490c906-caf2-4f97-b145-d6b77ba0f907"
      },
      "outputs": [
        {
          "name": "stdout",
          "output_type": "stream",
          "text": [
            "7\n"
          ]
        }
      ],
      "source": [
        "print(abc123)"
      ]
    },
    {
      "cell_type": "code",
      "execution_count": null,
      "id": "ca649a94",
      "metadata": {
        "id": "ca649a94",
        "outputId": "f55f3ec5-2215-406d-dd14-6a8619cff71d"
      },
      "outputs": [
        {
          "ename": "SyntaxError",
          "evalue": "cannot assign to expression here. Maybe you meant '==' instead of '='? (3377406289.py, line 1)",
          "output_type": "error",
          "traceback": [
            "\u001b[1;36m  Cell \u001b[1;32mIn[11], line 1\u001b[1;36m\u001b[0m\n\u001b[1;33m    a@2 = 7\u001b[0m\n\u001b[1;37m    ^\u001b[0m\n\u001b[1;31mSyntaxError\u001b[0m\u001b[1;31m:\u001b[0m cannot assign to expression here. Maybe you meant '==' instead of '='?\n"
          ]
        }
      ],
      "source": [
        "a@2 = 7"
      ]
    },
    {
      "cell_type": "code",
      "execution_count": null,
      "id": "820423db",
      "metadata": {
        "id": "820423db"
      },
      "outputs": [],
      "source": [
        "a_2 = 7"
      ]
    },
    {
      "cell_type": "code",
      "execution_count": null,
      "id": "142ae01d",
      "metadata": {
        "id": "142ae01d",
        "outputId": "46e939f4-0856-4c0e-8f42-950eabf5967d"
      },
      "outputs": [
        {
          "name": "stdout",
          "output_type": "stream",
          "text": [
            "7\n"
          ]
        }
      ],
      "source": [
        "print(a_2)"
      ]
    },
    {
      "cell_type": "markdown",
      "id": "01eadd5f",
      "metadata": {
        "id": "01eadd5f"
      },
      "source": [
        "## Keywords\n",
        "\n",
        "Special/reserved words in python which have special functionality"
      ]
    },
    {
      "cell_type": "code",
      "execution_count": null,
      "id": "4f66a0d3",
      "metadata": {
        "id": "4f66a0d3",
        "outputId": "b7c0116f-3122-4729-b4fa-b6e966c4b760"
      },
      "outputs": [
        {
          "name": "stdout",
          "output_type": "stream",
          "text": [
            "['False', 'None', 'True', 'and', 'as', 'assert', 'async', 'await', 'break', 'class', 'continue', 'def', 'del', 'elif', 'else', 'except', 'finally', 'for', 'from', 'global', 'if', 'import', 'in', 'is', 'lambda', 'nonlocal', 'not', 'or', 'pass', 'raise', 'return', 'try', 'while', 'with', 'yield']\n"
          ]
        }
      ],
      "source": [
        "import keyword\n",
        "print(keyword.kwlist)"
      ]
    },
    {
      "cell_type": "code",
      "execution_count": null,
      "id": "e8a19f78",
      "metadata": {
        "id": "e8a19f78",
        "outputId": "ec23e48f-b84b-4b4c-f63c-0ea80b62f4c3"
      },
      "outputs": [
        {
          "ename": "SyntaxError",
          "evalue": "cannot assign to False (2861791734.py, line 1)",
          "output_type": "error",
          "traceback": [
            "\u001b[1;36m  Cell \u001b[1;32mIn[17], line 1\u001b[1;36m\u001b[0m\n\u001b[1;33m    False = 2\u001b[0m\n\u001b[1;37m    ^\u001b[0m\n\u001b[1;31mSyntaxError\u001b[0m\u001b[1;31m:\u001b[0m cannot assign to False\n"
          ]
        }
      ],
      "source": [
        "False = 2"
      ]
    },
    {
      "cell_type": "code",
      "execution_count": null,
      "id": "c3472ab6",
      "metadata": {
        "id": "c3472ab6"
      },
      "outputs": [],
      "source": [
        "kwlist = 5"
      ]
    },
    {
      "cell_type": "code",
      "execution_count": null,
      "id": "d88eedf8",
      "metadata": {
        "id": "d88eedf8",
        "outputId": "e30db5ff-5f3c-4387-8b8b-3cd529647de6"
      },
      "outputs": [
        {
          "name": "stdout",
          "output_type": "stream",
          "text": [
            "5\n"
          ]
        }
      ],
      "source": [
        "print(kwlist)"
      ]
    },
    {
      "cell_type": "markdown",
      "id": "0bc7b7d4",
      "metadata": {
        "id": "0bc7b7d4"
      },
      "source": [
        "## COMMENT"
      ]
    },
    {
      "cell_type": "markdown",
      "id": "6dc41882",
      "metadata": {
        "id": "6dc41882"
      },
      "source": [
        "### SIngle line comment"
      ]
    },
    {
      "cell_type": "code",
      "execution_count": null,
      "id": "7d7f79e6",
      "metadata": {
        "id": "7d7f79e6",
        "outputId": "5c4e7c0d-89f6-4ec8-e10b-a65af4db092b"
      },
      "outputs": [
        {
          "name": "stdout",
          "output_type": "stream",
          "text": [
            "mango\n"
          ]
        }
      ],
      "source": [
        "#print('apple')\n",
        "#print('orange')\n",
        "print(\"mango\")"
      ]
    },
    {
      "cell_type": "code",
      "execution_count": null,
      "id": "6271328a",
      "metadata": {
        "id": "6271328a",
        "outputId": "397e9fdf-e0f9-41aa-9c86-6b3d289e37cc"
      },
      "outputs": [
        {
          "name": "stdout",
          "output_type": "stream",
          "text": [
            "Hello world\n"
          ]
        }
      ],
      "source": [
        "# The below code will print Hello world\n",
        "print(\"Hello world\")"
      ]
    },
    {
      "cell_type": "markdown",
      "id": "93150266",
      "metadata": {
        "id": "93150266"
      },
      "source": [
        "### Multi line commenting"
      ]
    },
    {
      "cell_type": "markdown",
      "id": "9f4b813a",
      "metadata": {
        "id": "9f4b813a"
      },
      "source": [
        "For commenting over multiple lines --> Select the portion --> ctrl + /"
      ]
    },
    {
      "cell_type": "code",
      "execution_count": null,
      "id": "1e03c3dd",
      "metadata": {
        "id": "1e03c3dd",
        "outputId": "578b6aaa-f31b-40d5-bfc3-8e938c98b190"
      },
      "outputs": [
        {
          "name": "stdout",
          "output_type": "stream",
          "text": [
            "apple\n"
          ]
        }
      ],
      "source": [
        "# asdsadasdasdasd\n",
        "# asdasdasdasdjkjbadkbabjd\n",
        "# ashbdhasbdhbaskdbakdfbjabdfba\n",
        "# adj vfjavdjasjdvjadsa\n",
        "\n",
        "print('apple')"
      ]
    },
    {
      "cell_type": "code",
      "execution_count": null,
      "id": "5e65c350",
      "metadata": {
        "id": "5e65c350",
        "outputId": "0b4b799d-055b-4744-f09a-a231865e6a43"
      },
      "outputs": [
        {
          "name": "stdout",
          "output_type": "stream",
          "text": [
            "apple\n"
          ]
        }
      ],
      "source": [
        "\"\"\"sdasdasdasdasd\n",
        "ahsdbvabdjhbashdbhkasdbhk\n",
        "ajsdvjasdbhasbdhkasbkdbkasdbkasbdk\n",
        "ajd hkasbdkasbdjknasjdnjasdnjasjndnas\"\"\"\n",
        "\n",
        "print('apple')"
      ]
    },
    {
      "cell_type": "markdown",
      "id": "4518fb18",
      "metadata": {
        "id": "4518fb18"
      },
      "source": [
        "## Statement"
      ]
    },
    {
      "cell_type": "code",
      "execution_count": null,
      "id": "03748a9d",
      "metadata": {
        "id": "03748a9d",
        "outputId": "ab445ccf-6431-4876-ad0e-27feb9354dcc"
      },
      "outputs": [
        {
          "name": "stdout",
          "output_type": "stream",
          "text": [
            "5 8\n",
            "8 13\n"
          ]
        }
      ],
      "source": [
        "# single line statement\n",
        "a = 5\n",
        "b = 8\n",
        "print(a,b)\n",
        "\n",
        "c = 2 + 4 + 2\n",
        "d = 3 + 5 + 5\n",
        "print(c,d)"
      ]
    },
    {
      "cell_type": "code",
      "execution_count": null,
      "id": "4f177925",
      "metadata": {
        "id": "4f177925",
        "outputId": "b091a5d1-446a-4b0c-e2bf-d1c52e1d5fb9"
      },
      "outputs": [
        {
          "data": {
            "text/plain": [
              "150"
            ]
          },
          "execution_count": 3,
          "metadata": {},
          "output_type": "execute_result"
        }
      ],
      "source": [
        "e = 20 + 30\n",
        "+ 40 + 50\n",
        "+ 70 + 80"
      ]
    },
    {
      "cell_type": "code",
      "execution_count": null,
      "id": "faba4b93",
      "metadata": {
        "id": "faba4b93",
        "outputId": "6c682656-3c20-405d-db7d-9031280a1f01"
      },
      "outputs": [
        {
          "name": "stdout",
          "output_type": "stream",
          "text": [
            "50\n"
          ]
        }
      ],
      "source": [
        "print(e)"
      ]
    },
    {
      "cell_type": "code",
      "execution_count": null,
      "id": "c471d11d",
      "metadata": {
        "id": "c471d11d"
      },
      "outputs": [],
      "source": [
        "# multi line statement\n",
        "\n",
        "e = 20 + 30 \\\n",
        "+ 40 + 50 \\\n",
        "+ 70 + 80"
      ]
    },
    {
      "cell_type": "code",
      "execution_count": null,
      "id": "19b6b95c",
      "metadata": {
        "id": "19b6b95c",
        "outputId": "b90b3bd8-e009-4d5f-ec30-81e1cb9501fd"
      },
      "outputs": [
        {
          "name": "stdout",
          "output_type": "stream",
          "text": [
            "290\n"
          ]
        }
      ],
      "source": [
        "print(e)"
      ]
    },
    {
      "cell_type": "markdown",
      "id": "6eca7cc6",
      "metadata": {
        "id": "6eca7cc6"
      },
      "source": [
        "### Variable assignment"
      ]
    },
    {
      "cell_type": "code",
      "execution_count": null,
      "id": "bfac9958",
      "metadata": {
        "id": "bfac9958"
      },
      "outputs": [],
      "source": [
        "# single line assignment\n",
        "a = 8 #integer\n",
        "b = 5.4 #float\n",
        "c = \"apple\" # string\n",
        "d = True # boolean\n",
        "e = False # boolean\n",
        "\n",
        "# multiple assignment\n",
        "\n",
        "x,y,z = 10,20,30"
      ]
    },
    {
      "cell_type": "code",
      "execution_count": null,
      "id": "84133e05",
      "metadata": {
        "id": "84133e05",
        "outputId": "f6bf9cfa-bd85-4a51-b179-744cd4cb19b8"
      },
      "outputs": [
        {
          "name": "stdout",
          "output_type": "stream",
          "text": [
            "5.4\n",
            "20\n"
          ]
        }
      ],
      "source": [
        "print(b)\n",
        "print(y)"
      ]
    },
    {
      "cell_type": "code",
      "execution_count": null,
      "id": "abea6e1d",
      "metadata": {
        "id": "abea6e1d",
        "outputId": "3b939f6a-ee5a-4209-f085-51e92a294a61"
      },
      "outputs": [
        {
          "name": "stdout",
          "output_type": "stream",
          "text": [
            "<class 'int'>\n",
            "<class 'float'>\n",
            "<class 'str'>\n",
            "<class 'bool'>\n"
          ]
        }
      ],
      "source": [
        "print(type(a))\n",
        "print(type(b))\n",
        "print(type(c))\n",
        "print(type(d))"
      ]
    },
    {
      "cell_type": "markdown",
      "id": "1818eea5",
      "metadata": {
        "id": "1818eea5"
      },
      "source": [
        "## Numeric\n",
        "\n",
        "* Integer\n",
        "* Float"
      ]
    },
    {
      "cell_type": "code",
      "execution_count": null,
      "id": "1f56b054",
      "metadata": {
        "id": "1f56b054"
      },
      "outputs": [],
      "source": [
        "import sys"
      ]
    },
    {
      "cell_type": "code",
      "execution_count": null,
      "id": "27977439",
      "metadata": {
        "id": "27977439",
        "outputId": "0f784167-aa6b-4c65-8d4b-e6ea5e8f2e7d"
      },
      "outputs": [
        {
          "name": "stdout",
          "output_type": "stream",
          "text": [
            "1000\n",
            "<class 'int'>\n",
            "28\n",
            "True\n",
            "False\n"
          ]
        }
      ],
      "source": [
        "# integer\n",
        "intvar = 1000\n",
        "print(intvar)\n",
        "print(type(intvar))\n",
        "print(sys.getsizeof(intvar))\n",
        "print(isinstance(intvar,int))\n",
        "print(isinstance(intvar,float))"
      ]
    },
    {
      "cell_type": "code",
      "execution_count": null,
      "id": "e5389c27",
      "metadata": {
        "id": "e5389c27",
        "outputId": "c41926ae-d848-4057-ba7d-fdd6d4e7f1c5"
      },
      "outputs": [
        {
          "name": "stdout",
          "output_type": "stream",
          "text": [
            "10.23234242423423\n",
            "<class 'float'>\n",
            "24\n",
            "True\n"
          ]
        }
      ],
      "source": [
        "# Float\n",
        "floatvar = 10.23234242423423\n",
        "print(floatvar)\n",
        "print(type(floatvar))\n",
        "print(sys.getsizeof(floatvar))\n",
        "print(isinstance(floatvar,float))"
      ]
    },
    {
      "cell_type": "code",
      "execution_count": null,
      "id": "99eff674",
      "metadata": {
        "id": "99eff674",
        "outputId": "7a308d47-24d0-4413-c17f-a7f640dcf88b"
      },
      "outputs": [
        {
          "name": "stdout",
          "output_type": "stream",
          "text": [
            "<class 'bool'>\n",
            "True\n",
            "True\n",
            "True\n",
            "True\n"
          ]
        }
      ],
      "source": [
        "# Boolean\n",
        "\n",
        "bool1 = True\n",
        "bool2 = False\n",
        "print(type(bool1))\n",
        "print(isinstance(bool1,bool))\n",
        "print(isinstance(bool1,int))\n",
        "print(isinstance(bool2,bool))\n",
        "print(isinstance(bool2,int))"
      ]
    },
    {
      "cell_type": "code",
      "execution_count": null,
      "id": "0be228db",
      "metadata": {
        "id": "0be228db",
        "outputId": "df71378c-338a-4682-f198-89ec23e5f0b9"
      },
      "outputs": [
        {
          "name": "stdout",
          "output_type": "stream",
          "text": [
            "True\n",
            "True\n",
            "True\n",
            "True\n",
            "False\n",
            "False\n",
            "True\n"
          ]
        }
      ],
      "source": [
        "print(bool(\"apple\"))\n",
        "print(bool(\"banana\"))\n",
        "print(bool(34))\n",
        "print(bool(45.35))\n",
        "print(bool(0))\n",
        "print(bool(\"\"))\n",
        "print(bool('adasadsafwsdfabjhsdbjasfb'))\n"
      ]
    },
    {
      "cell_type": "code",
      "execution_count": null,
      "id": "8cd94fa2",
      "metadata": {
        "id": "8cd94fa2",
        "outputId": "c115b223-89e7-42d3-a519-051268dcda2b"
      },
      "outputs": [
        {
          "name": "stdout",
          "output_type": "stream",
          "text": [
            "apple\n",
            "<class 'str'>\n",
            "54\n",
            "True\n"
          ]
        }
      ],
      "source": [
        "## string\n",
        "\n",
        "strvar = \"apple\"\n",
        "print(strvar)\n",
        "print(type(strvar))\n",
        "print(sys.getsizeof(strvar))\n",
        "print(isinstance(strvar,str))"
      ]
    },
    {
      "cell_type": "code",
      "execution_count": null,
      "id": "e522ab9c",
      "metadata": {
        "id": "e522ab9c",
        "outputId": "82284e7c-05c6-4ea1-d7b7-0d2b80af3825"
      },
      "outputs": [
        {
          "name": "stdout",
          "output_type": "stream",
          "text": [
            "W\n",
            "W\n",
            "r\n",
            "r\n",
            "d\n"
          ]
        }
      ],
      "source": [
        "## String indexing\n",
        "myvar = \"Hello World\"\n",
        "# fetch 'W' from myvar\n",
        "print(myvar[6])\n",
        "print(myvar[-5])\n",
        "# fetch 'r' from myvar\n",
        "print(myvar[8])\n",
        "print(myvar[-3])\n",
        "# fetch the last character of myvar\n",
        "print(myvar[-1])"
      ]
    },
    {
      "cell_type": "code",
      "execution_count": null,
      "id": "a1dc40cf",
      "metadata": {
        "id": "a1dc40cf",
        "outputId": "3ecc89b4-76bb-41b7-933c-9540968ab403"
      },
      "outputs": [
        {
          "name": "stdout",
          "output_type": "stream",
          "text": [
            "Hello World\n",
            "11\n",
            "3\n",
            "True\n",
            "True\n",
            "False\n",
            "True\n",
            "1\n",
            "2\n"
          ]
        }
      ],
      "source": [
        "print(myvar)\n",
        "print(len(myvar))\n",
        "print(myvar.count('l'))\n",
        "print(myvar.startswith(\"He\"))\n",
        "print(myvar.startswith(\"Hell\"))\n",
        "print(myvar.startswith(\"err\"))\n",
        "print(myvar.endswith(\"ld\"))\n",
        "print(myvar.index(\"e\"))\n",
        "print(myvar.index('l'))"
      ]
    },
    {
      "cell_type": "code",
      "execution_count": null,
      "id": "ac067913",
      "metadata": {
        "id": "ac067913",
        "outputId": "0a622ab6-8003-44b2-f0cd-59f5ad2e0d53"
      },
      "outputs": [
        {
          "name": "stdout",
          "output_type": "stream",
          "text": [
            "10.23\n",
            "<class 'float'>\n",
            "24\n",
            "True\n"
          ]
        }
      ],
      "source": [
        "import sys\n",
        "floatvar=10.23\n",
        "print(floatvar)\n",
        "print(type(floatvar))\n",
        "print(sys.getsizeof(floatvar))\n",
        "print(isinstance(floatvar,float))\n"
      ]
    },
    {
      "cell_type": "code",
      "execution_count": null,
      "id": "069fb96f",
      "metadata": {
        "id": "069fb96f",
        "outputId": "c44e76bd-b273-461f-844e-bb76b9fa6ee8"
      },
      "outputs": [
        {
          "name": "stdout",
          "output_type": "stream",
          "text": [
            "Love\n",
            "Love\n",
            "travel\n",
            "travel\n",
            "travel\n",
            "I Love\n",
            "I Love\n",
            "I Love\n",
            "I Love\n"
          ]
        }
      ],
      "source": [
        "mysen = \"I Love to travel\"\n",
        "# fetch 'love' from mysen(forward indexing)\n",
        "print(mysen[2:6:1])\n",
        "# using reverse indexing\n",
        "print(mysen[-14:-10:1])\n",
        "# fetch 'travel' from mysen\n",
        "print(mysen[10:16:1])\n",
        "print(mysen[10::1])\n",
        "# using reverse indexing\n",
        "print(mysen[-6::1])\n",
        "# fetch 'I Love' from mysen\n",
        "print(mysen[0:6:1])\n",
        "print(mysen[:6:1])\n",
        "## reverse indexing\n",
        "print(mysen[-16:-10:1])\n",
        "print(mysen[:-10:1])"
      ]
    },
    {
      "cell_type": "code",
      "execution_count": null,
      "id": "ce45e519",
      "metadata": {
        "id": "ce45e519",
        "outputId": "6f5bac5b-f800-411c-f796-8f49525c923b"
      },
      "outputs": [
        {
          "name": "stdout",
          "output_type": "stream",
          "text": [
            "A\n",
            "eroplan\n",
            "eoln\n",
            "epn\n",
            "alpor\n"
          ]
        }
      ],
      "source": [
        "myword = \"Aeroplane\"\n",
        "# fetch \"A\" from myword\n",
        "print(myword[0])\n",
        "# fetch \"eroplan\" from myword\n",
        "print(myword[1:8:1])\n",
        "# fetch \"eoln\" from myword\n",
        "print(myword[1:8:2])\n",
        "# fetch \"epn\" from myword\n",
        "print(myword[1:8:3])\n",
        "# fetch \"alpor\" from myword\n",
        "print(myword[-3:-8:-1])"
      ]
    },
    {
      "cell_type": "code",
      "execution_count": null,
      "id": "177f5d54",
      "metadata": {
        "id": "177f5d54",
        "outputId": "6aedcf98-f4ee-4c0d-ce77-bb1061eeaf0e"
      },
      "outputs": [
        {
          "ename": "TypeError",
          "evalue": "'str' object does not support item assignment",
          "output_type": "error",
          "traceback": [
            "\u001b[1;31m---------------------------------------------------------------------------\u001b[0m",
            "\u001b[1;31mTypeError\u001b[0m                                 Traceback (most recent call last)",
            "Cell \u001b[1;32mIn[18], line 2\u001b[0m\n\u001b[0;32m      1\u001b[0m \u001b[38;5;66;03m## Immutability\u001b[39;00m\n\u001b[1;32m----> 2\u001b[0m myword[\u001b[38;5;241m0\u001b[39m] \u001b[38;5;241m=\u001b[39m \u001b[38;5;124m'\u001b[39m\u001b[38;5;124ma\u001b[39m\u001b[38;5;124m'\u001b[39m\n",
            "\u001b[1;31mTypeError\u001b[0m: 'str' object does not support item assignment"
          ]
        }
      ],
      "source": [
        "## Immutability\n",
        "myword[0] = 'a'"
      ]
    },
    {
      "cell_type": "code",
      "execution_count": null,
      "id": "ebfe07d1",
      "metadata": {
        "id": "ebfe07d1",
        "outputId": "9275c21b-3366-4a56-bf99-459c3e2b1aeb"
      },
      "outputs": [
        {
          "data": {
            "text/plain": [
              "'aeroplane'"
            ]
          },
          "execution_count": 19,
          "metadata": {},
          "output_type": "execute_result"
        }
      ],
      "source": [
        "myword.replace('A','a')"
      ]
    },
    {
      "cell_type": "code",
      "execution_count": null,
      "id": "aed28d63",
      "metadata": {
        "id": "aed28d63",
        "outputId": "134f9dda-825b-4d54-cb4e-3043d229993c"
      },
      "outputs": [
        {
          "data": {
            "text/plain": [
              "'Aeroplane'"
            ]
          },
          "execution_count": 20,
          "metadata": {},
          "output_type": "execute_result"
        }
      ],
      "source": [
        "myword"
      ]
    },
    {
      "cell_type": "code",
      "execution_count": null,
      "id": "ce862fa3",
      "metadata": {
        "id": "ce862fa3"
      },
      "outputs": [],
      "source": [
        "a = 'Data'\n",
        "b = \"science\""
      ]
    },
    {
      "cell_type": "code",
      "execution_count": null,
      "id": "86206c4d",
      "metadata": {
        "id": "86206c4d",
        "outputId": "989dbf06-227f-4a2e-d6d1-f14630635e33"
      },
      "outputs": [
        {
          "name": "stdout",
          "output_type": "stream",
          "text": [
            "Datascience\n",
            "Data science\n"
          ]
        }
      ],
      "source": [
        "print(a+b)\n",
        "print(a+ \" \" + b)"
      ]
    },
    {
      "cell_type": "code",
      "execution_count": null,
      "id": "b51b39fe",
      "metadata": {
        "id": "b51b39fe",
        "outputId": "73ff7956-1fe4-47c0-d7aa-f7596b1e2709"
      },
      "outputs": [
        {
          "name": "stdout",
          "output_type": "stream",
          "text": [
            "('Natural ', 'language', ' processing with Python')\n"
          ]
        }
      ],
      "source": [
        "mysen = \"Natural language processing with Python\"\n",
        "print(mysen.partition(\"language\"))"
      ]
    },
    {
      "cell_type": "code",
      "execution_count": null,
      "id": "3cdae216",
      "metadata": {
        "id": "3cdae216"
      },
      "outputs": [],
      "source": [
        "a = \" apple \""
      ]
    },
    {
      "cell_type": "code",
      "execution_count": null,
      "id": "187b2fb2",
      "metadata": {
        "id": "187b2fb2"
      },
      "outputs": [],
      "source": [
        "a = 'ball'"
      ]
    },
    {
      "cell_type": "code",
      "execution_count": null,
      "id": "b0bb0cf4",
      "metadata": {
        "id": "b0bb0cf4",
        "outputId": "a52ebc84-a2c3-439a-d425-a2c52e02d8c0"
      },
      "outputs": [
        {
          "name": "stdout",
          "output_type": "stream",
          "text": [
            " apple \n"
          ]
        }
      ],
      "source": [
        "print(a)"
      ]
    },
    {
      "cell_type": "code",
      "execution_count": null,
      "id": "90f41e95",
      "metadata": {
        "id": "90f41e95",
        "outputId": "07fb14f1-b472-454f-ee19-f2f7dce460b5"
      },
      "outputs": [
        {
          "data": {
            "text/plain": [
              "' '"
            ]
          },
          "execution_count": 30,
          "metadata": {},
          "output_type": "execute_result"
        }
      ],
      "source": [
        "a[0]"
      ]
    },
    {
      "cell_type": "code",
      "execution_count": null,
      "id": "626ae1c6",
      "metadata": {
        "id": "626ae1c6"
      },
      "outputs": [],
      "source": [
        "a = a.strip()"
      ]
    },
    {
      "cell_type": "code",
      "execution_count": null,
      "id": "289c0673",
      "metadata": {
        "id": "289c0673",
        "outputId": "52c69886-29c3-46b6-fc2d-a6f872766232"
      },
      "outputs": [
        {
          "name": "stdout",
          "output_type": "stream",
          "text": [
            "apple\n"
          ]
        }
      ],
      "source": [
        "print(a)"
      ]
    },
    {
      "cell_type": "code",
      "execution_count": null,
      "id": "d2c45b51",
      "metadata": {
        "id": "d2c45b51",
        "outputId": "3b9a693e-0f29-482f-f678-9bfadfe42541"
      },
      "outputs": [
        {
          "name": "stdout",
          "output_type": "stream",
          "text": [
            "a\n"
          ]
        }
      ],
      "source": [
        "print(a[0])"
      ]
    },
    {
      "cell_type": "code",
      "execution_count": null,
      "id": "75ffd152",
      "metadata": {
        "id": "75ffd152",
        "outputId": "3d1ea709-6051-45a7-d984-277d09d2bfe7"
      },
      "outputs": [
        {
          "name": "stdout",
          "output_type": "stream",
          "text": [
            "**************Hello world*****************\n",
            "Hello world\n"
          ]
        }
      ],
      "source": [
        "myword = \"**************Hello world*****************\"\n",
        "myword1 = myword.strip(\"*\")\n",
        "print(myword)\n",
        "print(myword1)"
      ]
    },
    {
      "cell_type": "code",
      "execution_count": null,
      "id": "0e04e582",
      "metadata": {
        "id": "0e04e582"
      },
      "outputs": [],
      "source": [
        "newword = \"         Samreen             \""
      ]
    },
    {
      "cell_type": "code",
      "execution_count": null,
      "id": "27741bcc",
      "metadata": {
        "id": "27741bcc",
        "outputId": "c7403726-50df-4d83-db5a-953d4b2c0564"
      },
      "outputs": [
        {
          "data": {
            "text/plain": [
              "29"
            ]
          },
          "execution_count": 43,
          "metadata": {},
          "output_type": "execute_result"
        }
      ],
      "source": [
        "len(newword)"
      ]
    },
    {
      "cell_type": "code",
      "execution_count": null,
      "id": "b09aa7d5",
      "metadata": {
        "id": "b09aa7d5"
      },
      "outputs": [],
      "source": [
        "newword = newword.strip()"
      ]
    },
    {
      "cell_type": "code",
      "execution_count": null,
      "id": "69c27652",
      "metadata": {
        "id": "69c27652",
        "outputId": "11bb049b-494f-4d5d-dc40-ba289079a73f"
      },
      "outputs": [
        {
          "data": {
            "text/plain": [
              "7"
            ]
          },
          "execution_count": 45,
          "metadata": {},
          "output_type": "execute_result"
        }
      ],
      "source": [
        "len(newword)"
      ]
    },
    {
      "cell_type": "code",
      "execution_count": null,
      "id": "e831e1d6",
      "metadata": {
        "id": "e831e1d6",
        "outputId": "45ece54a-c9b9-4144-845e-794146273eb3"
      },
      "outputs": [
        {
          "data": {
            "text/plain": [
              "['I', 'love', 'to', 'play', 'video', 'games']"
            ]
          },
          "execution_count": 36,
          "metadata": {},
          "output_type": "execute_result"
        }
      ],
      "source": [
        "sen = \"I love to play video games\"\n",
        "sen.split()"
      ]
    },
    {
      "cell_type": "code",
      "execution_count": null,
      "id": "efa7351e",
      "metadata": {
        "id": "efa7351e",
        "outputId": "51ef84b9-c0b4-4e7b-85a7-0111ba3a5425"
      },
      "outputs": [
        {
          "name": "stdout",
          "output_type": "stream",
          "text": [
            "['you', 'are', 'beatiful']\n"
          ]
        }
      ],
      "source": [
        "mynew = \"you are beatiful\"\n",
        "print(mynew.split())"
      ]
    },
    {
      "cell_type": "code",
      "execution_count": null,
      "id": "57600a19",
      "metadata": {
        "id": "57600a19"
      },
      "outputs": [],
      "source": []
    },
    {
      "cell_type": "code",
      "execution_count": null,
      "id": "3a501394",
      "metadata": {
        "id": "3a501394"
      },
      "outputs": [],
      "source": [
        "a = 'apple'\n",
        "b = 'ball'"
      ]
    },
    {
      "cell_type": "code",
      "execution_count": null,
      "id": "ce4059d7",
      "metadata": {
        "id": "ce4059d7",
        "outputId": "5c0c77ec-6422-4de4-e419-e3265e6dc820"
      },
      "outputs": [
        {
          "data": {
            "text/plain": [
              "'ball'"
            ]
          },
          "execution_count": 39,
          "metadata": {},
          "output_type": "execute_result"
        }
      ],
      "source": [
        "a\n",
        "b"
      ]
    },
    {
      "cell_type": "code",
      "execution_count": null,
      "id": "5da9d83b",
      "metadata": {
        "id": "5da9d83b",
        "outputId": "8ad39fae-a086-4002-cdb7-d382957011ca"
      },
      "outputs": [
        {
          "name": "stdout",
          "output_type": "stream",
          "text": [
            "apple\n",
            "ball\n"
          ]
        }
      ],
      "source": [
        "print(a)\n",
        "print(b)"
      ]
    },
    {
      "cell_type": "code",
      "execution_count": null,
      "id": "203840bf",
      "metadata": {
        "id": "203840bf"
      },
      "outputs": [],
      "source": [
        "mystr = \"Hello world\"\n",
        "mystr1 = mystr.replace(\"l\",'y')"
      ]
    },
    {
      "cell_type": "code",
      "execution_count": null,
      "id": "109e9bf3",
      "metadata": {
        "id": "109e9bf3",
        "outputId": "6c3e46fd-d6fb-464d-f1a6-1751e59cb474"
      },
      "outputs": [
        {
          "name": "stdout",
          "output_type": "stream",
          "text": [
            "Heyyo woryd\n",
            "Hello world\n"
          ]
        }
      ],
      "source": [
        "print(mystr1)\n",
        "print(mystr)"
      ]
    },
    {
      "cell_type": "code",
      "execution_count": null,
      "id": "4b94f878",
      "metadata": {
        "id": "4b94f878",
        "outputId": "bacda2c0-347a-4638-8b3c-8e834d5a5f82"
      },
      "outputs": [
        {
          "name": "stdout",
          "output_type": "stream",
          "text": [
            "Hi My name is Nisarg and I am a Data Scientist\n"
          ]
        }
      ],
      "source": [
        "print('Hi My name is Nisarg and I am a Data Scientist')"
      ]
    },
    {
      "cell_type": "code",
      "execution_count": null,
      "id": "31f7d7fb",
      "metadata": {
        "id": "31f7d7fb"
      },
      "outputs": [],
      "source": [
        "name = \"Nisarg\"\n",
        "job = \"Data Scientist\""
      ]
    },
    {
      "cell_type": "code",
      "execution_count": null,
      "id": "b2f51d7e",
      "metadata": {
        "id": "b2f51d7e",
        "outputId": "235add3e-338b-408b-c6f0-28a2f6ef0499"
      },
      "outputs": [
        {
          "name": "stdout",
          "output_type": "stream",
          "text": [
            "Hi My name is Nisarg and I am a Data Scientist\n"
          ]
        }
      ],
      "source": [
        "# .format method\n",
        "print(\"Hi My name is {} and I am a {}\".format(name,job))"
      ]
    },
    {
      "cell_type": "code",
      "execution_count": null,
      "id": "a8b6e03e",
      "metadata": {
        "id": "a8b6e03e",
        "outputId": "d4f4621e-9ee3-4f88-a8af-f59db526e18b"
      },
      "outputs": [
        {
          "name": "stdout",
          "output_type": "stream",
          "text": [
            "The price of apple is 250 and price of banana is 100\n",
            "The price of apple is 250 and price of banana is 100\n",
            "The price of apple is 250 and price of banana is 100\n"
          ]
        }
      ],
      "source": [
        "price_banana = 100\n",
        "price_apple = 250\n",
        "\n",
        "# .format method\n",
        "print(\"The price of apple is {} and price of banana is {}\".format(price_apple,price_banana))\n",
        "\n",
        "# f string literals\n",
        "\n",
        "print(f\"The price of apple is {price_apple} and price of banana is {price_banana}\")\n",
        "\n",
        "print(\"The price of apple is\",price_apple,\"and price of banana is\",price_banana)"
      ]
    },
    {
      "cell_type": "markdown",
      "id": "822ef795",
      "metadata": {
        "id": "822ef795"
      },
      "source": [
        "## Typecasting"
      ]
    },
    {
      "cell_type": "code",
      "execution_count": null,
      "id": "971937e4",
      "metadata": {
        "id": "971937e4",
        "outputId": "96dae2d4-251c-4141-c4ac-2fd14d6227de"
      },
      "outputs": [
        {
          "data": {
            "text/plain": [
              "7"
            ]
          },
          "execution_count": 16,
          "metadata": {},
          "output_type": "execute_result"
        }
      ],
      "source": [
        "2 + 5"
      ]
    },
    {
      "cell_type": "code",
      "execution_count": null,
      "id": "70904701",
      "metadata": {
        "id": "70904701",
        "outputId": "4aa6bafc-906c-4060-ff67-79748e1d0a77"
      },
      "outputs": [
        {
          "ename": "TypeError",
          "evalue": "unsupported operand type(s) for +: 'int' and 'str'",
          "output_type": "error",
          "traceback": [
            "\u001b[1;31m---------------------------------------------------------------------------\u001b[0m",
            "\u001b[1;31mTypeError\u001b[0m                                 Traceback (most recent call last)",
            "Cell \u001b[1;32mIn[17], line 1\u001b[0m\n\u001b[1;32m----> 1\u001b[0m \u001b[38;5;241m5\u001b[39m \u001b[38;5;241m+\u001b[39m \u001b[38;5;124m\"\u001b[39m\u001b[38;5;124mapple\u001b[39m\u001b[38;5;124m\"\u001b[39m\n",
            "\u001b[1;31mTypeError\u001b[0m: unsupported operand type(s) for +: 'int' and 'str'"
          ]
        }
      ],
      "source": [
        "5 + \"apple\""
      ]
    },
    {
      "cell_type": "code",
      "execution_count": null,
      "id": "7283b056",
      "metadata": {
        "id": "7283b056",
        "outputId": "ac47ccbc-f34d-4483-d6b1-22bf11ecf5dc"
      },
      "outputs": [
        {
          "name": "stdout",
          "output_type": "stream",
          "text": [
            "7.0\n",
            "3\n"
          ]
        },
        {
          "ename": "TypeError",
          "evalue": "can only concatenate str (not \"int\") to str",
          "output_type": "error",
          "traceback": [
            "\u001b[1;31m---------------------------------------------------------------------------\u001b[0m",
            "\u001b[1;31mTypeError\u001b[0m                                 Traceback (most recent call last)",
            "Cell \u001b[1;32mIn[23], line 15\u001b[0m\n\u001b[0;32m     10\u001b[0m \u001b[38;5;28mprint\u001b[39m(\u001b[38;5;241m2\u001b[39m \u001b[38;5;241m+\u001b[39m \u001b[38;5;28;01mTrue\u001b[39;00m)\n\u001b[0;32m     11\u001b[0m \u001b[38;5;66;03m# 2 --> integer -->2\u001b[39;00m\n\u001b[0;32m     12\u001b[0m \u001b[38;5;66;03m# True --> bool --> int --> 1\u001b[39;00m\n\u001b[0;32m     13\u001b[0m \u001b[38;5;66;03m# 2 + 1 = 3\u001b[39;00m\n\u001b[1;32m---> 15\u001b[0m \u001b[38;5;28mprint\u001b[39m(\u001b[38;5;124m\"\u001b[39m\u001b[38;5;124m3\u001b[39m\u001b[38;5;124m\"\u001b[39m \u001b[38;5;241m+\u001b[39m \u001b[38;5;241m3\u001b[39m)\n",
            "\u001b[1;31mTypeError\u001b[0m: can only concatenate str (not \"int\") to str"
          ]
        }
      ],
      "source": [
        "## Typecasting --> It is a process of converting dissimilar datatypes to a similar datatype\n",
        "##                 so that the operation can happen.\n",
        "# Auto typecasting --> Automatically changing datatypes\n",
        "print(5.0 + 2)\n",
        "\n",
        "# 5.0 --> float --> 5.0\n",
        "# 2 ---> integer --> float --> 2.0\n",
        "# 5.0 + 2.0 = 7.0\n",
        "\n",
        "print(2 + True)\n",
        "# 2 --> integer -->2\n",
        "# True --> bool --> int --> 1\n",
        "# 2 + 1 = 3\n",
        "\n",
        "print(\"3\" + 3)"
      ]
    },
    {
      "cell_type": "code",
      "execution_count": null,
      "id": "ad9177df",
      "metadata": {
        "id": "ad9177df",
        "outputId": "69c19a7a-35cc-4032-8d34-023081e7cec5"
      },
      "outputs": [
        {
          "name": "stdout",
          "output_type": "stream",
          "text": [
            "<class 'int'>\n",
            "<class 'float'>\n",
            "5\n",
            "5.0\n",
            "=================\n",
            "<class 'int'>\n",
            "<class 'str'>\n",
            "78\n",
            "78\n"
          ]
        }
      ],
      "source": [
        "## Forced Typecasting --> Manual changing the datatype\n",
        "## int --> integer\n",
        "## float\n",
        "## str --> string\n",
        "## bool -- Boolean\n",
        "\n",
        "a = 5\n",
        "print(type(a))\n",
        "b = float(a)\n",
        "print(type(b))\n",
        "print(a)\n",
        "print(b)\n",
        "print(\"=================\")\n",
        "c = 78\n",
        "print(type(c))\n",
        "d = str(c)\n",
        "print(type(d))\n",
        "print(c)\n",
        "print(d)"
      ]
    },
    {
      "cell_type": "code",
      "execution_count": null,
      "id": "27d55ed3",
      "metadata": {
        "id": "27d55ed3",
        "outputId": "241b7eec-ed31-4784-e137-3458489812ee"
      },
      "outputs": [
        {
          "name": "stdout",
          "output_type": "stream",
          "text": [
            "<class 'int'>\n",
            "True\n",
            "False\n",
            "False\n",
            "True\n"
          ]
        }
      ],
      "source": [
        "print(type(int(6.76)))\n",
        "print(bool(89))\n",
        "print(bool(0))\n",
        "print(bool(\"\"))\n",
        "print(bool(\"sdhgxhfcjgc\"))"
      ]
    },
    {
      "cell_type": "code",
      "execution_count": null,
      "id": "bdb14a09",
      "metadata": {
        "id": "bdb14a09",
        "outputId": "4aa525b9-3d20-4e0a-ee22-f39572022718"
      },
      "outputs": [
        {
          "ename": "ValueError",
          "evalue": "invalid literal for int() with base 10: 'apple'",
          "output_type": "error",
          "traceback": [
            "\u001b[1;31m---------------------------------------------------------------------------\u001b[0m",
            "\u001b[1;31mValueError\u001b[0m                                Traceback (most recent call last)",
            "Cell \u001b[1;32mIn[36], line 1\u001b[0m\n\u001b[1;32m----> 1\u001b[0m \u001b[38;5;28mint\u001b[39m(\u001b[38;5;124m'\u001b[39m\u001b[38;5;124mapple\u001b[39m\u001b[38;5;124m'\u001b[39m)\n",
            "\u001b[1;31mValueError\u001b[0m: invalid literal for int() with base 10: 'apple'"
          ]
        }
      ],
      "source": [
        "## conversion of string to integer is not possible except for the fact that the string\n",
        "## is a number --> \"65\", \"9\",\"546\"\n",
        "int('apple')"
      ]
    },
    {
      "cell_type": "code",
      "execution_count": null,
      "id": "c80fd494",
      "metadata": {
        "id": "c80fd494",
        "outputId": "d17965bf-44e1-4c1d-a755-181e9ddc589a"
      },
      "outputs": [
        {
          "data": {
            "text/plain": [
              "45"
            ]
          },
          "execution_count": 37,
          "metadata": {},
          "output_type": "execute_result"
        }
      ],
      "source": [
        "int(\"45\")"
      ]
    },
    {
      "cell_type": "code",
      "execution_count": null,
      "id": "d2bea177",
      "metadata": {
        "id": "d2bea177",
        "outputId": "e6c33ed0-ad0f-4721-9901-e429c9904467"
      },
      "outputs": [
        {
          "name": "stdout",
          "output_type": "stream",
          "text": [
            "6\n",
            "33\n"
          ]
        }
      ],
      "source": [
        "print(int(\"3\") + 3)\n",
        "print(\"3\" + str(3))"
      ]
    },
    {
      "cell_type": "code",
      "execution_count": null,
      "id": "84386cd3",
      "metadata": {
        "id": "84386cd3",
        "outputId": "f01d12d7-8130-4a01-cd9e-317834ffdd62"
      },
      "outputs": [
        {
          "data": {
            "text/plain": [
              "14.9"
            ]
          },
          "execution_count": 42,
          "metadata": {},
          "output_type": "execute_result"
        }
      ],
      "source": [
        "int(\"5\") + 7.9 + bool(\"apple\") + True\n",
        "\n",
        "# int(\"5\") --> 5 --> 5.0\n",
        "# 7.9\n",
        "# bool('apple') --> True --> 1 --> 1.0\n",
        "# True --> 1 --> 1.0\n",
        "# 5.0 + 7.9 + 1.0 + 1.0"
      ]
    },
    {
      "cell_type": "code",
      "execution_count": null,
      "id": "986627a9",
      "metadata": {
        "id": "986627a9",
        "outputId": "8cc5ba31-1473-4b3e-9e33-393bdb86b220"
      },
      "outputs": [
        {
          "name": "stdout",
          "output_type": "stream",
          "text": [
            "7\n",
            "3\n",
            "10\n",
            "2.5\n",
            "floor division of a by b = 2\n",
            "a modulus b = 1\n",
            "5 raise to power 2 is 25\n",
            "5 raise to power 3 is 125\n"
          ]
        }
      ],
      "source": [
        "## Arithmatic operators\n",
        "a = 5\n",
        "b = 2\n",
        "\n",
        "print(a+b)\n",
        "print(a-b)\n",
        "print(a*b)\n",
        "print(a/b)\n",
        "print(\"floor division of a by b = {}\".format(a//b))\n",
        "print(\"a modulus b = {}\".format(a%b))\n",
        "print(\"5 raise to power 2 is {}\".format(5**2))\n",
        "print(\"5 raise to power 3 is {}\".format(5**3))"
      ]
    },
    {
      "cell_type": "code",
      "execution_count": null,
      "id": "785fcf6b",
      "metadata": {
        "id": "785fcf6b",
        "outputId": "8c9f2b34-2867-4199-bb0d-69cd89e34598"
      },
      "outputs": [
        {
          "name": "stdout",
          "output_type": "stream",
          "text": [
            "True\n",
            "False\n",
            "False\n",
            "True\n",
            "False\n",
            "True\n"
          ]
        }
      ],
      "source": [
        "a = 5\n",
        "b = 2\n",
        "\n",
        "print(a>b)\n",
        "print(a<b)\n",
        "print(a == b)\n",
        "print(a>=b)\n",
        "print(a<=b)\n",
        "print(a != b)"
      ]
    },
    {
      "cell_type": "code",
      "execution_count": null,
      "id": "897afc9b",
      "metadata": {
        "id": "897afc9b",
        "outputId": "b85ab858-69c3-428d-cd20-0eec1469c198"
      },
      "outputs": [
        {
          "data": {
            "text/plain": [
              "False"
            ]
          },
          "execution_count": 64,
          "metadata": {},
          "output_type": "execute_result"
        }
      ],
      "source": [
        "'apple' > 'ball'"
      ]
    },
    {
      "cell_type": "code",
      "execution_count": null,
      "id": "df0e49eb",
      "metadata": {
        "id": "df0e49eb",
        "outputId": "adc161c8-88c2-4b41-ba26-734e362284f0"
      },
      "outputs": [
        {
          "data": {
            "text/plain": [
              "False"
            ]
          },
          "execution_count": 65,
          "metadata": {},
          "output_type": "execute_result"
        }
      ],
      "source": [
        "-5.0 > -2.5\n"
      ]
    },
    {
      "cell_type": "markdown",
      "id": "b31a30b2",
      "metadata": {
        "id": "b31a30b2"
      },
      "source": [
        "### Logical operators"
      ]
    },
    {
      "cell_type": "code",
      "execution_count": null,
      "id": "b5154f16",
      "metadata": {
        "id": "b5154f16",
        "outputId": "470f9de1-2e88-4ea7-8c0b-73006e0050aa"
      },
      "outputs": [
        {
          "name": "stdout",
          "output_type": "stream",
          "text": [
            "True\n",
            "False\n",
            "False\n",
            "False\n",
            "==============\n",
            "True\n",
            "True\n",
            "True\n",
            "False\n"
          ]
        }
      ],
      "source": [
        "print(True and True)\n",
        "print(True and False)\n",
        "print(False and True)\n",
        "print(False and False)\n",
        "print(\"==============\")\n",
        "print(True or True)\n",
        "print(True or False)\n",
        "print(False or True)\n",
        "print(False or False)"
      ]
    },
    {
      "cell_type": "code",
      "execution_count": null,
      "id": "34701317",
      "metadata": {
        "id": "34701317",
        "outputId": "dabd57db-da4a-4015-bd7d-2613c4544c39"
      },
      "outputs": [
        {
          "name": "stdout",
          "output_type": "stream",
          "text": [
            "Hello\n",
            "world\n",
            "hiiii\n",
            "there\n",
            "Mango\n",
            "Nisarg\n"
          ]
        }
      ],
      "source": [
        "a = 5\n",
        "\n",
        "if a == 5:\n",
        "    print(\"Hello\")\n",
        "    print(\"world\")\n",
        "    print(\"hiiii\")\n",
        "    print(\"there\")\n",
        "    print(\"Mango\")\n",
        "\n",
        "\n",
        "print(\"Nisarg\") #independent line of code which has no effect of if statement\n",
        ""
      ]
    },
    {
      "cell_type": "code",
      "execution_count": null,
      "id": "3dc43793",
      "metadata": {
        "id": "3dc43793",
        "outputId": "3e456dcb-16ad-41c6-a026-b92e6b8ba03a"
      },
      "outputs": [
        {
          "name": "stdout",
          "output_type": "stream",
          "text": [
            "Nisarg\n"
          ]
        }
      ],
      "source": [
        "a = 6\n",
        "\n",
        "if a == 5:\n",
        "    print(\"Hello\")\n",
        "    print(\"world\")\n",
        "    print(\"hiiii\")\n",
        "    print(\"there\")\n",
        "    print(\"Mango\")\n",
        "\n",
        "print(\"Nisarg\")"
      ]
    },
    {
      "cell_type": "code",
      "execution_count": null,
      "id": "135155ca",
      "metadata": {
        "id": "135155ca",
        "outputId": "8364b7a1-28d5-42a2-c766-15a0bd954e18"
      },
      "outputs": [
        {
          "name": "stdout",
          "output_type": "stream",
          "text": [
            "else block\n",
            "Nisarg\n"
          ]
        }
      ],
      "source": [
        "# often 'if' is followed by 'else'\n",
        "\n",
        "a = 2\n",
        "if a ==3:\n",
        "    print(\"if block\")\n",
        "else:\n",
        "    print(\"else block\")\n",
        "print(\"Nisarg\")"
      ]
    },
    {
      "cell_type": "code",
      "execution_count": null,
      "id": "0b76a5e8",
      "metadata": {
        "id": "0b76a5e8",
        "outputId": "929e19aa-818c-4636-9a17-e32eb95a8e57"
      },
      "outputs": [
        {
          "name": "stdout",
          "output_type": "stream",
          "text": [
            "You are in if block\n",
            "I am independent line of code\n"
          ]
        }
      ],
      "source": [
        "myvar = 'apple'\n",
        "\n",
        "if myvar.startswith('a'):\n",
        "    print(\"You are in if block\")\n",
        "else:\n",
        "    print(\"you are in else block\")\n",
        "print(\"I am independent line of code\")"
      ]
    },
    {
      "cell_type": "code",
      "execution_count": null,
      "id": "66aebf62",
      "metadata": {
        "id": "66aebf62",
        "outputId": "af1169a3-6966-4741-cb1e-a0a6cf8b7e7c"
      },
      "outputs": [
        {
          "data": {
            "text/plain": [
              "True"
            ]
          },
          "execution_count": 4,
          "metadata": {},
          "output_type": "execute_result"
        }
      ],
      "source": [
        "myvar.startswith('a')"
      ]
    },
    {
      "cell_type": "code",
      "execution_count": null,
      "id": "719d9162",
      "metadata": {
        "id": "719d9162"
      },
      "outputs": [],
      "source": []
    },
    {
      "cell_type": "code",
      "execution_count": null,
      "id": "c0018a0f",
      "metadata": {
        "id": "c0018a0f",
        "outputId": "a8761ff4-7bf1-4473-9e11-3e7067033c53"
      },
      "outputs": [
        {
          "name": "stdout",
          "output_type": "stream",
          "text": [
            "none of the condition satisfied hence you are here in the else block\n",
            "As usual, I am an independent line of code\n"
          ]
        }
      ],
      "source": [
        "a = 5\n",
        "if a == 3:\n",
        "    print(\"since a is 3, you are here in if block\")\n",
        "elif a == 6:\n",
        "    print(\"since a is 6, you are here in elif block\")\n",
        "elif a == 7:\n",
        "    print(\"since a is 7, you are here in elif block\")\n",
        "else:\n",
        "    print(\"none of the condition satisfied hence you are here in the else block\")\n",
        "\n",
        "print(\"As usual, I am an independent line of code\")"
      ]
    },
    {
      "cell_type": "code",
      "execution_count": null,
      "id": "1540bae1",
      "metadata": {
        "id": "1540bae1",
        "outputId": "765cd005-a8c9-4b05-c138-f7b522a391b0"
      },
      "outputs": [
        {
          "name": "stdout",
          "output_type": "stream",
          "text": [
            "since a is 6, you are here in elif block\n",
            "As usual, I am an independent line of code\n"
          ]
        }
      ],
      "source": [
        "a = 6\n",
        "if a == 3:\n",
        "    print(\"since a is 3, you are here in if block\")\n",
        "elif a == 6:\n",
        "    print(\"since a is 6, you are here in elif block\")\n",
        "elif a == 7:\n",
        "    print(\"since a is 7, you are here in elif block\")\n",
        "else:\n",
        "    print(\"none of the condition satisfied hence you are here in the else block\")\n",
        "\n",
        "print(\"As usual, I am an independent line of code\")"
      ]
    },
    {
      "cell_type": "code",
      "execution_count": null,
      "id": "a95ace5d",
      "metadata": {
        "id": "a95ace5d",
        "outputId": "3e45ccc7-a534-4307-9795-b93269ca183f"
      },
      "outputs": [
        {
          "name": "stdout",
          "output_type": "stream",
          "text": [
            "none is satisfied\n"
          ]
        }
      ],
      "source": [
        "a = 5\n",
        "if a==3:\n",
        "    print(\"since a is 3, you're here in if block\")\n",
        "elif a==6:\n",
        "    print(\"since a is 6,you are here in elif block\")\n",
        "elif a==7:\n",
        "    print(\"since a is 6,you are here in elif block\")\n",
        "else:\n",
        "    print(\"none is satisfied\")\n"
      ]
    },
    {
      "cell_type": "code",
      "execution_count": null,
      "id": "55eb0951",
      "metadata": {
        "id": "55eb0951",
        "outputId": "986fcf5e-77b9-4b5d-8882-223c6b706217"
      },
      "outputs": [
        {
          "name": "stdout",
          "output_type": "stream",
          "text": [
            "hiiiiii\n",
            "hello\n",
            "world\n"
          ]
        }
      ],
      "source": [
        "a = 5\n",
        "\n",
        "if a == 5:\n",
        "    print('hiiiiii')\n",
        "if a<=5:\n",
        "    print('hello')\n",
        "if a>=5:\n",
        "    print(\"world\")\n"
      ]
    },
    {
      "cell_type": "code",
      "execution_count": null,
      "id": "115e7437",
      "metadata": {
        "id": "115e7437",
        "outputId": "4e7f629b-a99c-4ecc-cdc9-390352d8d66c"
      },
      "outputs": [
        {
          "name": "stdout",
          "output_type": "stream",
          "text": [
            "please enter your namenisarg\n"
          ]
        }
      ],
      "source": [
        "a = input(\"please enter your name\")"
      ]
    },
    {
      "cell_type": "code",
      "execution_count": null,
      "id": "946cca9f",
      "metadata": {
        "id": "946cca9f",
        "outputId": "664a4161-6850-4fa3-dd28-75eaa6c838e0"
      },
      "outputs": [
        {
          "name": "stdout",
          "output_type": "stream",
          "text": [
            "nisarg\n"
          ]
        }
      ],
      "source": [
        "print(a)"
      ]
    },
    {
      "cell_type": "code",
      "execution_count": null,
      "id": "fe78d855",
      "metadata": {
        "id": "fe78d855",
        "outputId": "9faa5105-6244-46bc-cb36-565debcdaf57"
      },
      "outputs": [
        {
          "name": "stdout",
          "output_type": "stream",
          "text": [
            "Please enter a number45\n"
          ]
        }
      ],
      "source": [
        "b = input(\"Please enter a number\")"
      ]
    },
    {
      "cell_type": "code",
      "execution_count": null,
      "id": "32e46699",
      "metadata": {
        "id": "32e46699",
        "outputId": "24389447-82f3-4233-8aa9-3556d939dec5"
      },
      "outputs": [
        {
          "name": "stdout",
          "output_type": "stream",
          "text": [
            "45\n"
          ]
        }
      ],
      "source": [
        "print(b)"
      ]
    },
    {
      "cell_type": "code",
      "execution_count": null,
      "id": "d85aed40",
      "metadata": {
        "id": "d85aed40",
        "outputId": "19a9a633-e9cb-4720-ac57-b5ffda00fa47"
      },
      "outputs": [
        {
          "name": "stdout",
          "output_type": "stream",
          "text": [
            "<class 'str'>\n"
          ]
        }
      ],
      "source": [
        "print(type(b))"
      ]
    },
    {
      "cell_type": "code",
      "execution_count": null,
      "id": "17f1b116",
      "metadata": {
        "id": "17f1b116"
      },
      "outputs": [],
      "source": [
        "\"45\""
      ]
    },
    {
      "cell_type": "code",
      "execution_count": null,
      "id": "fe1e450a",
      "metadata": {
        "id": "fe1e450a",
        "outputId": "cedaab92-837e-48e9-d1e1-1bcb143540e0"
      },
      "outputs": [
        {
          "name": "stdout",
          "output_type": "stream",
          "text": [
            "please enter a number56\n"
          ]
        }
      ],
      "source": [
        "c = int(input(\"please enter a number\"))"
      ]
    },
    {
      "cell_type": "code",
      "execution_count": null,
      "id": "cb50d74d",
      "metadata": {
        "id": "cb50d74d",
        "outputId": "9611ef02-6e94-4557-d1ab-c6f74ec934a5"
      },
      "outputs": [
        {
          "name": "stdout",
          "output_type": "stream",
          "text": [
            "56\n",
            "<class 'int'>\n"
          ]
        }
      ],
      "source": [
        "print(c)\n",
        "print(type(c))"
      ]
    },
    {
      "cell_type": "code",
      "execution_count": null,
      "id": "192d0a6f",
      "metadata": {
        "id": "192d0a6f",
        "outputId": "de1269cf-d9fb-41ba-db39-68b15be37434"
      },
      "outputs": [
        {
          "name": "stdout",
          "output_type": "stream",
          "text": [
            "Enter the First Name Nisarg\n",
            "Enter the last name Nikhil\n",
            "Enter the age 28\n",
            "my name is Nisarg Nikhil and my age is 28\n"
          ]
        }
      ],
      "source": [
        "a = input(\"Enter the First Name \")\n",
        "b = input(\"Enter the last name \")\n",
        "\n",
        "age = int(input(\"Enter the age \"))\n",
        "\n",
        "print(\"my name is {} and my age is {}\".format(a+\" \"+b,age))\n"
      ]
    },
    {
      "cell_type": "code",
      "execution_count": null,
      "id": "7b8fba0e",
      "metadata": {
        "id": "7b8fba0e",
        "outputId": "2c4ce750-2c16-4131-97bf-7bf4b61e02f7"
      },
      "outputs": [
        {
          "name": "stdout",
          "output_type": "stream",
          "text": [
            "please enter a mobile phone brandgxgxfgxfgxfc\n",
            "I donot have information\n"
          ]
        }
      ],
      "source": [
        "user_inp = input(\"please enter a mobile phone brand\")\n",
        "\n",
        "if user_inp.lower() == 'apple':\n",
        "    print(\"Invented by steve jobs\")\n",
        "elif user_inp.lower() == \"samsung\":\n",
        "    print(\"s24 ultra with 100 mp camera\")\n",
        "elif user_inp.lower() == 'nokia':\n",
        "    print(\"extincted\")\n",
        "elif user_inp.lower() == \"oppo\":\n",
        "    print(\"chinese brand\")\n",
        "else:\n",
        "    print(\"I donot have information\")\n",
        ""
      ]
    },
    {
      "cell_type": "code",
      "execution_count": null,
      "id": "47e8a30b",
      "metadata": {
        "id": "47e8a30b",
        "outputId": "d8c3407a-c9ca-4c49-a88a-8c36c8a33fb0"
      },
      "outputs": [
        {
          "name": "stdout",
          "output_type": "stream",
          "text": [
            "Please enter your nameashok\n",
            "your name starts with A and ends with k\n"
          ]
        }
      ],
      "source": [
        "## nested\n",
        "\n",
        "a = input(\"Please enter your name\").lower()\n",
        "\n",
        "if a.startswith(\"a\"):\n",
        "    if a.endswith('k'):\n",
        "        print(\"your name starts with A and ends with k\")\n",
        "    else:\n",
        "        print(\"your name starts with A and donot ends with k\")\n",
        "else:\n",
        "    print(\"You name doesn't starts with A\")"
      ]
    },
    {
      "cell_type": "code",
      "execution_count": null,
      "id": "daefaa5d",
      "metadata": {
        "id": "daefaa5d"
      },
      "outputs": [],
      "source": [
        "a = \"NISARG\""
      ]
    },
    {
      "cell_type": "code",
      "execution_count": null,
      "id": "231b048a",
      "metadata": {
        "id": "231b048a",
        "outputId": "19fb792a-85ef-4a4c-ef56-27f09d88b825"
      },
      "outputs": [
        {
          "name": "stdout",
          "output_type": "stream",
          "text": [
            "nisarg\n"
          ]
        }
      ],
      "source": [
        "print(a.lower())"
      ]
    },
    {
      "cell_type": "code",
      "execution_count": null,
      "id": "2bccc905",
      "metadata": {
        "id": "2bccc905",
        "outputId": "289ab042-604b-480e-b997-a22dabb57b41"
      },
      "outputs": [
        {
          "data": {
            "text/plain": [
              "'nisarg'"
            ]
          },
          "execution_count": 39,
          "metadata": {},
          "output_type": "execute_result"
        }
      ],
      "source": [
        "'NISARG'.lower()"
      ]
    },
    {
      "cell_type": "code",
      "execution_count": null,
      "id": "0dcf8174",
      "metadata": {
        "id": "0dcf8174",
        "outputId": "6d1ee407-52ca-4ad5-c0a0-ec4e8a1029e4"
      },
      "outputs": [
        {
          "name": "stdout",
          "output_type": "stream",
          "text": [
            "Package                       Version         Location                                       Installer\n",
            "----------------------------- --------------- ---------------------------------------------- ---------\n",
            "absl-py                       1.4.0           C:\\Users\\AKCLAP-05\\anaconda3\\Lib\\site-packages pip\n",
            "aiobotocore                   2.4.2           C:\\Users\\AKCLAP-05\\anaconda3\\Lib\\site-packages conda\n",
            "aiofiles                      22.1.0          C:\\Users\\AKCLAP-05\\anaconda3\\Lib\\site-packages conda\n",
            "aiohttp                       3.8.3           C:\\Users\\AKCLAP-05\\anaconda3\\Lib\\site-packages conda\n",
            "aioitertools                  0.7.1           C:\\Users\\AKCLAP-05\\anaconda3\\Lib\\site-packages conda\n",
            "aiosignal                     1.2.0           C:\\Users\\AKCLAP-05\\anaconda3\\Lib\\site-packages conda\n",
            "aiosqlite                     0.18.0          C:\\Users\\AKCLAP-05\\anaconda3\\Lib\\site-packages conda\n",
            "alabaster                     0.7.12          C:\\Users\\AKCLAP-05\\anaconda3\\Lib\\site-packages conda\n",
            "altair                        5.1.1           C:\\Users\\AKCLAP-05\\anaconda3\\Lib\\site-packages pip\n",
            "anaconda-catalogs             0.2.0           C:\\Users\\AKCLAP-05\\anaconda3\\Lib\\site-packages conda\n",
            "anaconda-client               1.11.3          C:\\Users\\AKCLAP-05\\anaconda3\\Lib\\site-packages\n",
            "anaconda-navigator            2.4.2           C:\\Users\\AKCLAP-05\\anaconda3\\Lib\\site-packages\n",
            "anaconda-project              0.11.1          C:\\Users\\AKCLAP-05\\anaconda3\\Lib\\site-packages conda\n",
            "anyio                         3.5.0           C:\\Users\\AKCLAP-05\\anaconda3\\Lib\\site-packages conda\n",
            "appdirs                       1.4.4           C:\\Users\\AKCLAP-05\\anaconda3\\Lib\\site-packages\n",
            "argon2-cffi                   21.3.0          C:\\Users\\AKCLAP-05\\anaconda3\\Lib\\site-packages conda\n",
            "argon2-cffi-bindings          21.2.0          C:\\Users\\AKCLAP-05\\anaconda3\\Lib\\site-packages conda\n",
            "arrow                         1.2.3           C:\\Users\\AKCLAP-05\\anaconda3\\Lib\\site-packages conda\n",
            "astroid                       2.14.2          C:\\Users\\AKCLAP-05\\anaconda3\\Lib\\site-packages conda\n",
            "astropy                       5.1             C:\\Users\\AKCLAP-05\\anaconda3\\Lib\\site-packages conda\n",
            "asttokens                     2.0.5           C:\\Users\\AKCLAP-05\\anaconda3\\Lib\\site-packages conda\n",
            "astunparse                    1.6.3           C:\\Users\\AKCLAP-05\\anaconda3\\Lib\\site-packages pip\n",
            "async-timeout                 4.0.2           C:\\Users\\AKCLAP-05\\anaconda3\\Lib\\site-packages conda\n",
            "atomicwrites                  1.4.0           C:\\Users\\AKCLAP-05\\anaconda3\\Lib\\site-packages conda\n",
            "attrs                         22.1.0          C:\\Users\\AKCLAP-05\\anaconda3\\Lib\\site-packages conda\n",
            "Automat                       20.2.0          C:\\Users\\AKCLAP-05\\anaconda3\\Lib\\site-packages conda\n",
            "autopep8                      1.6.0           C:\\Users\\AKCLAP-05\\anaconda3\\Lib\\site-packages conda\n",
            "autoviz                       0.1.732         C:\\Users\\AKCLAP-05\\anaconda3\\Lib\\site-packages pip\n",
            "Babel                         2.11.0          C:\\Users\\AKCLAP-05\\anaconda3\\Lib\\site-packages conda\n",
            "backcall                      0.2.0           C:\\Users\\AKCLAP-05\\anaconda3\\Lib\\site-packages conda\n",
            "backports.functools-lru-cache 1.6.4           C:\\Users\\AKCLAP-05\\anaconda3\\Lib\\site-packages conda\n",
            "backports.tempfile            1.0             C:\\Users\\AKCLAP-05\\anaconda3\\Lib\\site-packages conda\n",
            "backports.weakref             1.0.post1       C:\\Users\\AKCLAP-05\\anaconda3\\Lib\\site-packages\n",
            "bcrypt                        3.2.0           C:\\Users\\AKCLAP-05\\anaconda3\\Lib\\site-packages conda\n",
            "beautifulsoup4                4.12.2          C:\\Users\\AKCLAP-05\\anaconda3\\Lib\\site-packages conda\n",
            "binaryornot                   0.4.4           C:\\Users\\AKCLAP-05\\anaconda3\\Lib\\site-packages conda\n",
            "black                         0.0             C:\\Users\\AKCLAP-05\\anaconda3\\Lib\\site-packages conda\n",
            "bleach                        4.1.0           C:\\Users\\AKCLAP-05\\anaconda3\\Lib\\site-packages conda\n",
            "blinker                       1.6.2           C:\\Users\\AKCLAP-05\\anaconda3\\Lib\\site-packages pip\n",
            "bokeh                         2.4.3           C:\\Users\\AKCLAP-05\\anaconda3\\Lib\\site-packages pip\n",
            "boltons                       23.0.0          C:\\Users\\AKCLAP-05\\anaconda3\\Lib\\site-packages conda\n",
            "boto3                         1.24.28         C:\\Users\\AKCLAP-05\\anaconda3\\Lib\\site-packages conda\n",
            "botocore                      1.27.59         C:\\Users\\AKCLAP-05\\anaconda3\\Lib\\site-packages conda\n",
            "Bottleneck                    1.3.5           C:\\Users\\AKCLAP-05\\anaconda3\\Lib\\site-packages conda\n",
            "brotlipy                      0.7.0           C:\\Users\\AKCLAP-05\\anaconda3\\Lib\\site-packages\n",
            "cachetools                    5.3.1           C:\\Users\\AKCLAP-05\\anaconda3\\Lib\\site-packages pip\n",
            "certifi                       2020.6.20       C:\\Users\\AKCLAP-05\\anaconda3\\Lib\\site-packages\n",
            "cffi                          1.15.1          C:\\Users\\AKCLAP-05\\anaconda3\\Lib\\site-packages conda\n",
            "chardet                       4.0.0           C:\\Users\\AKCLAP-05\\anaconda3\\Lib\\site-packages conda\n",
            "charset-normalizer            2.0.4           C:\\Users\\AKCLAP-05\\anaconda3\\Lib\\site-packages conda\n",
            "click                         8.0.4           C:\\Users\\AKCLAP-05\\anaconda3\\Lib\\site-packages conda\n",
            "cloudpickle                   2.2.1           C:\\Users\\AKCLAP-05\\anaconda3\\Lib\\site-packages conda\n",
            "clyent                        1.2.2           C:\\Users\\AKCLAP-05\\anaconda3\\Lib\\site-packages\n",
            "colorama                      0.4.6           C:\\Users\\AKCLAP-05\\anaconda3\\Lib\\site-packages conda\n",
            "colorcet                      3.0.1           C:\\Users\\AKCLAP-05\\anaconda3\\Lib\\site-packages conda\n",
            "comm                          0.1.2           C:\\Users\\AKCLAP-05\\anaconda3\\Lib\\site-packages conda\n",
            "conda                         23.7.2          C:\\Users\\AKCLAP-05\\anaconda3\\Lib\\site-packages conda\n",
            "conda-build                   3.25.0          C:\\Users\\AKCLAP-05\\anaconda3\\Lib\\site-packages conda\n",
            "conda-content-trust           0.1.3           C:\\Users\\AKCLAP-05\\anaconda3\\Lib\\site-packages conda\n",
            "conda_index                   0.2.3           C:\\Users\\AKCLAP-05\\anaconda3\\Lib\\site-packages conda\n",
            "conda-libmamba-solver         23.5.0          C:\\Users\\AKCLAP-05\\anaconda3\\Lib\\site-packages conda\n",
            "conda-pack                    0.6.0           C:\\Users\\AKCLAP-05\\anaconda3\\Lib\\site-packages conda\n",
            "conda-package-handling        2.1.0           C:\\Users\\AKCLAP-05\\anaconda3\\Lib\\site-packages conda\n",
            "conda_package_streaming       0.8.0           C:\\Users\\AKCLAP-05\\anaconda3\\Lib\\site-packages conda\n",
            "conda-repo-cli                1.0.41          C:\\Users\\AKCLAP-05\\anaconda3\\Lib\\site-packages\n",
            "conda-token                   0.4.0           C:\\Users\\AKCLAP-05\\anaconda3\\Lib\\site-packages conda\n",
            "conda-verify                  3.4.2           C:\\Users\\AKCLAP-05\\anaconda3\\Lib\\site-packages conda\n",
            "constantly                    15.1.0          C:\\Users\\AKCLAP-05\\anaconda3\\Lib\\site-packages\n",
            "contourpy                     1.0.5           C:\\Users\\AKCLAP-05\\anaconda3\\Lib\\site-packages conda\n",
            "cookiecutter                  1.7.3           C:\\Users\\AKCLAP-05\\anaconda3\\Lib\\site-packages conda\n",
            "cryptography                  39.0.1          C:\\Users\\AKCLAP-05\\anaconda3\\Lib\\site-packages conda\n",
            "cssselect                     1.1.0           C:\\Users\\AKCLAP-05\\anaconda3\\Lib\\site-packages\n",
            "cycler                        0.11.0          C:\\Users\\AKCLAP-05\\anaconda3\\Lib\\site-packages conda\n",
            "cytoolz                       0.12.0          C:\\Users\\AKCLAP-05\\anaconda3\\Lib\\site-packages conda\n",
            "daal4py                       2023.1.1        C:\\Users\\AKCLAP-05\\anaconda3\\Lib\\site-packages\n",
            "dask                          2023.6.0        C:\\Users\\AKCLAP-05\\anaconda3\\Lib\\site-packages conda\n",
            "datashader                    0.15.0          C:\\Users\\AKCLAP-05\\anaconda3\\Lib\\site-packages conda\n",
            "datashape                     0.5.4           C:\\Users\\AKCLAP-05\\anaconda3\\Lib\\site-packages\n",
            "debugpy                       1.5.1           C:\\Users\\AKCLAP-05\\anaconda3\\Lib\\site-packages conda\n",
            "decorator                     5.1.1           C:\\Users\\AKCLAP-05\\anaconda3\\Lib\\site-packages conda\n",
            "defusedxml                    0.7.1           C:\\Users\\AKCLAP-05\\anaconda3\\Lib\\site-packages conda\n",
            "diff-match-patch              20200713        C:\\Users\\AKCLAP-05\\anaconda3\\Lib\\site-packages conda\n",
            "dill                          0.3.6           C:\\Users\\AKCLAP-05\\anaconda3\\Lib\\site-packages conda\n",
            "distributed                   2023.6.0        C:\\Users\\AKCLAP-05\\anaconda3\\Lib\\site-packages conda\n",
            "docstring-to-markdown         0.11            C:\\Users\\AKCLAP-05\\anaconda3\\Lib\\site-packages conda\n",
            "docutils                      0.18.1          C:\\Users\\AKCLAP-05\\anaconda3\\Lib\\site-packages conda\n",
            "emoji                         2.8.0           C:\\Users\\AKCLAP-05\\anaconda3\\Lib\\site-packages pip\n",
            "entrypoints                   0.4             C:\\Users\\AKCLAP-05\\anaconda3\\Lib\\site-packages conda\n",
            "et-xmlfile                    1.1.0           C:\\Users\\AKCLAP-05\\anaconda3\\Lib\\site-packages\n",
            "executing                     0.8.3           C:\\Users\\AKCLAP-05\\anaconda3\\Lib\\site-packages conda\n",
            "extra-streamlit-components    0.1.60          C:\\Users\\AKCLAP-05\\anaconda3\\Lib\\site-packages pip\n",
            "fastjsonschema                2.16.2          C:\\Users\\AKCLAP-05\\anaconda3\\Lib\\site-packages conda\n",
            "filelock                      3.9.0           C:\\Users\\AKCLAP-05\\anaconda3\\Lib\\site-packages conda\n",
            "flake8                        6.0.0           C:\\Users\\AKCLAP-05\\anaconda3\\Lib\\site-packages conda\n",
            "Flask                         2.2.2           C:\\Users\\AKCLAP-05\\anaconda3\\Lib\\site-packages conda\n",
            "flatbuffers                   23.5.26         C:\\Users\\AKCLAP-05\\anaconda3\\Lib\\site-packages pip\n",
            "fonttools                     4.25.0          C:\\Users\\AKCLAP-05\\anaconda3\\Lib\\site-packages\n",
            "frozenlist                    1.3.3           C:\\Users\\AKCLAP-05\\anaconda3\\Lib\\site-packages conda\n",
            "fsspec                        2023.3.0        C:\\Users\\AKCLAP-05\\anaconda3\\Lib\\site-packages conda\n",
            "future                        0.18.3          C:\\Users\\AKCLAP-05\\anaconda3\\Lib\\site-packages conda\n",
            "gast                          0.4.0           C:\\Users\\AKCLAP-05\\anaconda3\\Lib\\site-packages pip\n",
            "gensim                        4.3.0           C:\\Users\\AKCLAP-05\\anaconda3\\Lib\\site-packages conda\n",
            "gitdb                         4.0.10          C:\\Users\\AKCLAP-05\\anaconda3\\Lib\\site-packages pip\n",
            "GitPython                     3.1.35          C:\\Users\\AKCLAP-05\\anaconda3\\Lib\\site-packages pip\n",
            "glob2                         0.7             C:\\Users\\AKCLAP-05\\anaconda3\\Lib\\site-packages conda\n",
            "google-auth                   2.22.0          C:\\Users\\AKCLAP-05\\anaconda3\\Lib\\site-packages pip\n",
            "google-auth-oauthlib          1.0.0           C:\\Users\\AKCLAP-05\\anaconda3\\Lib\\site-packages pip\n",
            "google-pasta                  0.2.0           C:\\Users\\AKCLAP-05\\anaconda3\\Lib\\site-packages pip\n",
            "greenlet                      2.0.1           C:\\Users\\AKCLAP-05\\anaconda3\\Lib\\site-packages conda\n",
            "grpcio                        1.57.0          C:\\Users\\AKCLAP-05\\anaconda3\\Lib\\site-packages pip\n",
            "h5py                          3.7.0           C:\\Users\\AKCLAP-05\\anaconda3\\Lib\\site-packages conda\n",
            "HeapDict                      1.0.1           C:\\Users\\AKCLAP-05\\anaconda3\\Lib\\site-packages conda\n",
            "holoviews                     1.14.9          C:\\Users\\AKCLAP-05\\anaconda3\\Lib\\site-packages pip\n",
            "hvplot                        0.7.3           C:\\Users\\AKCLAP-05\\anaconda3\\Lib\\site-packages pip\n",
            "hyperlink                     21.0.0          C:\\Users\\AKCLAP-05\\anaconda3\\Lib\\site-packages conda\n",
            "idna                          3.4             C:\\Users\\AKCLAP-05\\anaconda3\\Lib\\site-packages conda\n",
            "imagecodecs                   2021.8.26       C:\\Users\\AKCLAP-05\\anaconda3\\Lib\\site-packages conda\n",
            "imageio                       2.26.0          C:\\Users\\AKCLAP-05\\anaconda3\\Lib\\site-packages conda\n",
            "imagesize                     1.4.1           C:\\Users\\AKCLAP-05\\anaconda3\\Lib\\site-packages conda\n",
            "imbalanced-learn              0.10.1          C:\\Users\\AKCLAP-05\\anaconda3\\Lib\\site-packages conda\n",
            "importlib-metadata            6.0.0           C:\\Users\\AKCLAP-05\\anaconda3\\Lib\\site-packages conda\n",
            "importlib-resources           6.0.1           C:\\Users\\AKCLAP-05\\anaconda3\\Lib\\site-packages pip\n",
            "incremental                   21.3.0          C:\\Users\\AKCLAP-05\\anaconda3\\Lib\\site-packages conda\n",
            "inflection                    0.5.1           C:\\Users\\AKCLAP-05\\anaconda3\\Lib\\site-packages\n",
            "iniconfig                     1.1.1           C:\\Users\\AKCLAP-05\\anaconda3\\Lib\\site-packages conda\n",
            "intake                        0.6.8           C:\\Users\\AKCLAP-05\\anaconda3\\Lib\\site-packages conda\n",
            "intervaltree                  3.1.0           C:\\Users\\AKCLAP-05\\anaconda3\\Lib\\site-packages conda\n",
            "ipykernel                     6.19.2          C:\\Users\\AKCLAP-05\\anaconda3\\Lib\\site-packages conda\n",
            "ipython                       8.12.0          C:\\Users\\AKCLAP-05\\anaconda3\\Lib\\site-packages conda\n",
            "ipython-genutils              0.2.0           C:\\Users\\AKCLAP-05\\anaconda3\\Lib\\site-packages conda\n",
            "ipywidgets                    8.0.4           C:\\Users\\AKCLAP-05\\anaconda3\\Lib\\site-packages conda\n",
            "isort                         5.9.3           C:\\Users\\AKCLAP-05\\anaconda3\\Lib\\site-packages conda\n",
            "itemadapter                   0.3.0           C:\\Users\\AKCLAP-05\\anaconda3\\Lib\\site-packages conda\n",
            "itemloaders                   1.0.4           C:\\Users\\AKCLAP-05\\anaconda3\\Lib\\site-packages conda\n",
            "itsdangerous                  2.0.1           C:\\Users\\AKCLAP-05\\anaconda3\\Lib\\site-packages conda\n",
            "jaraco.classes                3.2.1           C:\\Users\\AKCLAP-05\\anaconda3\\Lib\\site-packages conda\n",
            "jedi                          0.18.1          C:\\Users\\AKCLAP-05\\anaconda3\\Lib\\site-packages conda\n",
            "jellyfish                     0.9.0           C:\\Users\\AKCLAP-05\\anaconda3\\Lib\\site-packages conda\n",
            "Jinja2                        3.1.2           C:\\Users\\AKCLAP-05\\anaconda3\\Lib\\site-packages conda\n",
            "jinja2-time                   0.2.0           C:\\Users\\AKCLAP-05\\anaconda3\\Lib\\site-packages conda\n",
            "jmespath                      0.10.0          C:\\Users\\AKCLAP-05\\anaconda3\\Lib\\site-packages conda\n",
            "joblib                        1.2.0           C:\\Users\\AKCLAP-05\\anaconda3\\Lib\\site-packages conda\n",
            "json5                         0.9.6           C:\\Users\\AKCLAP-05\\anaconda3\\Lib\\site-packages conda\n",
            "jsonpatch                     1.32            C:\\Users\\AKCLAP-05\\anaconda3\\Lib\\site-packages conda\n",
            "jsonpointer                   2.1             C:\\Users\\AKCLAP-05\\anaconda3\\Lib\\site-packages\n",
            "jsonschema                    4.17.3          C:\\Users\\AKCLAP-05\\anaconda3\\Lib\\site-packages conda\n",
            "jupyter                       1.0.0           C:\\Users\\AKCLAP-05\\anaconda3\\Lib\\site-packages conda\n",
            "jupyter_client                7.4.9           C:\\Users\\AKCLAP-05\\anaconda3\\Lib\\site-packages conda\n",
            "jupyter-console               6.6.3           C:\\Users\\AKCLAP-05\\anaconda3\\Lib\\site-packages conda\n",
            "jupyter_core                  5.3.0           C:\\Users\\AKCLAP-05\\anaconda3\\Lib\\site-packages conda\n",
            "jupyter-events                0.6.3           C:\\Users\\AKCLAP-05\\anaconda3\\Lib\\site-packages conda\n",
            "jupyter-server                1.23.4          C:\\Users\\AKCLAP-05\\anaconda3\\Lib\\site-packages conda\n",
            "jupyter_server_fileid         0.9.0           C:\\Users\\AKCLAP-05\\anaconda3\\Lib\\site-packages conda\n",
            "jupyter_server_terminals      0.4.4           C:\\Users\\AKCLAP-05\\anaconda3\\Lib\\site-packages conda\n",
            "jupyter_server_ydoc           0.8.0           C:\\Users\\AKCLAP-05\\anaconda3\\Lib\\site-packages conda\n",
            "jupyter-ydoc                  0.2.4           C:\\Users\\AKCLAP-05\\anaconda3\\Lib\\site-packages conda\n",
            "jupyterlab                    3.6.3           C:\\Users\\AKCLAP-05\\anaconda3\\Lib\\site-packages conda\n",
            "jupyterlab-pygments           0.1.2           C:\\Users\\AKCLAP-05\\anaconda3\\Lib\\site-packages conda\n",
            "jupyterlab_server             2.22.0          C:\\Users\\AKCLAP-05\\anaconda3\\Lib\\site-packages conda\n",
            "jupyterlab-widgets            3.0.5           C:\\Users\\AKCLAP-05\\anaconda3\\Lib\\site-packages conda\n",
            "keras                         2.13.1          C:\\Users\\AKCLAP-05\\anaconda3\\Lib\\site-packages pip\n",
            "keyring                       23.13.1         C:\\Users\\AKCLAP-05\\anaconda3\\Lib\\site-packages conda\n",
            "kiwisolver                    1.4.4           C:\\Users\\AKCLAP-05\\anaconda3\\Lib\\site-packages conda\n",
            "labelImg                      1.8.6           C:\\Users\\AKCLAP-05\\anaconda3\\Lib\\site-packages pip\n",
            "lazy_loader                   0.2             C:\\Users\\AKCLAP-05\\anaconda3\\Lib\\site-packages conda\n",
            "lazy-object-proxy             1.6.0           C:\\Users\\AKCLAP-05\\anaconda3\\Lib\\site-packages conda\n",
            "libarchive-c                  2.9             C:\\Users\\AKCLAP-05\\anaconda3\\Lib\\site-packages conda\n",
            "libclang                      16.0.6          C:\\Users\\AKCLAP-05\\anaconda3\\Lib\\site-packages pip\n",
            "libmambapy                    1.4.1           C:\\Users\\AKCLAP-05\\anaconda3\\Lib\\site-packages conda\n",
            "linkify-it-py                 2.0.0           C:\\Users\\AKCLAP-05\\anaconda3\\Lib\\site-packages conda\n",
            "llvmlite                      0.40.0          C:\\Users\\AKCLAP-05\\anaconda3\\Lib\\site-packages conda\n",
            "lmdb                          1.4.1           C:\\Users\\AKCLAP-05\\anaconda3\\Lib\\site-packages conda\n",
            "locket                        1.0.0           C:\\Users\\AKCLAP-05\\anaconda3\\Lib\\site-packages conda\n",
            "lxml                          4.9.2           C:\\Users\\AKCLAP-05\\anaconda3\\Lib\\site-packages conda\n",
            "lz4                           4.3.2           C:\\Users\\AKCLAP-05\\anaconda3\\Lib\\site-packages conda\n",
            "Markdown                      3.4.1           C:\\Users\\AKCLAP-05\\anaconda3\\Lib\\site-packages conda\n",
            "markdown-it-py                2.2.0           C:\\Users\\AKCLAP-05\\anaconda3\\Lib\\site-packages conda\n",
            "MarkupSafe                    2.1.1           C:\\Users\\AKCLAP-05\\anaconda3\\Lib\\site-packages conda\n",
            "matplotlib                    3.7.1           C:\\Users\\AKCLAP-05\\anaconda3\\Lib\\site-packages conda\n",
            "matplotlib-inline             0.1.6           C:\\Users\\AKCLAP-05\\anaconda3\\Lib\\site-packages conda\n",
            "mccabe                        0.7.0           C:\\Users\\AKCLAP-05\\anaconda3\\Lib\\site-packages conda\n",
            "mdit-py-plugins               0.3.0           C:\\Users\\AKCLAP-05\\anaconda3\\Lib\\site-packages conda\n",
            "mdurl                         0.1.0           C:\\Users\\AKCLAP-05\\anaconda3\\Lib\\site-packages conda\n",
            "menuinst                      1.4.19          C:\\Users\\AKCLAP-05\\anaconda3\\Lib\\site-packages conda\n",
            "mistune                       0.8.4           C:\\Users\\AKCLAP-05\\anaconda3\\Lib\\site-packages conda\n",
            "mkl-fft                       1.3.6           C:\\Users\\AKCLAP-05\\anaconda3\\Lib\\site-packages\n",
            "mkl-random                    1.2.2           C:\\Users\\AKCLAP-05\\anaconda3\\Lib\\site-packages conda\n",
            "mkl-service                   2.4.0           C:\\Users\\AKCLAP-05\\anaconda3\\Lib\\site-packages\n",
            "more-itertools                8.12.0          C:\\Users\\AKCLAP-05\\anaconda3\\Lib\\site-packages conda\n",
            "mpmath                        1.2.1           C:\\Users\\AKCLAP-05\\anaconda3\\Lib\\site-packages\n",
            "msgpack                       1.0.3           C:\\Users\\AKCLAP-05\\anaconda3\\Lib\\site-packages conda\n",
            "multidict                     6.0.2           C:\\Users\\AKCLAP-05\\anaconda3\\Lib\\site-packages conda\n",
            "multipledispatch              0.6.0           C:\\Users\\AKCLAP-05\\anaconda3\\Lib\\site-packages conda\n",
            "munkres                       1.1.4           C:\\Users\\AKCLAP-05\\anaconda3\\Lib\\site-packages\n",
            "mypy-extensions               0.4.3           C:\\Users\\AKCLAP-05\\anaconda3\\Lib\\site-packages\n",
            "mysql-connector               2.2.9           C:\\Users\\AKCLAP-05\\anaconda3\\Lib\\site-packages pip\n",
            "navigator-updater             0.4.0           C:\\Users\\AKCLAP-05\\anaconda3\\Lib\\site-packages\n",
            "nbclassic                     0.5.5           C:\\Users\\AKCLAP-05\\anaconda3\\Lib\\site-packages conda\n",
            "nbclient                      0.5.13          C:\\Users\\AKCLAP-05\\anaconda3\\Lib\\site-packages conda\n",
            "nbconvert                     6.5.4           C:\\Users\\AKCLAP-05\\anaconda3\\Lib\\site-packages conda\n",
            "nbformat                      5.7.0           C:\\Users\\AKCLAP-05\\anaconda3\\Lib\\site-packages conda\n",
            "nest-asyncio                  1.5.6           C:\\Users\\AKCLAP-05\\anaconda3\\Lib\\site-packages conda\n",
            "networkx                      2.8.4           C:\\Users\\AKCLAP-05\\anaconda3\\Lib\\site-packages conda\n",
            "nltk                          3.7             C:\\Users\\AKCLAP-05\\anaconda3\\Lib\\site-packages conda\n",
            "notebook                      6.5.4           C:\\Users\\AKCLAP-05\\anaconda3\\Lib\\site-packages conda\n",
            "notebook_shim                 0.2.2           C:\\Users\\AKCLAP-05\\anaconda3\\Lib\\site-packages conda\n",
            "numba                         0.57.0          C:\\Users\\AKCLAP-05\\anaconda3\\Lib\\site-packages conda\n",
            "numexpr                       2.8.4           C:\\Users\\AKCLAP-05\\anaconda3\\Lib\\site-packages conda\n",
            "numpy                         1.24.3          C:\\Users\\AKCLAP-05\\anaconda3\\Lib\\site-packages conda\n",
            "numpydoc                      1.5.0           C:\\Users\\AKCLAP-05\\anaconda3\\Lib\\site-packages conda\n",
            "oauthlib                      3.2.2           C:\\Users\\AKCLAP-05\\anaconda3\\Lib\\site-packages pip\n",
            "opencv-contrib-python         4.8.0.74        C:\\Users\\AKCLAP-05\\anaconda3\\Lib\\site-packages pip\n",
            "openpyxl                      3.0.10          C:\\Users\\AKCLAP-05\\anaconda3\\Lib\\site-packages\n",
            "opt-einsum                    3.3.0           C:\\Users\\AKCLAP-05\\anaconda3\\Lib\\site-packages pip\n",
            "packaging                     23.0            C:\\Users\\AKCLAP-05\\anaconda3\\Lib\\site-packages conda\n",
            "pandas                        1.5.3           C:\\Users\\AKCLAP-05\\anaconda3\\Lib\\site-packages conda\n",
            "pandas-dq                     1.28            C:\\Users\\AKCLAP-05\\anaconda3\\Lib\\site-packages pip\n",
            "pandocfilters                 1.5.0           C:\\Users\\AKCLAP-05\\anaconda3\\Lib\\site-packages conda\n",
            "panel                         0.14.4          C:\\Users\\AKCLAP-05\\anaconda3\\Lib\\site-packages pip\n",
            "param                         1.13.0          C:\\Users\\AKCLAP-05\\anaconda3\\Lib\\site-packages conda\n",
            "paramiko                      2.8.1           C:\\Users\\AKCLAP-05\\anaconda3\\Lib\\site-packages conda\n",
            "parsel                        1.6.0           C:\\Users\\AKCLAP-05\\anaconda3\\Lib\\site-packages conda\n",
            "parso                         0.8.3           C:\\Users\\AKCLAP-05\\anaconda3\\Lib\\site-packages conda\n",
            "partd                         1.2.0           C:\\Users\\AKCLAP-05\\anaconda3\\Lib\\site-packages conda\n",
            "pathlib                       1.0.1           C:\\Users\\AKCLAP-05\\anaconda3\\Lib\\site-packages conda\n",
            "pathspec                      0.10.3          C:\\Users\\AKCLAP-05\\anaconda3\\Lib\\site-packages conda\n",
            "patsy                         0.5.3           C:\\Users\\AKCLAP-05\\anaconda3\\Lib\\site-packages\n",
            "pep8                          1.7.1           C:\\Users\\AKCLAP-05\\anaconda3\\Lib\\site-packages\n",
            "pexpect                       4.8.0           C:\\Users\\AKCLAP-05\\anaconda3\\Lib\\site-packages conda\n",
            "pickleshare                   0.7.5           C:\\Users\\AKCLAP-05\\anaconda3\\Lib\\site-packages conda\n",
            "Pillow                        9.4.0           C:\\Users\\AKCLAP-05\\anaconda3\\Lib\\site-packages\n",
            "pip                           23.1.2          C:\\Users\\AKCLAP-05\\anaconda3\\Lib\\site-packages\n",
            "pkginfo                       1.9.6           C:\\Users\\AKCLAP-05\\anaconda3\\Lib\\site-packages conda\n",
            "platformdirs                  2.5.2           C:\\Users\\AKCLAP-05\\anaconda3\\Lib\\site-packages conda\n",
            "plotly                        5.9.0           C:\\Users\\AKCLAP-05\\anaconda3\\Lib\\site-packages conda\n",
            "pluggy                        1.0.0           C:\\Users\\AKCLAP-05\\anaconda3\\Lib\\site-packages conda\n",
            "ply                           3.11            C:\\Users\\AKCLAP-05\\anaconda3\\Lib\\site-packages\n",
            "pooch                         1.4.0           C:\\Users\\AKCLAP-05\\anaconda3\\Lib\\site-packages conda\n",
            "poyo                          0.5.0           C:\\Users\\AKCLAP-05\\anaconda3\\Lib\\site-packages conda\n",
            "prometheus-client             0.14.1          C:\\Users\\AKCLAP-05\\anaconda3\\Lib\\site-packages conda\n",
            "prompt-toolkit                3.0.36          C:\\Users\\AKCLAP-05\\anaconda3\\Lib\\site-packages conda\n",
            "Protego                       0.1.16          C:\\Users\\AKCLAP-05\\anaconda3\\Lib\\site-packages conda\n",
            "protobuf                      4.24.2          C:\\Users\\AKCLAP-05\\anaconda3\\Lib\\site-packages pip\n",
            "psutil                        5.9.0           C:\\Users\\AKCLAP-05\\anaconda3\\Lib\\site-packages conda\n",
            "ptyprocess                    0.7.0           C:\\Users\\AKCLAP-05\\anaconda3\\Lib\\site-packages conda\n",
            "pure-eval                     0.2.2           C:\\Users\\AKCLAP-05\\anaconda3\\Lib\\site-packages conda\n",
            "py-cpuinfo                    8.0.0           C:\\Users\\AKCLAP-05\\anaconda3\\Lib\\site-packages conda\n",
            "py4j                          0.10.9.7        C:\\Users\\AKCLAP-05\\anaconda3\\Lib\\site-packages pip\n",
            "pyamg                         5.0.1           C:\\Users\\AKCLAP-05\\anaconda3\\Lib\\site-packages pip\n",
            "pyarrow                       11.0.0          C:\\Users\\AKCLAP-05\\anaconda3\\Lib\\site-packages\n",
            "pyasn1                        0.4.8           C:\\Users\\AKCLAP-05\\anaconda3\\Lib\\site-packages conda\n",
            "pyasn1-modules                0.2.8           C:\\Users\\AKCLAP-05\\anaconda3\\Lib\\site-packages\n",
            "pycodestyle                   2.10.0          C:\\Users\\AKCLAP-05\\anaconda3\\Lib\\site-packages conda\n",
            "pycosat                       0.6.4           C:\\Users\\AKCLAP-05\\anaconda3\\Lib\\site-packages conda\n",
            "pycparser                     2.21            C:\\Users\\AKCLAP-05\\anaconda3\\Lib\\site-packages conda\n",
            "pyct                          0.5.0           C:\\Users\\AKCLAP-05\\anaconda3\\Lib\\site-packages conda\n",
            "pycurl                        7.45.2          C:\\Users\\AKCLAP-05\\anaconda3\\Lib\\site-packages\n",
            "pydeck                        0.8.0           C:\\Users\\AKCLAP-05\\anaconda3\\Lib\\site-packages pip\n",
            "PyDispatcher                  2.0.5           C:\\Users\\AKCLAP-05\\anaconda3\\Lib\\site-packages\n",
            "pydocstyle                    6.3.0           C:\\Users\\AKCLAP-05\\anaconda3\\Lib\\site-packages conda\n",
            "pyerfa                        2.0.0           C:\\Users\\AKCLAP-05\\anaconda3\\Lib\\site-packages conda\n",
            "pyflakes                      3.0.1           C:\\Users\\AKCLAP-05\\anaconda3\\Lib\\site-packages conda\n",
            "Pygments                      2.15.1          C:\\Users\\AKCLAP-05\\anaconda3\\Lib\\site-packages conda\n",
            "PyJWT                         2.4.0           C:\\Users\\AKCLAP-05\\anaconda3\\Lib\\site-packages conda\n",
            "pylint                        2.16.2          C:\\Users\\AKCLAP-05\\anaconda3\\Lib\\site-packages conda\n",
            "pylint-venv                   2.3.0           C:\\Users\\AKCLAP-05\\anaconda3\\Lib\\site-packages conda\n",
            "pyls-spyder                   0.4.0           C:\\Users\\AKCLAP-05\\anaconda3\\Lib\\site-packages\n",
            "Pympler                       1.0.1           C:\\Users\\AKCLAP-05\\anaconda3\\Lib\\site-packages pip\n",
            "PyMySQL                       1.1.0           C:\\Users\\AKCLAP-05\\anaconda3\\Lib\\site-packages pip\n",
            "PyNaCl                        1.5.0           C:\\Users\\AKCLAP-05\\anaconda3\\Lib\\site-packages conda\n",
            "pyodbc                        4.0.34          C:\\Users\\AKCLAP-05\\anaconda3\\Lib\\site-packages conda\n",
            "pyOpenSSL                     23.0.0          C:\\Users\\AKCLAP-05\\anaconda3\\Lib\\site-packages conda\n",
            "pyparsing                     3.0.9           C:\\Users\\AKCLAP-05\\anaconda3\\Lib\\site-packages conda\n",
            "PyQt5                         5.15.9          C:\\Users\\AKCLAP-05\\anaconda3\\Lib\\site-packages pip\n",
            "PyQt5-Qt5                     5.15.2          C:\\Users\\AKCLAP-05\\anaconda3\\Lib\\site-packages pip\n",
            "PyQt5-sip                     12.11.0         C:\\Users\\AKCLAP-05\\anaconda3\\Lib\\site-packages conda\n",
            "PyQtWebEngine                 5.15.4          C:\\Users\\AKCLAP-05\\anaconda3\\Lib\\site-packages conda\n",
            "pyrsistent                    0.18.0          C:\\Users\\AKCLAP-05\\anaconda3\\Lib\\site-packages conda\n",
            "PySocks                       1.7.1           C:\\Users\\AKCLAP-05\\anaconda3\\Lib\\site-packages conda\n",
            "pyspark                       3.5.0           C:\\Users\\AKCLAP-05\\anaconda3\\Lib\\site-packages pip\n",
            "pytest                        7.3.1           C:\\Users\\AKCLAP-05\\anaconda3\\Lib\\site-packages conda\n",
            "python-dateutil               2.8.2           C:\\Users\\AKCLAP-05\\anaconda3\\Lib\\site-packages conda\n",
            "python-json-logger            2.0.7           C:\\Users\\AKCLAP-05\\anaconda3\\Lib\\site-packages conda\n",
            "python-lsp-black              1.2.1           C:\\Users\\AKCLAP-05\\anaconda3\\Lib\\site-packages conda\n",
            "python-lsp-jsonrpc            1.0.0           C:\\Users\\AKCLAP-05\\anaconda3\\Lib\\site-packages\n",
            "python-lsp-server             1.7.2           C:\\Users\\AKCLAP-05\\anaconda3\\Lib\\site-packages conda\n",
            "python-slugify                5.0.2           C:\\Users\\AKCLAP-05\\anaconda3\\Lib\\site-packages conda\n",
            "python-snappy                 0.6.1           C:\\Users\\AKCLAP-05\\anaconda3\\Lib\\site-packages conda\n",
            "pytoolconfig                  1.2.5           C:\\Users\\AKCLAP-05\\anaconda3\\Lib\\site-packages conda\n",
            "pytz                          2022.7          C:\\Users\\AKCLAP-05\\anaconda3\\Lib\\site-packages conda\n",
            "pytz-deprecation-shim         0.1.0.post0     C:\\Users\\AKCLAP-05\\anaconda3\\Lib\\site-packages pip\n",
            "pyviz-comms                   2.3.0           C:\\Users\\AKCLAP-05\\anaconda3\\Lib\\site-packages conda\n",
            "PyWavelets                    1.4.1           C:\\Users\\AKCLAP-05\\anaconda3\\Lib\\site-packages conda\n",
            "pywin32                       305.1           C:\\Users\\AKCLAP-05\\anaconda3\\Lib\\site-packages\n",
            "pywin32-ctypes                0.2.0           C:\\Users\\AKCLAP-05\\anaconda3\\Lib\\site-packages conda\n",
            "pywinpty                      2.0.10          C:\\Users\\AKCLAP-05\\anaconda3\\Lib\\site-packages conda\n",
            "PyYAML                        6.0             C:\\Users\\AKCLAP-05\\anaconda3\\Lib\\site-packages conda\n",
            "pyzmq                         23.2.0          C:\\Users\\AKCLAP-05\\anaconda3\\Lib\\site-packages conda\n",
            "QDarkStyle                    3.0.2           C:\\Users\\AKCLAP-05\\anaconda3\\Lib\\site-packages conda\n",
            "qstylizer                     0.2.2           C:\\Users\\AKCLAP-05\\anaconda3\\Lib\\site-packages conda\n",
            "QtAwesome                     1.2.2           C:\\Users\\AKCLAP-05\\anaconda3\\Lib\\site-packages conda\n",
            "qtconsole                     5.4.2           C:\\Users\\AKCLAP-05\\anaconda3\\Lib\\site-packages conda\n",
            "QtPy                          2.2.0           C:\\Users\\AKCLAP-05\\anaconda3\\Lib\\site-packages conda\n",
            "queuelib                      1.5.0           C:\\Users\\AKCLAP-05\\anaconda3\\Lib\\site-packages\n",
            "regex                         2022.7.9        C:\\Users\\AKCLAP-05\\anaconda3\\Lib\\site-packages conda\n",
            "requests                      2.29.0          C:\\Users\\AKCLAP-05\\anaconda3\\Lib\\site-packages conda\n",
            "requests-file                 1.5.1           C:\\Users\\AKCLAP-05\\anaconda3\\Lib\\site-packages conda\n",
            "requests-oauthlib             1.3.1           C:\\Users\\AKCLAP-05\\anaconda3\\Lib\\site-packages pip\n",
            "requests-toolbelt             0.9.1           C:\\Users\\AKCLAP-05\\anaconda3\\Lib\\site-packages conda\n",
            "rfc3339-validator             0.1.4           C:\\Users\\AKCLAP-05\\anaconda3\\Lib\\site-packages conda\n",
            "rfc3986-validator             0.1.1           C:\\Users\\AKCLAP-05\\anaconda3\\Lib\\site-packages conda\n",
            "rich                          13.5.2          C:\\Users\\AKCLAP-05\\anaconda3\\Lib\\site-packages pip\n",
            "rope                          1.7.0           C:\\Users\\AKCLAP-05\\anaconda3\\Lib\\site-packages conda\n",
            "rsa                           4.9             C:\\Users\\AKCLAP-05\\anaconda3\\Lib\\site-packages pip\n",
            "Rtree                         1.0.1           C:\\Users\\AKCLAP-05\\anaconda3\\Lib\\site-packages conda\n",
            "ruamel.yaml                   0.17.21         C:\\Users\\AKCLAP-05\\anaconda3\\Lib\\site-packages conda\n",
            "ruamel-yaml-conda             0.17.21         C:\\Users\\AKCLAP-05\\anaconda3\\Lib\\site-packages conda\n",
            "s3fs                          2023.3.0        C:\\Users\\AKCLAP-05\\anaconda3\\Lib\\site-packages conda\n",
            "s3transfer                    0.6.0           C:\\Users\\AKCLAP-05\\anaconda3\\Lib\\site-packages conda\n",
            "sacremoses                    0.0.43          C:\\Users\\AKCLAP-05\\anaconda3\\Lib\\site-packages conda\n",
            "scikit-image                  0.20.0          C:\\Users\\AKCLAP-05\\anaconda3\\Lib\\site-packages conda\n",
            "scikit-learn                  1.2.2           C:\\Users\\AKCLAP-05\\anaconda3\\Lib\\site-packages conda\n",
            "scikit-learn-intelex          20230426.121932 C:\\Users\\AKCLAP-05\\anaconda3\\Lib\\site-packages\n",
            "scipy                         1.10.1          C:\\Users\\AKCLAP-05\\anaconda3\\Lib\\site-packages\n",
            "Scrapy                        2.8.0           C:\\Users\\AKCLAP-05\\anaconda3\\Lib\\site-packages conda\n",
            "seaborn                       0.12.2          C:\\Users\\AKCLAP-05\\anaconda3\\Lib\\site-packages conda\n",
            "Send2Trash                    1.8.0           C:\\Users\\AKCLAP-05\\anaconda3\\Lib\\site-packages conda\n",
            "service-identity              18.1.0          C:\\Users\\AKCLAP-05\\anaconda3\\Lib\\site-packages conda\n",
            "setuptools                    67.8.0          C:\\Users\\AKCLAP-05\\anaconda3\\Lib\\site-packages\n",
            "sip                           6.6.2           C:\\Users\\AKCLAP-05\\anaconda3\\Lib\\site-packages conda\n",
            "six                           1.16.0          C:\\Users\\AKCLAP-05\\anaconda3\\Lib\\site-packages conda\n",
            "smart-open                    5.2.1           C:\\Users\\AKCLAP-05\\anaconda3\\Lib\\site-packages conda\n",
            "smmap                         5.0.0           C:\\Users\\AKCLAP-05\\anaconda3\\Lib\\site-packages pip\n",
            "sniffio                       1.2.0           C:\\Users\\AKCLAP-05\\anaconda3\\Lib\\site-packages conda\n",
            "snowballstemmer               2.2.0           C:\\Users\\AKCLAP-05\\anaconda3\\Lib\\site-packages conda\n",
            "sortedcontainers              2.4.0           C:\\Users\\AKCLAP-05\\anaconda3\\Lib\\site-packages conda\n",
            "soupsieve                     2.4             C:\\Users\\AKCLAP-05\\anaconda3\\Lib\\site-packages conda\n",
            "Sphinx                        5.0.2           C:\\Users\\AKCLAP-05\\anaconda3\\Lib\\site-packages conda\n",
            "sphinxcontrib-applehelp       1.0.2           C:\\Users\\AKCLAP-05\\anaconda3\\Lib\\site-packages conda\n",
            "sphinxcontrib-devhelp         1.0.2           C:\\Users\\AKCLAP-05\\anaconda3\\Lib\\site-packages conda\n",
            "sphinxcontrib-htmlhelp        2.0.0           C:\\Users\\AKCLAP-05\\anaconda3\\Lib\\site-packages conda\n",
            "sphinxcontrib-jsmath          1.0.1           C:\\Users\\AKCLAP-05\\anaconda3\\Lib\\site-packages conda\n",
            "sphinxcontrib-qthelp          1.0.3           C:\\Users\\AKCLAP-05\\anaconda3\\Lib\\site-packages conda\n",
            "sphinxcontrib-serializinghtml 1.1.5           C:\\Users\\AKCLAP-05\\anaconda3\\Lib\\site-packages conda\n",
            "spyder                        5.4.3           C:\\Users\\AKCLAP-05\\anaconda3\\Lib\\site-packages conda\n",
            "spyder-kernels                2.4.3           C:\\Users\\AKCLAP-05\\anaconda3\\Lib\\site-packages conda\n",
            "SQLAlchemy                    1.4.39          C:\\Users\\AKCLAP-05\\anaconda3\\Lib\\site-packages conda\n",
            "stack-data                    0.2.0           C:\\Users\\AKCLAP-05\\anaconda3\\Lib\\site-packages conda\n",
            "statsmodels                   0.13.5          C:\\Users\\AKCLAP-05\\anaconda3\\Lib\\site-packages conda\n",
            "streamlit                     1.26.0          C:\\Users\\AKCLAP-05\\anaconda3\\Lib\\site-packages pip\n",
            "streamlit-authenticator       0.2.3           C:\\Users\\AKCLAP-05\\anaconda3\\Lib\\site-packages pip\n",
            "sweetviz                      2.1.4           C:\\Users\\AKCLAP-05\\anaconda3\\Lib\\site-packages pip\n",
            "sympy                         1.11.1          C:\\Users\\AKCLAP-05\\anaconda3\\Lib\\site-packages conda\n",
            "tables                        3.8.0           C:\\Users\\AKCLAP-05\\anaconda3\\Lib\\site-packages conda\n",
            "tabulate                      0.8.10          C:\\Users\\AKCLAP-05\\anaconda3\\Lib\\site-packages conda\n",
            "TBB                           0.2             C:\\Users\\AKCLAP-05\\anaconda3\\Lib\\site-packages\n",
            "tblib                         1.7.0           C:\\Users\\AKCLAP-05\\anaconda3\\Lib\\site-packages conda\n",
            "tenacity                      8.2.2           C:\\Users\\AKCLAP-05\\anaconda3\\Lib\\site-packages conda\n",
            "tensorboard                   2.13.0          C:\\Users\\AKCLAP-05\\anaconda3\\Lib\\site-packages pip\n",
            "tensorboard-data-server       0.7.1           C:\\Users\\AKCLAP-05\\anaconda3\\Lib\\site-packages pip\n",
            "tensorflow                    2.13.0          C:\\Users\\AKCLAP-05\\anaconda3\\Lib\\site-packages pip\n",
            "tensorflow-estimator          2.13.0          C:\\Users\\AKCLAP-05\\anaconda3\\Lib\\site-packages pip\n",
            "tensorflow-hub                0.14.0          C:\\Users\\AKCLAP-05\\anaconda3\\Lib\\site-packages pip\n",
            "tensorflow-intel              2.13.0          C:\\Users\\AKCLAP-05\\anaconda3\\Lib\\site-packages pip\n",
            "tensorflow-io-gcs-filesystem  0.31.0          C:\\Users\\AKCLAP-05\\anaconda3\\Lib\\site-packages pip\n",
            "termcolor                     2.3.0           C:\\Users\\AKCLAP-05\\anaconda3\\Lib\\site-packages pip\n",
            "terminado                     0.17.1          C:\\Users\\AKCLAP-05\\anaconda3\\Lib\\site-packages conda\n",
            "text-unidecode                1.3             C:\\Users\\AKCLAP-05\\anaconda3\\Lib\\site-packages conda\n",
            "textblob                      0.17.1          C:\\Users\\AKCLAP-05\\anaconda3\\Lib\\site-packages pip\n",
            "textdistance                  4.2.1           C:\\Users\\AKCLAP-05\\anaconda3\\Lib\\site-packages conda\n",
            "threadpoolctl                 2.2.0           C:\\Users\\AKCLAP-05\\anaconda3\\Lib\\site-packages conda\n",
            "three-merge                   0.1.1           C:\\Users\\AKCLAP-05\\anaconda3\\Lib\\site-packages conda\n",
            "tifffile                      2021.7.2        C:\\Users\\AKCLAP-05\\anaconda3\\Lib\\site-packages conda\n",
            "tinycss2                      1.2.1           C:\\Users\\AKCLAP-05\\anaconda3\\Lib\\site-packages conda\n",
            "tldextract                    3.2.0           C:\\Users\\AKCLAP-05\\anaconda3\\Lib\\site-packages conda\n",
            "toml                          0.10.2          C:\\Users\\AKCLAP-05\\anaconda3\\Lib\\site-packages conda\n",
            "tomli                         2.0.1           C:\\Users\\AKCLAP-05\\anaconda3\\Lib\\site-packages conda\n",
            "tomlkit                       0.11.1          C:\\Users\\AKCLAP-05\\anaconda3\\Lib\\site-packages conda\n",
            "toolz                         0.12.0          C:\\Users\\AKCLAP-05\\anaconda3\\Lib\\site-packages conda\n",
            "tornado                       6.2             C:\\Users\\AKCLAP-05\\anaconda3\\Lib\\site-packages conda\n",
            "tqdm                          4.65.0          C:\\Users\\AKCLAP-05\\anaconda3\\Lib\\site-packages conda\n",
            "traitlets                     5.7.1           C:\\Users\\AKCLAP-05\\anaconda3\\Lib\\site-packages conda\n",
            "transformers                  2.1.1           C:\\Users\\AKCLAP-05\\anaconda3\\Lib\\site-packages conda\n",
            "Twisted                       22.10.0         C:\\Users\\AKCLAP-05\\anaconda3\\Lib\\site-packages conda\n",
            "twisted-iocpsupport           1.0.2           C:\\Users\\AKCLAP-05\\anaconda3\\Lib\\site-packages conda\n",
            "typing_extensions             4.5.0           C:\\Users\\AKCLAP-05\\anaconda3\\Lib\\site-packages pip\n",
            "tzdata                        2023.3          C:\\Users\\AKCLAP-05\\anaconda3\\Lib\\site-packages pip\n",
            "tzlocal                       4.3.1           C:\\Users\\AKCLAP-05\\anaconda3\\Lib\\site-packages pip\n",
            "uc-micro-py                   1.0.1           C:\\Users\\AKCLAP-05\\anaconda3\\Lib\\site-packages conda\n",
            "ujson                         5.4.0           C:\\Users\\AKCLAP-05\\anaconda3\\Lib\\site-packages conda\n",
            "Unidecode                     1.2.0           C:\\Users\\AKCLAP-05\\anaconda3\\Lib\\site-packages conda\n",
            "urllib3                       1.26.16         C:\\Users\\AKCLAP-05\\anaconda3\\Lib\\site-packages conda\n",
            "validators                    0.22.0          C:\\Users\\AKCLAP-05\\anaconda3\\Lib\\site-packages pip\n",
            "w3lib                         1.21.0          C:\\Users\\AKCLAP-05\\anaconda3\\Lib\\site-packages conda\n",
            "watchdog                      2.1.6           C:\\Users\\AKCLAP-05\\anaconda3\\Lib\\site-packages conda\n",
            "wcwidth                       0.2.5           C:\\Users\\AKCLAP-05\\anaconda3\\Lib\\site-packages conda\n",
            "webencodings                  0.5.1           C:\\Users\\AKCLAP-05\\anaconda3\\Lib\\site-packages\n",
            "websocket-client              0.58.0          C:\\Users\\AKCLAP-05\\anaconda3\\Lib\\site-packages conda\n",
            "Werkzeug                      2.2.3           C:\\Users\\AKCLAP-05\\anaconda3\\Lib\\site-packages conda\n",
            "whatthepatch                  1.0.2           C:\\Users\\AKCLAP-05\\anaconda3\\Lib\\site-packages conda\n",
            "wheel                         0.38.4          C:\\Users\\AKCLAP-05\\anaconda3\\Lib\\site-packages\n",
            "widgetsnbextension            4.0.5           C:\\Users\\AKCLAP-05\\anaconda3\\Lib\\site-packages conda\n",
            "win-inet-pton                 1.1.0           C:\\Users\\AKCLAP-05\\anaconda3\\Lib\\site-packages conda\n",
            "wordcloud                     1.9.2           C:\\Users\\AKCLAP-05\\anaconda3\\Lib\\site-packages pip\n",
            "wrapt                         1.14.1          C:\\Users\\AKCLAP-05\\anaconda3\\Lib\\site-packages conda\n",
            "xarray                        2022.11.0       C:\\Users\\AKCLAP-05\\anaconda3\\Lib\\site-packages conda\n",
            "xgboost                       1.7.6           C:\\Users\\AKCLAP-05\\anaconda3\\Lib\\site-packages pip\n",
            "xlrd                          2.0.1           C:\\Users\\AKCLAP-05\\anaconda3\\Lib\\site-packages pip\n",
            "xlwings                       0.29.1          C:\\Users\\AKCLAP-05\\anaconda3\\Lib\\site-packages conda\n",
            "xyzservices                   2022.9.0        C:\\Users\\AKCLAP-05\\anaconda3\\Lib\\site-packages conda\n",
            "y-py                          0.5.9           C:\\Users\\AKCLAP-05\\anaconda3\\Lib\\site-packages conda\n",
            "yapf                          0.31.0          C:\\Users\\AKCLAP-05\\anaconda3\\Lib\\site-packages conda\n",
            "yarl                          1.8.1           C:\\Users\\AKCLAP-05\\anaconda3\\Lib\\site-packages conda\n",
            "ypy-websocket                 0.8.2           C:\\Users\\AKCLAP-05\\anaconda3\\Lib\\site-packages conda\n",
            "zict                          2.2.0           C:\\Users\\AKCLAP-05\\anaconda3\\Lib\\site-packages conda\n",
            "zipp                          3.11.0          C:\\Users\\AKCLAP-05\\anaconda3\\Lib\\site-packages conda\n",
            "zope.interface                5.4.0           C:\\Users\\AKCLAP-05\\anaconda3\\Lib\\site-packages conda\n",
            "zstandard                     0.19.0          C:\\Users\\AKCLAP-05\\anaconda3\\Lib\\site-packages\n",
            "Note: you may need to restart the kernel to use updated packages.\n"
          ]
        }
      ],
      "source": [
        "pip list -v"
      ]
    },
    {
      "cell_type": "code",
      "execution_count": null,
      "id": "1d6460e0",
      "metadata": {
        "id": "1d6460e0",
        "outputId": "0761f469-509a-4d20-97f1-6a740405417e"
      },
      "outputs": [
        {
          "name": "stdout",
          "output_type": "stream",
          "text": [
            "<class 'str'>\n"
          ]
        }
      ],
      "source": [
        "a = 'apple'\n",
        "print(type(a))"
      ]
    },
    {
      "cell_type": "code",
      "execution_count": null,
      "id": "68de0a81",
      "metadata": {
        "id": "68de0a81",
        "outputId": "5d6583cc-9952-40f5-e510-b7a375ba905f"
      },
      "outputs": [
        {
          "data": {
            "text/plain": [
              "'APPLE'"
            ]
          },
          "execution_count": 8,
          "metadata": {},
          "output_type": "execute_result"
        }
      ],
      "source": [
        "a.upper()"
      ]
    },
    {
      "cell_type": "code",
      "execution_count": null,
      "id": "49c645ec",
      "metadata": {
        "id": "49c645ec",
        "outputId": "2f08b90c-3535-4a65-ce21-21b9926551a2"
      },
      "outputs": [
        {
          "name": "stdout",
          "output_type": "stream",
          "text": [
            "<class 'int'>\n"
          ]
        }
      ],
      "source": [
        "b = 12\n",
        "print(type(b))"
      ]
    },
    {
      "cell_type": "code",
      "execution_count": null,
      "id": "1630ed45",
      "metadata": {
        "id": "1630ed45",
        "outputId": "ccebfe97-6848-41ce-ac72-8eb5e01477ad"
      },
      "outputs": [
        {
          "ename": "AttributeError",
          "evalue": "'int' object has no attribute 'upper'",
          "output_type": "error",
          "traceback": [
            "\u001b[1;31m---------------------------------------------------------------------------\u001b[0m",
            "\u001b[1;31mAttributeError\u001b[0m                            Traceback (most recent call last)",
            "Cell \u001b[1;32mIn[9], line 1\u001b[0m\n\u001b[1;32m----> 1\u001b[0m b\u001b[38;5;241m.\u001b[39mupper()\n",
            "\u001b[1;31mAttributeError\u001b[0m: 'int' object has no attribute 'upper'"
          ]
        }
      ],
      "source": [
        "b.upper()"
      ]
    },
    {
      "cell_type": "code",
      "execution_count": null,
      "id": "d6ba9ea1",
      "metadata": {
        "id": "d6ba9ea1",
        "outputId": "7083d202-9bd7-43d3-cab6-db1d70459cf2"
      },
      "outputs": [
        {
          "data": {
            "text/plain": [
              "str"
            ]
          },
          "execution_count": 7,
          "metadata": {},
          "output_type": "execute_result"
        }
      ],
      "source": [
        "type(a)"
      ]
    },
    {
      "cell_type": "code",
      "execution_count": null,
      "id": "4c308f68",
      "metadata": {
        "id": "4c308f68"
      },
      "outputs": [],
      "source": [
        "from datetime import date"
      ]
    },
    {
      "cell_type": "code",
      "execution_count": null,
      "id": "5a17660f",
      "metadata": {
        "id": "5a17660f"
      },
      "outputs": [],
      "source": [
        "# str int float bool datetime.date"
      ]
    },
    {
      "cell_type": "code",
      "execution_count": null,
      "id": "1370df2d",
      "metadata": {
        "id": "1370df2d"
      },
      "outputs": [],
      "source": [
        "mydate = date(2024,1,24)"
      ]
    },
    {
      "cell_type": "code",
      "execution_count": null,
      "id": "1c7604f1",
      "metadata": {
        "id": "1c7604f1",
        "outputId": "03a2f4d0-0ff4-427b-aefc-629a964d56e8"
      },
      "outputs": [
        {
          "name": "stdout",
          "output_type": "stream",
          "text": [
            "<class 'datetime.date'>\n"
          ]
        }
      ],
      "source": [
        "print(type(mydate))"
      ]
    },
    {
      "cell_type": "code",
      "execution_count": null,
      "id": "e38b7dbe",
      "metadata": {
        "id": "e38b7dbe",
        "outputId": "287c9ac1-8a9e-4183-abe3-67054f460e9a"
      },
      "outputs": [
        {
          "data": {
            "text/plain": [
              "datetime.date(2024, 1, 24)"
            ]
          },
          "execution_count": 10,
          "metadata": {},
          "output_type": "execute_result"
        }
      ],
      "source": [
        "mydate.today()"
      ]
    },
    {
      "cell_type": "code",
      "execution_count": null,
      "id": "2cffc14a",
      "metadata": {
        "id": "2cffc14a",
        "outputId": "60116cfe-35ee-495a-ff8e-6dd3316c5314"
      },
      "outputs": [
        {
          "name": "stdout",
          "output_type": "stream",
          "text": [
            "2024\n",
            "1\n",
            "24\n"
          ]
        }
      ],
      "source": [
        "print(mydate.year)\n",
        "print(mydate.month)\n",
        "print(mydate.day)"
      ]
    },
    {
      "cell_type": "code",
      "execution_count": null,
      "id": "f5c5817f",
      "metadata": {
        "id": "f5c5817f",
        "outputId": "0adb1852-efdc-4999-e557-a02433a771b3"
      },
      "outputs": [
        {
          "ename": "AttributeError",
          "evalue": "'datetime.date' object has no attribute 'tomorrow'",
          "output_type": "error",
          "traceback": [
            "\u001b[1;31m---------------------------------------------------------------------------\u001b[0m",
            "\u001b[1;31mAttributeError\u001b[0m                            Traceback (most recent call last)",
            "Cell \u001b[1;32mIn[14], line 1\u001b[0m\n\u001b[1;32m----> 1\u001b[0m mydate\u001b[38;5;241m.\u001b[39mtomorrow\n",
            "\u001b[1;31mAttributeError\u001b[0m: 'datetime.date' object has no attribute 'tomorrow'"
          ]
        }
      ],
      "source": [
        "mydate.tomorrow"
      ]
    },
    {
      "cell_type": "code",
      "execution_count": null,
      "id": "60ce0dae",
      "metadata": {
        "id": "60ce0dae"
      },
      "outputs": [],
      "source": [
        "from datetime import datetime as dt"
      ]
    },
    {
      "cell_type": "code",
      "execution_count": null,
      "id": "5a29babd",
      "metadata": {
        "id": "5a29babd"
      },
      "outputs": [],
      "source": [
        "dt1 = dt.now()"
      ]
    },
    {
      "cell_type": "code",
      "execution_count": null,
      "id": "9a876b77",
      "metadata": {
        "id": "9a876b77",
        "outputId": "521867f2-9c7b-43cc-ed94-5b961d9a6ee2"
      },
      "outputs": [
        {
          "name": "stdout",
          "output_type": "stream",
          "text": [
            "<class 'datetime.datetime'>\n"
          ]
        }
      ],
      "source": [
        "print(type(dt1))"
      ]
    },
    {
      "cell_type": "code",
      "execution_count": null,
      "id": "bb8cbd2e",
      "metadata": {
        "id": "bb8cbd2e",
        "outputId": "a3e2de1b-3796-4dd3-ba79-e90e9003ff4c"
      },
      "outputs": [
        {
          "name": "stdout",
          "output_type": "stream",
          "text": [
            "24\n",
            "1\n",
            "24\n",
            "21\n",
            "24\n",
            "49\n",
            "634291\n"
          ]
        }
      ],
      "source": [
        "print(dt1.day)\n",
        "print(dt1.month)\n",
        "print(dt1.day)\n",
        "print(dt1.hour)\n",
        "print(dt1.minute)\n",
        "print(dt1.second)\n",
        "print(dt1.microsecond)"
      ]
    },
    {
      "cell_type": "code",
      "execution_count": null,
      "id": "30f2751d",
      "metadata": {
        "id": "30f2751d",
        "outputId": "898c779f-4706-406d-b9d5-6b4b48cc6a23"
      },
      "outputs": [
        {
          "name": "stdout",
          "output_type": "stream",
          "text": [
            "<class 'datetime.date'>\n"
          ]
        }
      ],
      "source": [
        "mydate = date(2024,1,24)\n",
        "print(type(mydate))"
      ]
    },
    {
      "cell_type": "code",
      "execution_count": null,
      "id": "5651d7fe",
      "metadata": {
        "id": "5651d7fe"
      },
      "outputs": [],
      "source": [
        "from datetime import time"
      ]
    },
    {
      "cell_type": "code",
      "execution_count": null,
      "id": "24793069",
      "metadata": {
        "id": "24793069"
      },
      "outputs": [],
      "source": [
        "mytime = time(5,10,45,789)"
      ]
    },
    {
      "cell_type": "code",
      "execution_count": null,
      "id": "d0fa25b9",
      "metadata": {
        "id": "d0fa25b9",
        "outputId": "a6031376-af1b-44b6-d828-6f3f39a930d8"
      },
      "outputs": [
        {
          "data": {
            "text/plain": [
              "789"
            ]
          },
          "execution_count": 47,
          "metadata": {},
          "output_type": "execute_result"
        }
      ],
      "source": [
        "# After '.' press tab\n",
        "mytime.microsecond"
      ]
    },
    {
      "cell_type": "markdown",
      "id": "29e8bf39",
      "metadata": {
        "id": "29e8bf39"
      },
      "source": [
        "### DataStructures"
      ]
    },
    {
      "cell_type": "code",
      "execution_count": null,
      "id": "62e4fdc6",
      "metadata": {
        "id": "62e4fdc6"
      },
      "outputs": [],
      "source": [
        "# List\n",
        "a = [1,7,8,56,32]\n",
        "b = [2,'apple',6.43,True,34,7.9]\n",
        "c = [45,'apple',[4,5,6],89] #Nested list"
      ]
    },
    {
      "cell_type": "code",
      "execution_count": null,
      "id": "a00561bd",
      "metadata": {
        "id": "a00561bd",
        "outputId": "91af3c87-eea9-4af3-98fe-453944ab464a"
      },
      "outputs": [
        {
          "name": "stdout",
          "output_type": "stream",
          "text": [
            "8\n",
            "8\n",
            "apple\n",
            "[4, 5, 6]\n",
            "6\n",
            "[7, 8, 56]\n"
          ]
        }
      ],
      "source": [
        "print(a[2])\n",
        "print(a[-3])\n",
        "print(b[1])\n",
        "print(c[2])\n",
        "print(c[2][2])\n",
        "print(a[1:4:1])"
      ]
    },
    {
      "cell_type": "code",
      "execution_count": null,
      "id": "51eb668b",
      "metadata": {
        "id": "51eb668b",
        "outputId": "b696ea7d-10d1-43a2-971d-705e0f2fb3d1"
      },
      "outputs": [
        {
          "name": "stdout",
          "output_type": "stream",
          "text": [
            "<class 'list'>\n"
          ]
        }
      ],
      "source": [
        "print(type(a))"
      ]
    },
    {
      "cell_type": "code",
      "execution_count": null,
      "id": "900ef1ee",
      "metadata": {
        "id": "900ef1ee",
        "outputId": "b23de8db-2ad9-410b-d7d0-0ac79545b2c7"
      },
      "outputs": [
        {
          "name": "stdout",
          "output_type": "stream",
          "text": [
            "[1, 7, 8, 56, 32]\n"
          ]
        }
      ],
      "source": [
        "print(a)"
      ]
    },
    {
      "cell_type": "markdown",
      "id": "a4d1f731",
      "metadata": {
        "id": "a4d1f731"
      },
      "source": [
        "## Add , Remove & Change Items\n",
        "\n",
        "* Lists are mutuable"
      ]
    },
    {
      "cell_type": "code",
      "execution_count": null,
      "id": "fc4264aa",
      "metadata": {
        "id": "fc4264aa"
      },
      "outputs": [],
      "source": [
        "## add 100 to a\n",
        "a.append(100)"
      ]
    },
    {
      "cell_type": "code",
      "execution_count": null,
      "id": "a2fb48a3",
      "metadata": {
        "id": "a2fb48a3",
        "outputId": "87274f8d-4a1b-45bd-da11-3134bd0b068a"
      },
      "outputs": [
        {
          "name": "stdout",
          "output_type": "stream",
          "text": [
            "[1, 7, 8, 56, 32, 100]\n"
          ]
        }
      ],
      "source": [
        "print(a)"
      ]
    },
    {
      "cell_type": "code",
      "execution_count": null,
      "id": "29d867cb",
      "metadata": {
        "id": "29d867cb"
      },
      "outputs": [],
      "source": [
        "## add 50 between 8 and 56\n",
        "a.insert(3,50)"
      ]
    },
    {
      "cell_type": "code",
      "execution_count": null,
      "id": "23e21233",
      "metadata": {
        "id": "23e21233",
        "outputId": "ec276cb5-aadb-4602-fdb5-128f16ec5a13"
      },
      "outputs": [
        {
          "name": "stdout",
          "output_type": "stream",
          "text": [
            "[1, 7, 8, 50, 56, 32, 100]\n"
          ]
        }
      ],
      "source": [
        "print(a)"
      ]
    },
    {
      "cell_type": "code",
      "execution_count": null,
      "id": "911de394",
      "metadata": {
        "id": "911de394"
      },
      "outputs": [],
      "source": [
        "list1 = [200,300]\n",
        "a.extend(list1)"
      ]
    },
    {
      "cell_type": "code",
      "execution_count": null,
      "id": "d407e25d",
      "metadata": {
        "id": "d407e25d",
        "outputId": "08777e4e-d627-48c1-8219-131260f633c7"
      },
      "outputs": [
        {
          "data": {
            "text/plain": [
              "[1, 7, 8, 50, 56, 32, 100, 200, 300]"
            ]
          },
          "execution_count": 70,
          "metadata": {},
          "output_type": "execute_result"
        }
      ],
      "source": [
        "a"
      ]
    },
    {
      "cell_type": "code",
      "execution_count": null,
      "id": "cbbdd431",
      "metadata": {
        "id": "cbbdd431",
        "outputId": "263047ce-87e8-46fd-8327-f59ff9345698"
      },
      "outputs": [
        {
          "data": {
            "text/plain": [
              "300"
            ]
          },
          "execution_count": 71,
          "metadata": {},
          "output_type": "execute_result"
        }
      ],
      "source": [
        "a.pop()"
      ]
    },
    {
      "cell_type": "code",
      "execution_count": null,
      "id": "698251c8",
      "metadata": {
        "id": "698251c8",
        "outputId": "3d4038eb-ff0c-4918-d0b1-75ee6ed56eda"
      },
      "outputs": [
        {
          "data": {
            "text/plain": [
              "[1, 7, 8, 50, 56, 32, 100, 200]"
            ]
          },
          "execution_count": 72,
          "metadata": {},
          "output_type": "execute_result"
        }
      ],
      "source": [
        "a"
      ]
    },
    {
      "cell_type": "code",
      "execution_count": null,
      "id": "a255554b",
      "metadata": {
        "id": "a255554b",
        "outputId": "e0df91d6-d1f3-4ebb-e80b-8792a2f621b6"
      },
      "outputs": [
        {
          "data": {
            "text/plain": [
              "32"
            ]
          },
          "execution_count": 73,
          "metadata": {},
          "output_type": "execute_result"
        }
      ],
      "source": [
        "a.pop(5)"
      ]
    },
    {
      "cell_type": "code",
      "execution_count": null,
      "id": "993792b5",
      "metadata": {
        "id": "993792b5",
        "outputId": "a111676b-37f0-4c08-92db-7ac2228edc2e"
      },
      "outputs": [
        {
          "data": {
            "text/plain": [
              "[1, 7, 8, 50, 56, 100, 200]"
            ]
          },
          "execution_count": 74,
          "metadata": {},
          "output_type": "execute_result"
        }
      ],
      "source": [
        "a"
      ]
    },
    {
      "cell_type": "code",
      "execution_count": null,
      "id": "b103f27d",
      "metadata": {
        "id": "b103f27d"
      },
      "outputs": [],
      "source": [
        "a.remove(50)"
      ]
    },
    {
      "cell_type": "code",
      "execution_count": null,
      "id": "9ab72b3c",
      "metadata": {
        "id": "9ab72b3c",
        "outputId": "27b2b0bd-d484-4ee2-ffaf-506dd411ec8e"
      },
      "outputs": [
        {
          "data": {
            "text/plain": [
              "[1, 7, 8, 56, 100, 200]"
            ]
          },
          "execution_count": 76,
          "metadata": {},
          "output_type": "execute_result"
        }
      ],
      "source": [
        "a"
      ]
    },
    {
      "cell_type": "code",
      "execution_count": null,
      "id": "2d44160f",
      "metadata": {
        "id": "2d44160f"
      },
      "outputs": [],
      "source": [
        "del a[1]"
      ]
    },
    {
      "cell_type": "code",
      "execution_count": null,
      "id": "9834126e",
      "metadata": {
        "id": "9834126e",
        "outputId": "2355270f-6fd6-45b4-99a3-d5e7a50c78b9"
      },
      "outputs": [
        {
          "data": {
            "text/plain": [
              "[1, 8, 56, 100, 200]"
            ]
          },
          "execution_count": 78,
          "metadata": {},
          "output_type": "execute_result"
        }
      ],
      "source": [
        "a"
      ]
    },
    {
      "cell_type": "code",
      "execution_count": null,
      "id": "a6d97a8a",
      "metadata": {
        "id": "a6d97a8a"
      },
      "outputs": [],
      "source": [
        "a.clear()"
      ]
    },
    {
      "cell_type": "code",
      "execution_count": null,
      "id": "1cdabf35",
      "metadata": {
        "id": "1cdabf35",
        "outputId": "3a945c6a-1d93-4621-fc21-3c02ef9c1633"
      },
      "outputs": [
        {
          "data": {
            "text/plain": [
              "[]"
            ]
          },
          "execution_count": 80,
          "metadata": {},
          "output_type": "execute_result"
        }
      ],
      "source": [
        "a"
      ]
    },
    {
      "cell_type": "code",
      "execution_count": null,
      "id": "417ba3c5",
      "metadata": {
        "id": "417ba3c5",
        "outputId": "a0e0a717-0e79-4aac-d73c-1117e62e48dd"
      },
      "outputs": [
        {
          "data": {
            "text/plain": [
              "[2, 'apple', 6.43, True, 34, 7.9]"
            ]
          },
          "execution_count": 81,
          "metadata": {},
          "output_type": "execute_result"
        }
      ],
      "source": [
        "b"
      ]
    },
    {
      "cell_type": "code",
      "execution_count": null,
      "id": "d7fb1999",
      "metadata": {
        "id": "d7fb1999",
        "outputId": "1a9719c9-65ee-4024-e605-312accf6be67"
      },
      "outputs": [
        {
          "name": "stdout",
          "output_type": "stream",
          "text": [
            "True\n",
            "False\n"
          ]
        }
      ],
      "source": [
        "## List membership\n",
        "print('apple' in b)\n",
        "print('ball' in b)"
      ]
    },
    {
      "cell_type": "code",
      "execution_count": null,
      "id": "19b32e4d",
      "metadata": {
        "id": "19b32e4d"
      },
      "outputs": [],
      "source": [
        "mylist = [45,23,67,34,12,90]\n",
        "mylist.reverse()"
      ]
    },
    {
      "cell_type": "code",
      "execution_count": null,
      "id": "f6e9e608",
      "metadata": {
        "id": "f6e9e608",
        "outputId": "d31f73f3-5674-4d69-856b-8c045a1e82f5"
      },
      "outputs": [
        {
          "data": {
            "text/plain": [
              "[90, 12, 34, 67, 23, 45]"
            ]
          },
          "execution_count": 86,
          "metadata": {},
          "output_type": "execute_result"
        }
      ],
      "source": [
        "mylist"
      ]
    },
    {
      "cell_type": "code",
      "execution_count": null,
      "id": "8942a625",
      "metadata": {
        "id": "8942a625"
      },
      "outputs": [],
      "source": [
        "mylist.sort(reverse = False) ## ascending sort"
      ]
    },
    {
      "cell_type": "code",
      "execution_count": null,
      "id": "b2155eb7",
      "metadata": {
        "id": "b2155eb7",
        "outputId": "e803d598-3e1f-4cb5-9937-bf9d66224e16"
      },
      "outputs": [
        {
          "data": {
            "text/plain": [
              "[12, 23, 34, 45, 67, 90]"
            ]
          },
          "execution_count": 88,
          "metadata": {},
          "output_type": "execute_result"
        }
      ],
      "source": [
        "mylist"
      ]
    },
    {
      "cell_type": "code",
      "execution_count": null,
      "id": "8672a205",
      "metadata": {
        "id": "8672a205"
      },
      "outputs": [],
      "source": [
        "mylist.sort(reverse=True) ## Descending sort"
      ]
    },
    {
      "cell_type": "code",
      "execution_count": null,
      "id": "1f8c4d40",
      "metadata": {
        "id": "1f8c4d40",
        "outputId": "e8eb6405-62cf-430a-f844-a62651937035"
      },
      "outputs": [
        {
          "data": {
            "text/plain": [
              "[90, 67, 45, 34, 23, 12]"
            ]
          },
          "execution_count": 91,
          "metadata": {},
          "output_type": "execute_result"
        }
      ],
      "source": [
        "mylist"
      ]
    },
    {
      "cell_type": "markdown",
      "id": "350caea6",
      "metadata": {
        "id": "350caea6"
      },
      "source": [
        "# Tuple\n",
        "\n",
        "* ()\n",
        "* immutable\n",
        "* sequential stroing of data"
      ]
    },
    {
      "cell_type": "code",
      "execution_count": null,
      "id": "4c4f1231",
      "metadata": {
        "id": "4c4f1231"
      },
      "outputs": [],
      "source": [
        "a = (2,3,4,5,6,7,8)\n",
        "b = (34,'apple',True)\n",
        "c = (34,56,(1,2,3),8)"
      ]
    },
    {
      "cell_type": "code",
      "execution_count": null,
      "id": "1cd735c6",
      "metadata": {
        "id": "1cd735c6",
        "outputId": "1408246e-12b2-4f34-96c0-cdec88b3997d"
      },
      "outputs": [
        {
          "name": "stdout",
          "output_type": "stream",
          "text": [
            "4\n",
            "apple\n",
            "(4, 5, 6)\n"
          ]
        }
      ],
      "source": [
        "## indexing and slicing\n",
        "print(a[2])\n",
        "print(b[1])\n",
        "print(a[2:5])"
      ]
    },
    {
      "cell_type": "code",
      "execution_count": null,
      "id": "4ae4d075",
      "metadata": {
        "id": "4ae4d075",
        "outputId": "8c8d88d5-c300-43c6-c447-b1df3dc88de4"
      },
      "outputs": [
        {
          "ename": "TypeError",
          "evalue": "'tuple' object doesn't support item deletion",
          "output_type": "error",
          "traceback": [
            "\u001b[1;31m---------------------------------------------------------------------------\u001b[0m",
            "\u001b[1;31mTypeError\u001b[0m                                 Traceback (most recent call last)",
            "Cell \u001b[1;32mIn[98], line 1\u001b[0m\n\u001b[1;32m----> 1\u001b[0m \u001b[38;5;28;01mdel\u001b[39;00m a[\u001b[38;5;241m1\u001b[39m]\n",
            "\u001b[1;31mTypeError\u001b[0m: 'tuple' object doesn't support item deletion"
          ]
        }
      ],
      "source": [
        "del a[1]"
      ]
    },
    {
      "cell_type": "code",
      "execution_count": null,
      "id": "5cc28959",
      "metadata": {
        "id": "5cc28959",
        "outputId": "45e8ee6a-612d-452c-a1a9-de8ff122d4d5"
      },
      "outputs": [
        {
          "ename": "AttributeError",
          "evalue": "'tuple' object has no attribute 'pop'",
          "output_type": "error",
          "traceback": [
            "\u001b[1;31m---------------------------------------------------------------------------\u001b[0m",
            "\u001b[1;31mAttributeError\u001b[0m                            Traceback (most recent call last)",
            "Cell \u001b[1;32mIn[97], line 1\u001b[0m\n\u001b[1;32m----> 1\u001b[0m a\u001b[38;5;241m.\u001b[39mpop(\u001b[38;5;241m1\u001b[39m)\n",
            "\u001b[1;31mAttributeError\u001b[0m: 'tuple' object has no attribute 'pop'"
          ]
        }
      ],
      "source": [
        "a.pop(1)"
      ]
    },
    {
      "cell_type": "code",
      "execution_count": null,
      "id": "17378b2b",
      "metadata": {
        "id": "17378b2b"
      },
      "outputs": [],
      "source": [
        "d = (12,20,34,12,20,12)"
      ]
    },
    {
      "cell_type": "code",
      "execution_count": null,
      "id": "3118f092",
      "metadata": {
        "id": "3118f092",
        "outputId": "cc2bc81c-a710-4091-83ab-fa1f87a769f1"
      },
      "outputs": [
        {
          "data": {
            "text/plain": [
              "3"
            ]
          },
          "execution_count": 103,
          "metadata": {},
          "output_type": "execute_result"
        }
      ],
      "source": [
        "d.count(12)"
      ]
    },
    {
      "cell_type": "code",
      "execution_count": null,
      "id": "ef7e2a1c",
      "metadata": {
        "id": "ef7e2a1c",
        "outputId": "b5818022-9f2b-4958-a371-c18d1f9c6c73"
      },
      "outputs": [
        {
          "data": {
            "text/plain": [
              "[12, 12, 12, 20, 20, 34]"
            ]
          },
          "execution_count": 105,
          "metadata": {},
          "output_type": "execute_result"
        }
      ],
      "source": [
        "sorted(d)"
      ]
    },
    {
      "cell_type": "code",
      "execution_count": null,
      "id": "ae2358da",
      "metadata": {
        "id": "ae2358da",
        "outputId": "98e491a7-4a3f-4cb0-dee5-de72edcd5a50"
      },
      "outputs": [
        {
          "data": {
            "text/plain": [
              "(12, 20, 34, 12, 20, 12)"
            ]
          },
          "execution_count": 106,
          "metadata": {},
          "output_type": "execute_result"
        }
      ],
      "source": [
        "d"
      ]
    },
    {
      "cell_type": "code",
      "execution_count": null,
      "id": "f4bfd86c",
      "metadata": {
        "id": "f4bfd86c",
        "outputId": "f40bbf7e-6681-477b-9a2f-115c51229eb1"
      },
      "outputs": [
        {
          "ename": "AttributeError",
          "evalue": "'tuple' object has no attribute 'sort'",
          "output_type": "error",
          "traceback": [
            "\u001b[1;31m---------------------------------------------------------------------------\u001b[0m",
            "\u001b[1;31mAttributeError\u001b[0m                            Traceback (most recent call last)",
            "Cell \u001b[1;32mIn[104], line 1\u001b[0m\n\u001b[1;32m----> 1\u001b[0m d\u001b[38;5;241m.\u001b[39msort()\n",
            "\u001b[1;31mAttributeError\u001b[0m: 'tuple' object has no attribute 'sort'"
          ]
        }
      ],
      "source": [
        "d.sort()"
      ]
    },
    {
      "cell_type": "code",
      "execution_count": null,
      "id": "627afbde",
      "metadata": {
        "id": "627afbde"
      },
      "outputs": [],
      "source": []
    }
  ],
  "metadata": {
    "kernelspec": {
      "display_name": "Python 3 (ipykernel)",
      "language": "python",
      "name": "python3"
    },
    "language_info": {
      "codemirror_mode": {
        "name": "ipython",
        "version": 3
      },
      "file_extension": ".py",
      "mimetype": "text/x-python",
      "name": "python",
      "nbconvert_exporter": "python",
      "pygments_lexer": "ipython3",
      "version": "3.11.3"
    },
    "colab": {
      "provenance": [],
      "include_colab_link": true
    }
  },
  "nbformat": 4,
  "nbformat_minor": 5
}